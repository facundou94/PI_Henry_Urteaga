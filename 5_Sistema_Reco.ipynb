{
 "cells": [
  {
   "cell_type": "markdown",
   "metadata": {},
   "source": [
    "### Proyecto Individual Henry\n",
    "**5_Sistema_Reco**  \n",
    "Sistema de Recomendación\n",
    "**Autor: Bioing. Urteaga Facundo Nahuel**  \n",
    "\n",
    "**Resumen:** Este script comprende las siguientes etapas:\n",
    "\n",
    "1. **Carga de librerías**\n",
    "2. **Carga de datos (archivo .parquet)**\n",
    "3. **Pre-procesamiento de dataframes para el análisis posterior**\n",
    "4. **Primer entrenamiento del modelo (V1)**\n",
    "5. **Segundo entrenamiento del modelo (V2)**\n",
    "6. **Tercer entrenamiento del modelo (V3)**\n",
    "7. **Cuarto entrenamiento del modelo (V4)**"
   ]
  },
  {
   "cell_type": "code",
   "execution_count": 154,
   "metadata": {},
   "outputs": [],
   "source": [
    "# 1. Carga de librerías\n",
    "\n",
    "import numpy as np\n",
    "import pandas as pd\n",
    "from sklearn.neighbors import NearestNeighbors"
   ]
  },
  {
   "cell_type": "code",
   "execution_count": 254,
   "metadata": {},
   "outputs": [],
   "source": [
    "# 2. Carga de dataframes\n",
    "\n",
    "df_games_tec = pd.read_parquet('df_games_tec.parquet')\n",
    "df_games_genres = pd.read_parquet('df_games_genres.parquet')\n",
    "df_games_specs = pd.read_parquet('df_games_specs.parquet')\n",
    "df_games_tags = pd.read_parquet('df_games_tags.parquet')"
   ]
  },
  {
   "cell_type": "code",
   "execution_count": 255,
   "metadata": {},
   "outputs": [
    {
     "data": {
      "text/plain": [
       "Index(['item_id', 'genres', 'Utilities', 'Racing', 'Massively Multiplayer',\n",
       "       'Sports', 'Action', 'Audio Production', 'Indie', 'Web Publishing',\n",
       "       'RPG', 'Photo Editing', 'Casual', 'Software Training',\n",
       "       'Animation &amp; Modeling', 'Design &amp; Illustration', 'Simulation',\n",
       "       'Adventure', 'Early Access', 'Video Production', 'Education',\n",
       "       'Accounting', 'Free to Play', 'Strategy'],\n",
       "      dtype='object')"
      ]
     },
     "execution_count": 255,
     "metadata": {},
     "output_type": "execute_result"
    }
   ],
   "source": [
    "df_games_genres.columns"
   ]
  },
  {
   "cell_type": "code",
   "execution_count": 138,
   "metadata": {},
   "outputs": [],
   "source": [
    "# 3. Pre-procesamiento de dataframes para el análisis posterior\n",
    "\n",
    "df_games_names = df_games_tec[['item_id', 'app_name']]\n",
    "df_games_genres = df_games_genres.drop(columns=['genres'])\n",
    "df_games_specs = df_games_specs.drop(columns=['specs'])\n",
    "df_games_tags = df_games_tags.drop(columns=['tags'])\n",
    "\n",
    "# Realiza un join de los DataFrames df1 y df2\n",
    "merged_df_1 = pd.merge(df_games_names, df_games_genres, on='item_id', how='inner')\n",
    "\n",
    "# Realiza un join de merged_df con df3\n",
    "merged_df_2 = pd.merge(merged_df_1, df_games_specs, on='item_id', how='inner')\n",
    "\n",
    "# Realiza un join de merged_df con df3\n",
    "merged_df_final = pd.merge(merged_df_2, df_games_tags, on='item_id', how='inner')"
   ]
  },
  {
   "cell_type": "code",
   "execution_count": 4,
   "metadata": {},
   "outputs": [
    {
     "data": {
      "text/plain": [
       "403"
      ]
     },
     "execution_count": 4,
     "metadata": {},
     "output_type": "execute_result"
    }
   ],
   "source": [
    "len(merged_df_final.columns)"
   ]
  },
  {
   "cell_type": "code",
   "execution_count": 5,
   "metadata": {},
   "outputs": [],
   "source": [
    "games_dummies = merged_df_final.drop(columns=['item_id', 'app_name'])"
   ]
  },
  {
   "cell_type": "code",
   "execution_count": 6,
   "metadata": {},
   "outputs": [],
   "source": [
    "# 4. Primer entrenamiento del modelo (V1)\n",
    "\n",
    "n_neighbors=6\n",
    "\n",
    "nneighbors = NearestNeighbors(n_neighbors = n_neighbors, metric = 'cosine').fit(games_dummies)"
   ]
  },
  {
   "cell_type": "code",
   "execution_count": 7,
   "metadata": {},
   "outputs": [
    {
     "name": "stderr",
     "output_type": "stream",
     "text": [
      "C:\\Users\\Facundo\\AppData\\Local\\Packages\\PythonSoftwareFoundation.Python.3.11_qbz5n2kfra8p0\\LocalCache\\local-packages\\Python311\\site-packages\\sklearn\\base.py:465: UserWarning: X does not have valid feature names, but NearestNeighbors was fitted with feature names\n",
      "  warnings.warn(\n"
     ]
    }
   ],
   "source": [
    "index = 32108\n",
    "game_eval = np.array(games_dummies.iloc[index]).reshape(1,-1)\n",
    "\n",
    "\n",
    "dif, ind = nneighbors.kneighbors(game_eval)\n"
   ]
  },
  {
   "cell_type": "code",
   "execution_count": 8,
   "metadata": {},
   "outputs": [
    {
     "name": "stdout",
     "output_type": "stream",
     "text": [
      "Liked Film\n",
      "================================================================================\n",
      "item_id                         90007.0\n",
      "app_name    International Online Soccer\n",
      "Name: 32108, dtype: object\n",
      "Recommended Films\n",
      "================================================================================\n"
     ]
    },
    {
     "data": {
      "text/html": [
       "<div>\n",
       "<style scoped>\n",
       "    .dataframe tbody tr th:only-of-type {\n",
       "        vertical-align: middle;\n",
       "    }\n",
       "\n",
       "    .dataframe tbody tr th {\n",
       "        vertical-align: top;\n",
       "    }\n",
       "\n",
       "    .dataframe thead th {\n",
       "        text-align: right;\n",
       "    }\n",
       "</style>\n",
       "<table border=\"1\" class=\"dataframe\">\n",
       "  <thead>\n",
       "    <tr style=\"text-align: right;\">\n",
       "      <th></th>\n",
       "      <th>item_id</th>\n",
       "      <th>app_name</th>\n",
       "    </tr>\n",
       "  </thead>\n",
       "  <tbody>\n",
       "    <tr>\n",
       "      <th>25506</th>\n",
       "      <td>389310.0</td>\n",
       "      <td>Tic-Toc-Tower</td>\n",
       "    </tr>\n",
       "    <tr>\n",
       "      <th>4169</th>\n",
       "      <td>365680.0</td>\n",
       "      <td>BRAWL</td>\n",
       "    </tr>\n",
       "    <tr>\n",
       "      <th>24577</th>\n",
       "      <td>425180.0</td>\n",
       "      <td>Fantasy Grounds - AAW Map Pack Vol 1</td>\n",
       "    </tr>\n",
       "    <tr>\n",
       "      <th>24611</th>\n",
       "      <td>425030.0</td>\n",
       "      <td>Fantasy Grounds - Baldur's Gate Portrait Pack</td>\n",
       "    </tr>\n",
       "    <tr>\n",
       "      <th>6127</th>\n",
       "      <td>413500.0</td>\n",
       "      <td>Rocket Fist</td>\n",
       "    </tr>\n",
       "  </tbody>\n",
       "</table>\n",
       "</div>"
      ],
      "text/plain": [
       "        item_id                                       app_name\n",
       "25506  389310.0                                  Tic-Toc-Tower\n",
       "4169   365680.0                                          BRAWL\n",
       "24577  425180.0           Fantasy Grounds - AAW Map Pack Vol 1\n",
       "24611  425030.0  Fantasy Grounds - Baldur's Gate Portrait Pack\n",
       "6127   413500.0                                    Rocket Fist"
      ]
     },
     "execution_count": 8,
     "metadata": {},
     "output_type": "execute_result"
    }
   ],
   "source": [
    "print(\"Liked Film\")\n",
    "print(\"=\"*80)\n",
    "print(df_games_names.loc[ind[0][0], :])\n",
    "print(\"Recommended Films\")\n",
    "print(\"=\"*80)\n",
    "df_games_names.loc[ind[0][1:], :]"
   ]
  },
  {
   "cell_type": "code",
   "execution_count": null,
   "metadata": {},
   "outputs": [],
   "source": [
    "# 5. Segundo entrenamiento del modelo (V2)"
   ]
  },
  {
   "cell_type": "code",
   "execution_count": 80,
   "metadata": {},
   "outputs": [
    {
     "data": {
      "text/plain": [
       "Index(['item_id', 'Mods (require HL1)', 'Stats', 'Includes level editor',\n",
       "       'In-App Purchases', 'Steam Cloud', 'Mods', 'Online Multi-Player',\n",
       "       'Standing', 'Partial Controller Support', 'Local Multi-Player',\n",
       "       'SteamVR Collectibles', 'Steam Achievements', 'Room-Scale',\n",
       "       'Single-player', 'Windows Mixed Reality', 'Keyboard / Mouse',\n",
       "       'HTC Vive', 'Cross-Platform Multiplayer', 'Online Co-op', 'Seated',\n",
       "       'MMO', 'Commentary available', 'Mods (require HL2)', 'Game demo',\n",
       "       'Steam Leaderboards', 'Co-op', 'Gamepad', 'Downloadable Content',\n",
       "       'Steam Workshop', 'Oculus Rift', 'Local Co-op', 'Shared/Split Screen',\n",
       "       'Includes Source SDK', 'Tracked Motion Controllers',\n",
       "       'Valve Anti-Cheat enabled', 'Steam Turn Notifications', 'Multi-player',\n",
       "       'Captions available', 'Steam Trading Cards', 'Full controller support'],\n",
       "      dtype='object')"
      ]
     },
     "execution_count": 80,
     "metadata": {},
     "output_type": "execute_result"
    }
   ],
   "source": [
    "# Detecto categorías en specs, genres y labels que, a mi criterio, no aportan información al algoritmo\n",
    "\n",
    "df_games_specs.columns\n",
    "\n",
    "# Encuentro que de acá podría solo dejar ['Mods','Online Multi-Player','Standing','Local Multi-Player','Room-Scale',\n",
    "# 'Single-player', 'Windows Mixed Reality', 'Keyboard / Mouse','HTC Vive', 'Cross-Platform Multiplayer', 'Online Co-op', 'Seated',\n",
    "# 'MMO','Co-op', 'Gamepad', 'Downloadable Content','Local Co-op','Multi-player']\n"
   ]
  },
  {
   "cell_type": "code",
   "execution_count": 81,
   "metadata": {},
   "outputs": [
    {
     "data": {
      "text/plain": [
       "Index(['item_id', 'Audio Production', 'Massively Multiplayer', 'Free to Play',\n",
       "       'Design &amp; Illustration', 'Software Training', 'Action',\n",
       "       'Photo Editing', 'Video Production', 'Adventure', 'Utilities',\n",
       "       'Accounting', 'Indie', 'Simulation', 'Casual', 'Racing',\n",
       "       'Animation &amp; Modeling', 'Web Publishing', 'RPG', 'Education',\n",
       "       'Sports', 'Strategy', 'Early Access'],\n",
       "      dtype='object')"
      ]
     },
     "execution_count": 81,
     "metadata": {},
     "output_type": "execute_result"
    }
   ],
   "source": [
    "df_games_genres.columns\n",
    "\n",
    "# Encuentro que de acá podría sacar Early Acces"
   ]
  },
  {
   "cell_type": "code",
   "execution_count": 88,
   "metadata": {},
   "outputs": [
    {
     "data": {
      "text/plain": [
       "Index(['Sokoban', 'Underwater', 'Steampunk', 'Funny', 'Multiplayer',\n",
       "       'Tactical RPG', 'Sailing', 'Atmospheric', 'Horses', 'Split Screen',\n",
       "       'GameMaker', 'Mars', 'Science', 'Great Soundtrack', 'Time Manipulation',\n",
       "       'Card Game', '2.5D', 'Shooter', 'Web Publishing', 'Dark', 'Nudity',\n",
       "       'Fighting', 'Dark Comedy', 'Turn-Based', 'Retro', 'Hunting', 'Parkour',\n",
       "       'Survival Horror', '3D Platformer', 'Flight', 'Military', 'Lemmings',\n",
       "       'Puzzle', 'Futuristic', 'Hardware', 'Zombies', 'Online Co-Op', 'War',\n",
       "       'Female Protagonist', 'Bowling'],\n",
       "      dtype='object')"
      ]
     },
     "execution_count": 88,
     "metadata": {},
     "output_type": "execute_result"
    }
   ],
   "source": [
    "df_games_tags.columns[300:]\n",
    "\n",
    "# De acá puedo sacar \"Early Acces\",\"Soundtrack\""
   ]
  },
  {
   "cell_type": "code",
   "execution_count": null,
   "metadata": {},
   "outputs": [],
   "source": [
    "# CAMBIOS PARA NUEVO ESTADO DE SISTEMA DE RECOMENDACION (V2)\n",
    "\n",
    "#   * Eliminar las columnas nombradas\n",
    "#   * Ponderar specs*0.25 genres*1 tags*4"
   ]
  },
  {
   "cell_type": "code",
   "execution_count": 11,
   "metadata": {},
   "outputs": [],
   "source": [
    "# Vuelvo a realizar el SIST de RECO con estas modificaciones:\n",
    "# OJO: Volver a cargar dfs\n",
    "\n",
    "# Selecciono solo las columnas de interés\n",
    "\n",
    "df_games_names = df_games_tec[['item_id', 'app_name']]\n",
    "df_games_genres = df_games_genres.drop(columns=['genres','Early Access'])\n",
    "df_games_specs = df_games_specs[['item_id','Mods','Online Multi-Player','Standing','Local Multi-Player','Room-Scale',\n",
    "    'Single-player', 'Windows Mixed Reality', 'Keyboard / Mouse','HTC Vive', 'Cross-Platform Multiplayer', 'Online Co-op', 'Seated',\n",
    "    'MMO','Co-op', 'Gamepad', 'Downloadable Content','Local Co-op','Multi-player']]\n",
    "df_games_tags = df_games_tags.drop(columns=['tags',\"Early Access\",\"Soundtrack\"])\n",
    "\n",
    "# Pondero categorías\n",
    "\n",
    "df_games_specs[df_games_specs == 1] = 0.25\n",
    "df_games_tags[df_games_tags == 1] = 4\n",
    "\n",
    "# Realiza un join de los DataFrames df1 y df2\n",
    "merged_df_1 = pd.merge(df_games_names, df_games_genres, on='item_id', how='inner')\n",
    "\n",
    "# Realiza un join de merged_df con df3\n",
    "merged_df_2 = pd.merge(merged_df_1, df_games_specs, on='item_id', how='inner')\n",
    "\n",
    "# Realiza un join de merged_df con df3\n",
    "merged_df_final = pd.merge(merged_df_2, df_games_tags, on='item_id', how='inner')"
   ]
  },
  {
   "cell_type": "code",
   "execution_count": null,
   "metadata": {},
   "outputs": [],
   "source": [
    "# Índices de juegos conocidos para luego poder evaluar el desempeño del modelo\n",
    "\n",
    "# Juego Counter Strike 32103\n",
    "# Juego de futbol 32108\n",
    "# Juego de baseball 6001\n",
    "# Juego de Formula 1 7013\n",
    "# Juego Worms 7027"
   ]
  },
  {
   "cell_type": "code",
   "execution_count": 30,
   "metadata": {},
   "outputs": [
    {
     "name": "stdout",
     "output_type": "stream",
     "text": [
      "Juego seleccionado\n",
      "================================================================================\n",
      "item_id               10.0\n",
      "app_name    Counter-Strike\n",
      "Name: 32103, dtype: object\n",
      "Juegos recomendados\n",
      "================================================================================\n"
     ]
    },
    {
     "name": "stderr",
     "output_type": "stream",
     "text": [
      "C:\\Users\\Facundo\\AppData\\Local\\Packages\\PythonSoftwareFoundation.Python.3.11_qbz5n2kfra8p0\\LocalCache\\local-packages\\Python311\\site-packages\\sklearn\\base.py:465: UserWarning: X does not have valid feature names, but NearestNeighbors was fitted with feature names\n",
      "  warnings.warn(\n"
     ]
    },
    {
     "data": {
      "text/html": [
       "<div>\n",
       "<style scoped>\n",
       "    .dataframe tbody tr th:only-of-type {\n",
       "        vertical-align: middle;\n",
       "    }\n",
       "\n",
       "    .dataframe tbody tr th {\n",
       "        vertical-align: top;\n",
       "    }\n",
       "\n",
       "    .dataframe thead th {\n",
       "        text-align: right;\n",
       "    }\n",
       "</style>\n",
       "<table border=\"1\" class=\"dataframe\">\n",
       "  <thead>\n",
       "    <tr style=\"text-align: right;\">\n",
       "      <th></th>\n",
       "      <th>item_id</th>\n",
       "      <th>app_name</th>\n",
       "    </tr>\n",
       "  </thead>\n",
       "  <tbody>\n",
       "    <tr>\n",
       "      <th>15178</th>\n",
       "      <td>720930.0</td>\n",
       "      <td>VR Toolbox: Cartoon Forest Props DLC</td>\n",
       "    </tr>\n",
       "    <tr>\n",
       "      <th>10421</th>\n",
       "      <td>510360.0</td>\n",
       "      <td>Recession</td>\n",
       "    </tr>\n",
       "    <tr>\n",
       "      <th>11782</th>\n",
       "      <td>683210.0</td>\n",
       "      <td>Apez</td>\n",
       "    </tr>\n",
       "    <tr>\n",
       "      <th>17550</th>\n",
       "      <td>624560.0</td>\n",
       "      <td>Medusa's Labyrinth VR</td>\n",
       "    </tr>\n",
       "    <tr>\n",
       "      <th>14391</th>\n",
       "      <td>738320.0</td>\n",
       "      <td>Idle Champions of the Forgotten Realms - Start...</td>\n",
       "    </tr>\n",
       "  </tbody>\n",
       "</table>\n",
       "</div>"
      ],
      "text/plain": [
       "        item_id                                           app_name\n",
       "15178  720930.0               VR Toolbox: Cartoon Forest Props DLC\n",
       "10421  510360.0                                          Recession\n",
       "11782  683210.0                                               Apez\n",
       "17550  624560.0                              Medusa's Labyrinth VR\n",
       "14391  738320.0  Idle Champions of the Forgotten Realms - Start..."
      ]
     },
     "execution_count": 30,
     "metadata": {},
     "output_type": "execute_result"
    }
   ],
   "source": [
    "games_dummies = merged_df_final.drop(columns=['item_id', 'app_name'])\n",
    "\n",
    "n_neighbors=6\n",
    "nneighbors = NearestNeighbors(n_neighbors = n_neighbors, metric = 'cosine').fit(games_dummies)\n",
    "\n",
    "index = 32103\n",
    "game_eval = np.array(games_dummies.iloc[index]).reshape(1,-1)\n",
    "dif, ind = nneighbors.kneighbors(game_eval)\n",
    "\n",
    "print(\"Juego seleccionado\")\n",
    "print(\"=\"*80)\n",
    "print(df_games_names.loc[ind[0][0], :])\n",
    "print(\"Juegos recomendados\")\n",
    "print(\"=\"*80)\n",
    "df_games_names.loc[ind[0][1:], :]"
   ]
  },
  {
   "cell_type": "code",
   "execution_count": 29,
   "metadata": {},
   "outputs": [
    {
     "name": "stdout",
     "output_type": "stream",
     "text": [
      "item_id\n",
      "Single-player\n",
      "Downloadable Content\n"
     ]
    }
   ],
   "source": [
    "for iter in range(len(df_games_specs.columns)):\n",
    "    if df_games_specs.iloc[30698, iter] != 0:\n",
    "        nombre_columna = df_games_specs.columns[iter]\n",
    "        print(nombre_columna)\n",
    "\n",
    "# Por inspección encuentro que debo eliminar \"Downloable Content\" de df_games_specs para evitar que me recomiende DLCS y contenido descargable.\n",
    "# También encuentro que puede recomendar juegos de cualquier año y eso puede ser algo no deseable"
   ]
  },
  {
   "cell_type": "code",
   "execution_count": null,
   "metadata": {},
   "outputs": [],
   "source": [
    "# 6. Tercer entrenamiento del modelo (V3)\n",
    "\n",
    "# CAMBIOS PARA NUEVO ESTADO DE SISTEMA DE RECOMENDACION (V3)\n",
    "\n",
    "#   * Eliminar Downloable Content\n",
    "#   * Agregar y ponderar columna de decada del juego "
   ]
  },
  {
   "cell_type": "code",
   "execution_count": 40,
   "metadata": {},
   "outputs": [
    {
     "data": {
      "text/plain": [
       "Index(['app_name', 'item_id', 'publisher', 'release_date', 'price',\n",
       "       'developer', 'release_year'],\n",
       "      dtype='object')"
      ]
     },
     "execution_count": 40,
     "metadata": {},
     "output_type": "execute_result"
    }
   ],
   "source": [
    "df_games_tec.columns"
   ]
  },
  {
   "cell_type": "code",
   "execution_count": null,
   "metadata": {},
   "outputs": [],
   "source": [
    "df_games_tec[\"release_year\"].value_counts()"
   ]
  },
  {
   "cell_type": "code",
   "execution_count": 156,
   "metadata": {},
   "outputs": [],
   "source": [
    "# Agrupo las fechas en décadas para que la influencia del año de cada juego sea mas flexible. Luego, genero variables dummies.\n",
    "\n",
    "df_games_release_lustrum = df_games_tec[['item_id', 'release_year']].copy()\n",
    "\n",
    "# Definir los límites de los lustros\n",
    "bins = [0, 1999, 2005, 2010, 2015, 9999]\n",
    "labels = ['before_2000', '2000_2005', '2005_2010', '2010_2015', 'after_2015']\n",
    "\n",
    "# Dividir los años en lustros y crear variables dummies\n",
    "df_games_release_lustrum['release_lustrum'] = pd.cut(df_games_release_lustrum['release_year'], bins=bins, labels=labels)\n",
    "df_games_release_lustrum = pd.get_dummies(df_games_release_lustrum, columns=['release_lustrum'])\n",
    "df_games_release_lustrum = df_games_release_lustrum.multiply(1)\n",
    "\n",
    "# Eliminar la columna original de 'release_year'\n",
    "df_games_release_lustrum.drop(columns=['release_year'], inplace=True)\n"
   ]
  },
  {
   "cell_type": "code",
   "execution_count": 132,
   "metadata": {},
   "outputs": [
    {
     "data": {
      "text/plain": [
       "release_lustrum_2010_2015\n",
       "0    21025\n",
       "1    11107\n",
       "Name: count, dtype: int64"
      ]
     },
     "execution_count": 132,
     "metadata": {},
     "output_type": "execute_result"
    }
   ],
   "source": [
    "df_games_release_lustrum[\"release_lustrum_2010_2015\"].value_counts()"
   ]
  },
  {
   "cell_type": "code",
   "execution_count": 133,
   "metadata": {},
   "outputs": [
    {
     "data": {
      "text/html": [
       "<div>\n",
       "<style scoped>\n",
       "    .dataframe tbody tr th:only-of-type {\n",
       "        vertical-align: middle;\n",
       "    }\n",
       "\n",
       "    .dataframe tbody tr th {\n",
       "        vertical-align: top;\n",
       "    }\n",
       "\n",
       "    .dataframe thead th {\n",
       "        text-align: right;\n",
       "    }\n",
       "</style>\n",
       "<table border=\"1\" class=\"dataframe\">\n",
       "  <thead>\n",
       "    <tr style=\"text-align: right;\">\n",
       "      <th></th>\n",
       "      <th>item_id</th>\n",
       "      <th>release_lustrum_before_2000</th>\n",
       "      <th>release_lustrum_2000_2005</th>\n",
       "      <th>release_lustrum_2005_2010</th>\n",
       "      <th>release_lustrum_2010_2015</th>\n",
       "      <th>release_lustrum_after_2015</th>\n",
       "    </tr>\n",
       "  </thead>\n",
       "  <tbody>\n",
       "    <tr>\n",
       "      <th>0</th>\n",
       "      <td>761140.0</td>\n",
       "      <td>0</td>\n",
       "      <td>0</td>\n",
       "      <td>0</td>\n",
       "      <td>0</td>\n",
       "      <td>1</td>\n",
       "    </tr>\n",
       "    <tr>\n",
       "      <th>1</th>\n",
       "      <td>643980.0</td>\n",
       "      <td>0</td>\n",
       "      <td>0</td>\n",
       "      <td>0</td>\n",
       "      <td>0</td>\n",
       "      <td>1</td>\n",
       "    </tr>\n",
       "    <tr>\n",
       "      <th>2</th>\n",
       "      <td>670290.0</td>\n",
       "      <td>0</td>\n",
       "      <td>0</td>\n",
       "      <td>0</td>\n",
       "      <td>0</td>\n",
       "      <td>1</td>\n",
       "    </tr>\n",
       "    <tr>\n",
       "      <th>3</th>\n",
       "      <td>767400.0</td>\n",
       "      <td>0</td>\n",
       "      <td>0</td>\n",
       "      <td>0</td>\n",
       "      <td>0</td>\n",
       "      <td>1</td>\n",
       "    </tr>\n",
       "    <tr>\n",
       "      <th>4</th>\n",
       "      <td>773570.0</td>\n",
       "      <td>0</td>\n",
       "      <td>0</td>\n",
       "      <td>0</td>\n",
       "      <td>0</td>\n",
       "      <td>0</td>\n",
       "    </tr>\n",
       "  </tbody>\n",
       "</table>\n",
       "</div>"
      ],
      "text/plain": [
       "    item_id  release_lustrum_before_2000  release_lustrum_2000_2005  \\\n",
       "0  761140.0                            0                          0   \n",
       "1  643980.0                            0                          0   \n",
       "2  670290.0                            0                          0   \n",
       "3  767400.0                            0                          0   \n",
       "4  773570.0                            0                          0   \n",
       "\n",
       "   release_lustrum_2005_2010  release_lustrum_2010_2015  \\\n",
       "0                          0                          0   \n",
       "1                          0                          0   \n",
       "2                          0                          0   \n",
       "3                          0                          0   \n",
       "4                          0                          0   \n",
       "\n",
       "   release_lustrum_after_2015  \n",
       "0                           1  \n",
       "1                           1  \n",
       "2                           1  \n",
       "3                           1  \n",
       "4                           0  "
      ]
     },
     "execution_count": 133,
     "metadata": {},
     "output_type": "execute_result"
    }
   ],
   "source": [
    "# Mostrar el nuevo DataFrame\n",
    "df_games_release_lustrum.head()"
   ]
  },
  {
   "cell_type": "code",
   "execution_count": 251,
   "metadata": {},
   "outputs": [],
   "source": [
    "# 2. Carga de dataframes\n",
    "\n",
    "df_games_tec = pd.read_parquet('df_games_tec.parquet')\n",
    "df_games_genres = pd.read_parquet('df_games_genres.parquet')\n",
    "df_games_specs = pd.read_parquet('df_games_specs.parquet')\n",
    "df_games_tags = pd.read_parquet('df_games_tags.parquet')\n",
    "\n",
    "# Agrupo las fechas en décadas para que la influencia del año de cada juego sea mas flexible. Luego, genero variables dummies.\n",
    "\n",
    "df_games_release_lustrum = df_games_tec[['item_id', 'release_year']].copy()\n",
    "\n",
    "# Definir los límites de los lustros\n",
    "bins = [0, 1999, 2005, 2010, 2015, 9999]\n",
    "labels = ['before_2000', '2000_2005', '2005_2010', '2010_2015', 'after_2015']\n",
    "\n",
    "# Dividir los años en lustros y crear variables dummies\n",
    "df_games_release_lustrum['release_lustrum'] = pd.cut(df_games_release_lustrum['release_year'], bins=bins, labels=labels)\n",
    "df_games_release_lustrum = pd.get_dummies(df_games_release_lustrum, columns=['release_lustrum'])\n",
    "df_games_release_lustrum = df_games_release_lustrum.multiply(1)\n",
    "\n",
    "# Eliminar la columna original de 'release_year'\n",
    "df_games_release_lustrum.drop(columns=['release_year'], inplace=True)\n",
    "\n",
    "\n",
    "\n",
    "# Vuelvo a realizar el SIST de RECO con estas modificaciones:\n",
    "# OJO: Volver a cargar dfs\n",
    "\n",
    "# Selecciono solo las columnas de interés\n",
    "\n",
    "df_games_names = df_games_tec[['item_id', 'app_name']]\n",
    "df_games_genres = df_games_genres.drop(columns=['genres','Early Access'])\n",
    "df_games_specs = df_games_specs[['item_id','Online Multi-Player','Local Multi-Player','Room-Scale',\n",
    "    'Single-player', 'Keyboard / Mouse', 'Cross-Platform Multiplayer', 'Online Co-op', 'Seated',\n",
    "    'MMO','Co-op', 'Gamepad','Local Co-op','Multi-player']]\n",
    "df_games_tags = df_games_tags.drop(columns=['tags',\"Early Access\",\"Soundtrack\"])\n",
    "\n",
    "# Pondero categorías\n",
    "df_games_release_lustrum[df_games_release_lustrum == 1] = 1 # Ponderación fuerte ya que es una sola columna con 1\n",
    "df_games_specs[df_games_specs == 1] = 0.25\n",
    "df_games_tags[df_games_tags == 1] = 1\n",
    "df_games_genres[df_games_genres == 1] = 0.125\n",
    "\n",
    "# Realiza un join de los DataFrames df1 y df2\n",
    "merged_df_1 = pd.merge(df_games_names, df_games_genres, on='item_id', how='inner')\n",
    "\n",
    "# Realiza un join de merged_df con df3\n",
    "merged_df_2 = pd.merge(merged_df_1, df_games_specs, on='item_id', how='inner')\n",
    "\n",
    "# Realiza un join de merged_df con df3\n",
    "merged_df_3 = pd.merge(merged_df_2, df_games_release_lustrum, on='item_id', how='inner')\n",
    "\n",
    "# Realiza un join de merged_df con df3\n",
    "merged_df_final = pd.merge(merged_df_3, df_games_tags, on='item_id', how='inner')"
   ]
  },
  {
   "cell_type": "code",
   "execution_count": 233,
   "metadata": {},
   "outputs": [],
   "source": [
    "# Índices de juegos conocidos para luego poder evaluar el desempeño del modelo\n",
    "\n",
    "# Juego Counter Strike 32103\n",
    "# Juego de futbol 32108\n",
    "# Juego de baseball 6001\n",
    "# Juego de Formula 1 7013\n",
    "# Juego Worms 7027"
   ]
  },
  {
   "cell_type": "code",
   "execution_count": 253,
   "metadata": {},
   "outputs": [
    {
     "name": "stdout",
     "output_type": "stream",
     "text": [
      "Juego seleccionado\n",
      "================================================================================\n",
      "item_id               10.0\n",
      "app_name    Counter-Strike\n",
      "Name: 32103, dtype: object\n",
      "Juegos recomendados\n",
      "================================================================================\n"
     ]
    },
    {
     "name": "stderr",
     "output_type": "stream",
     "text": [
      "C:\\Users\\Facundo\\AppData\\Local\\Packages\\PythonSoftwareFoundation.Python.3.11_qbz5n2kfra8p0\\LocalCache\\local-packages\\Python311\\site-packages\\sklearn\\base.py:465: UserWarning: X does not have valid feature names, but NearestNeighbors was fitted with feature names\n",
      "  warnings.warn(\n"
     ]
    },
    {
     "data": {
      "text/html": [
       "<div>\n",
       "<style scoped>\n",
       "    .dataframe tbody tr th:only-of-type {\n",
       "        vertical-align: middle;\n",
       "    }\n",
       "\n",
       "    .dataframe tbody tr th {\n",
       "        vertical-align: top;\n",
       "    }\n",
       "\n",
       "    .dataframe thead th {\n",
       "        text-align: right;\n",
       "    }\n",
       "</style>\n",
       "<table border=\"1\" class=\"dataframe\">\n",
       "  <thead>\n",
       "    <tr style=\"text-align: right;\">\n",
       "      <th></th>\n",
       "      <th>item_id</th>\n",
       "      <th>app_name</th>\n",
       "    </tr>\n",
       "  </thead>\n",
       "  <tbody>\n",
       "    <tr>\n",
       "      <th>16812</th>\n",
       "      <td>645130.0</td>\n",
       "      <td>Space Dream VR</td>\n",
       "    </tr>\n",
       "    <tr>\n",
       "      <th>17924</th>\n",
       "      <td>627030.0</td>\n",
       "      <td>Fantasy Grounds - Pathfinder RPG - Rise of the...</td>\n",
       "    </tr>\n",
       "    <tr>\n",
       "      <th>10390</th>\n",
       "      <td>672570.0</td>\n",
       "      <td>The Western Hunter</td>\n",
       "    </tr>\n",
       "    <tr>\n",
       "      <th>19863</th>\n",
       "      <td>540711.0</td>\n",
       "      <td>Assetto Corsa - Porsche Pack III</td>\n",
       "    </tr>\n",
       "    <tr>\n",
       "      <th>14682</th>\n",
       "      <td>728461.0</td>\n",
       "      <td>NASCAR Heat 2 - October Value Pack</td>\n",
       "    </tr>\n",
       "  </tbody>\n",
       "</table>\n",
       "</div>"
      ],
      "text/plain": [
       "        item_id                                           app_name\n",
       "16812  645130.0                                     Space Dream VR\n",
       "17924  627030.0  Fantasy Grounds - Pathfinder RPG - Rise of the...\n",
       "10390  672570.0                                 The Western Hunter\n",
       "19863  540711.0                   Assetto Corsa - Porsche Pack III\n",
       "14682  728461.0                 NASCAR Heat 2 - October Value Pack"
      ]
     },
     "execution_count": 253,
     "metadata": {},
     "output_type": "execute_result"
    }
   ],
   "source": [
    "games_dummies = merged_df_final.drop(columns=['item_id', 'app_name'])\n",
    "\n",
    "n_neighbors=6\n",
    "nneighbors = NearestNeighbors(n_neighbors = n_neighbors, metric = 'cosine').fit(games_dummies)\n",
    "\n",
    "index = 32103\n",
    "game_eval = np.array(games_dummies.iloc[index]).reshape(1,-1)\n",
    "dif, ind = nneighbors.kneighbors(game_eval)\n",
    "\n",
    "print(\"Juego seleccionado\")\n",
    "print(\"=\"*80)\n",
    "print(df_games_names.loc[ind[0][0], :])\n",
    "print(\"Juegos recomendados\")\n",
    "print(\"=\"*80)\n",
    "df_games_names.loc[ind[0][1:], :]"
   ]
  },
  {
   "cell_type": "code",
   "execution_count": null,
   "metadata": {},
   "outputs": [],
   "source": [
    "# 7. **Cuarto entrenamiento del modelo (V4)**\n",
    "\n",
    "# CAMBIOS PARA NUEVO ESTADO DE SISTEMA DE RECOMENDACION (V4)\n",
    "\n",
    "#   * Dividir cada variable dummie por la sumatoria total de etiquetas en cada categoría (genre, spec y tags)"
   ]
  },
  {
   "cell_type": "code",
   "execution_count": 257,
   "metadata": {},
   "outputs": [
    {
     "data": {
      "text/plain": [
       "Index(['item_id', 'tags', 'Thriller', 'Philisophical', 'Superhero',\n",
       "       'Massively Multiplayer', 'Diplomacy', 'Satire', 'Mature',\n",
       "       'Side Scroller',\n",
       "       ...\n",
       "       'Word Game', 'Visual Novel', 'Experimental', 'Capitalism', 'Hex Grid',\n",
       "       'Hacking', 'Video Production', 'Hunting', 'Turn-Based', 'Underwater'],\n",
       "      dtype='object', length=341)"
      ]
     },
     "execution_count": 257,
     "metadata": {},
     "output_type": "execute_result"
    }
   ],
   "source": [
    "df_games_tags.columns"
   ]
  },
  {
   "cell_type": "code",
   "execution_count": 279,
   "metadata": {},
   "outputs": [],
   "source": [
    "# 2. Carga de dataframes\n",
    "\n",
    "df_games_tec = pd.read_parquet('df_games_tec.parquet')\n",
    "df_games_genres = pd.read_parquet('df_games_genres.parquet')\n",
    "df_games_specs = pd.read_parquet('df_games_specs.parquet')\n",
    "df_games_tags = pd.read_parquet('df_games_tags.parquet')\n",
    "\n",
    "# Selecciono solo las columnas de interés\n",
    "\n",
    "df_games_names = df_games_tec[['item_id', 'app_name']]\n",
    "df_games_genres = df_games_genres.drop(columns=['genres','Early Access'])\n",
    "df_games_specs = df_games_specs[['item_id','Online Multi-Player','Local Multi-Player','Room-Scale',\n",
    "    'Single-player', 'Keyboard / Mouse', 'Cross-Platform Multiplayer', 'Online Co-op', 'Seated',\n",
    "    'MMO','Co-op', 'Gamepad','Local Co-op','Multi-player']]\n",
    "df_games_tags = df_games_tags.drop(columns=['tags',\"Early Access\",\"Soundtrack\"])\n",
    "\n",
    "# Seleccionar solo las columnas de variables dummies\n",
    "df_games_genres_dummies = df_games_genres.drop(columns=['item_id'])\n",
    "df_games_specs_dummies = df_games_specs.drop(columns=['item_id'])\n",
    "df_games_tags_dummies = df_games_tags.drop(columns=['item_id'])\n",
    "\n",
    "# Sumar por fila la cantidad de variables dummies que son 1\n",
    "suma_por_fila1 = df_games_genres_dummies.sum(axis=1)\n",
    "suma_por_fila2 = df_games_specs_dummies.sum(axis=1)\n",
    "suma_por_fila3 = df_games_tags_dummies.sum(axis=1)\n",
    "\n",
    "# Dividir cada valor en la fila por la suma total (evitando la división por cero)\n",
    "df_games_genres_dummies_dividido = df_games_genres_dummies.div(suma_por_fila1, axis=0)\n",
    "df_games_specs_dummies_dividido = df_games_specs_dummies.div(suma_por_fila2, axis=0)\n",
    "df_games_tags_dummies_dividido = df_games_tags_dummies.div(suma_por_fila3, axis=0)\n",
    "\n",
    "# Reemplazar NaN con 0 si la suma por fila es 0\n",
    "df_games_genres_dummies_dividido.fillna(0, inplace=True)\n",
    "df_games_specs_dummies_dividido.fillna(0, inplace=True)\n",
    "df_games_tags_dummies_dividido.fillna(0, inplace=True)\n",
    "\n",
    "# Unir el DataFrame resultante con las columnas 'item_id' y 'genres'\n",
    "df_games_genres_v4 = pd.concat([df_games_genres[['item_id']], df_games_genres_dummies_dividido], axis=1)\n",
    "df_games_specs_v4 = pd.concat([df_games_specs[['item_id']], df_games_specs_dummies_dividido], axis=1)\n",
    "df_games_tags_v4 = pd.concat([df_games_tags[['item_id']], df_games_tags_dummies_dividido], axis=1)\n"
   ]
  },
  {
   "cell_type": "code",
   "execution_count": 280,
   "metadata": {},
   "outputs": [],
   "source": [
    "# Agrupo las fechas en décadas para que la influencia del año de cada juego sea mas flexible. Luego, genero variables dummies.\n",
    "\n",
    "df_games_release_lustrum = df_games_tec[['item_id', 'release_year']].copy()\n",
    "\n",
    "# Definir los límites de los lustros\n",
    "bins = [0, 1999, 2005, 2010, 2015, 9999]\n",
    "labels = ['before_2000', '2000_2005', '2005_2010', '2010_2015', 'after_2015']\n",
    "\n",
    "# Dividir los años en lustros y crear variables dummies\n",
    "df_games_release_lustrum['release_lustrum'] = pd.cut(df_games_release_lustrum['release_year'], bins=bins, labels=labels)\n",
    "df_games_release_lustrum = pd.get_dummies(df_games_release_lustrum, columns=['release_lustrum'])\n",
    "df_games_release_lustrum = df_games_release_lustrum.multiply(1)\n",
    "\n",
    "# Eliminar la columna original de 'release_year'\n",
    "df_games_release_lustrum.drop(columns=['release_year'], inplace=True)\n",
    "\n",
    "# Vuelvo a realizar el SIST de RECO con estas modificaciones:\n",
    "# OJO: Volver a cargar dfs\n",
    "\n",
    "# Pondero categorías\n",
    "df_games_release_lustrum[df_games_release_lustrum == 1] = 2 # Ponderación fuerte ya que es una sola columna con 1\n",
    "#df_games_specs_v4[df_games_specs_v4 == 1] = 0.25\n",
    "#df_games_tags_v4[df_games_tags == 1] = 1\n",
    "#df_games_genres_v4[df_games_genres == 1] = 0.125\n",
    "\n",
    "# Realiza un join de los DataFrames df1 y df2\n",
    "merged_df_1 = pd.merge(df_games_names, df_games_genres_v4, on='item_id', how='inner')\n",
    "\n",
    "# Realiza un join de merged_df con df3\n",
    "merged_df_2 = pd.merge(merged_df_1, df_games_specs_v4, on='item_id', how='inner')\n",
    "\n",
    "# Realiza un join de merged_df con df3\n",
    "merged_df_3 = pd.merge(merged_df_2, df_games_release_lustrum, on='item_id', how='inner')\n",
    "\n",
    "# Realiza un join de merged_df con df3\n",
    "merged_df_final = pd.merge(merged_df_3, df_games_tags_v4, on='item_id', how='inner')"
   ]
  },
  {
   "cell_type": "code",
   "execution_count": null,
   "metadata": {},
   "outputs": [],
   "source": [
    "# Índices de juegos conocidos para luego poder evaluar el desempeño del modelo\n",
    "\n",
    "# Juego Counter Strike 32103\n",
    "# Juego de futbol 32108\n",
    "# Juego de baseball 6001\n",
    "# Juego de Formula 1 7013\n",
    "# Juego Worms 7027"
   ]
  },
  {
   "cell_type": "code",
   "execution_count": 284,
   "metadata": {},
   "outputs": [
    {
     "name": "stderr",
     "output_type": "stream",
     "text": [
      "C:\\Users\\Facundo\\AppData\\Local\\Packages\\PythonSoftwareFoundation.Python.3.11_qbz5n2kfra8p0\\LocalCache\\local-packages\\Python311\\site-packages\\sklearn\\base.py:465: UserWarning: X does not have valid feature names, but NearestNeighbors was fitted with feature names\n",
      "  warnings.warn(\n"
     ]
    },
    {
     "name": "stdout",
     "output_type": "stream",
     "text": [
      "Juego seleccionado\n",
      "================================================================================\n",
      "item_id        327030.0\n",
      "app_name    Worms W.M.D\n",
      "Name: 7027, dtype: object\n",
      "Juegos recomendados\n",
      "================================================================================\n"
     ]
    },
    {
     "data": {
      "text/html": [
       "<div>\n",
       "<style scoped>\n",
       "    .dataframe tbody tr th:only-of-type {\n",
       "        vertical-align: middle;\n",
       "    }\n",
       "\n",
       "    .dataframe tbody tr th {\n",
       "        vertical-align: top;\n",
       "    }\n",
       "\n",
       "    .dataframe thead th {\n",
       "        text-align: right;\n",
       "    }\n",
       "</style>\n",
       "<table border=\"1\" class=\"dataframe\">\n",
       "  <thead>\n",
       "    <tr style=\"text-align: right;\">\n",
       "      <th></th>\n",
       "      <th>item_id</th>\n",
       "      <th>app_name</th>\n",
       "    </tr>\n",
       "  </thead>\n",
       "  <tbody>\n",
       "    <tr>\n",
       "      <th>23084</th>\n",
       "      <td>435460.0</td>\n",
       "      <td>NotCoD™</td>\n",
       "    </tr>\n",
       "    <tr>\n",
       "      <th>15373</th>\n",
       "      <td>637745.0</td>\n",
       "      <td>Rocksmith® 2014 Edition – Remastered – Marilyn...</td>\n",
       "    </tr>\n",
       "    <tr>\n",
       "      <th>23506</th>\n",
       "      <td>463090.0</td>\n",
       "      <td>Hatoful Boyfriend: Holiday Star Collector's Ed...</td>\n",
       "    </tr>\n",
       "    <tr>\n",
       "      <th>23083</th>\n",
       "      <td>438680.0</td>\n",
       "      <td>One Troll Army</td>\n",
       "    </tr>\n",
       "    <tr>\n",
       "      <th>12070</th>\n",
       "      <td>617810.0</td>\n",
       "      <td>Total War: WARHAMMER II - Mortal Empires</td>\n",
       "    </tr>\n",
       "  </tbody>\n",
       "</table>\n",
       "</div>"
      ],
      "text/plain": [
       "        item_id                                           app_name\n",
       "23084  435460.0                                            NotCoD™\n",
       "15373  637745.0  Rocksmith® 2014 Edition – Remastered – Marilyn...\n",
       "23506  463090.0  Hatoful Boyfriend: Holiday Star Collector's Ed...\n",
       "23083  438680.0                                     One Troll Army\n",
       "12070  617810.0           Total War: WARHAMMER II - Mortal Empires"
      ]
     },
     "execution_count": 284,
     "metadata": {},
     "output_type": "execute_result"
    }
   ],
   "source": [
    "games_dummies = merged_df_final.drop(columns=['item_id', 'app_name'])\n",
    "\n",
    "n_neighbors=6\n",
    "nneighbors = NearestNeighbors(n_neighbors = n_neighbors, metric = 'cosine').fit(games_dummies)\n",
    "\n",
    "index = 7027\n",
    "game_eval = np.array(games_dummies.iloc[index]).reshape(1,-1)\n",
    "dif, ind = nneighbors.kneighbors(game_eval)\n",
    "\n",
    "print(\"Juego seleccionado\")\n",
    "print(\"=\"*80)\n",
    "print(df_games_names.loc[ind[0][0], :])\n",
    "print(\"Juegos recomendados\")\n",
    "print(\"=\"*80)\n",
    "df_games_names.loc[ind[0][1:], :]"
   ]
  },
  {
   "cell_type": "code",
   "execution_count": 285,
   "metadata": {},
   "outputs": [],
   "source": [
    "# 8. Exporto en formato parquet el df final para implementar el Sistema de Recomendación V4\n",
    "\n",
    "merged_df_final.to_parquet('df_sist_reco_v4.parquet')\n"
   ]
  }
 ],
 "metadata": {
  "kernelspec": {
   "display_name": "Python 3",
   "language": "python",
   "name": "python3"
  },
  "language_info": {
   "codemirror_mode": {
    "name": "ipython",
    "version": 3
   },
   "file_extension": ".py",
   "mimetype": "text/x-python",
   "name": "python",
   "nbconvert_exporter": "python",
   "pygments_lexer": "ipython3",
   "version": "3.11.8"
  }
 },
 "nbformat": 4,
 "nbformat_minor": 2
}
