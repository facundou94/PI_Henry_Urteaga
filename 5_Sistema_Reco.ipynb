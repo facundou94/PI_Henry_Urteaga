{
 "cells": [
  {
   "cell_type": "markdown",
   "metadata": {},
   "source": [
    "### Proyecto Individual Henry\n",
    "**5_Sistema_Reco**  \n",
    "Sistema de Recomendación\n",
    "**Autor: Bioing. Urteaga Facundo Nahuel**  \n",
    "\n",
    "**Resumen:** Este script comprende las siguientes etapas:\n",
    "\n",
    "1. **Carga de librerías**\n",
    "2. **Carga de datos (archivo .parquet)**\n",
    "3. **Pre-procesamiento de dataframes para el análisis posterior**\n",
    "4. **Primer entrenamiento del modelo (V1)**\n",
    "5. **Segundo entrenamiento del modelo (V2)**\n",
    "6. **Tercer entrenamiento del modelo (V3)**\n",
    "7. **Cuarto entrenamiento del modelo (V4)**"
   ]
  },
  {
   "cell_type": "code",
   "execution_count": 260,
   "metadata": {},
   "outputs": [],
   "source": [
    "### 1. Carga de librerías\n",
    "\n",
    "import numpy as np\n",
    "import pandas as pd\n",
    "from sklearn.neighbors import NearestNeighbors"
   ]
  },
  {
   "cell_type": "markdown",
   "metadata": {},
   "source": [
    "Entrenamiento del primer modelo (V1)"
   ]
  },
  {
   "cell_type": "code",
   "execution_count": 271,
   "metadata": {},
   "outputs": [],
   "source": [
    "### 2. Carga de dataframes\n",
    "\n",
    "df_games_tec = pd.read_parquet('df_games_tec.parquet')\n",
    "df_games_genres = pd.read_parquet('df_games_genres.parquet')\n",
    "df_games_specs = pd.read_parquet('df_games_specs.parquet')\n",
    "df_games_tags = pd.read_parquet('df_games_tags.parquet')\n",
    "\n",
    "### 3. Pre-procesamiento de dataframes para el análisis posterior\n",
    "\n",
    "df_games_names = df_games_tec[['item_id', 'app_name']]\n",
    "df_games_genres = df_games_genres.drop(columns=['genres'])\n",
    "df_games_specs = df_games_specs.drop(columns=['specs'])\n",
    "df_games_tags = df_games_tags.drop(columns=['tags'])\n",
    "\n",
    "# Realiza un join de los DataFrames df1 y df2\n",
    "merged_df_1 = pd.merge(df_games_names, df_games_genres, on='item_id', how='inner')\n",
    "\n",
    "# Realiza un join de merged_df con df3\n",
    "merged_df_2 = pd.merge(merged_df_1, df_games_specs, on='item_id', how='inner')\n",
    "\n",
    "# Realiza un join de merged_df con df3\n",
    "merged_df_final = pd.merge(merged_df_2, df_games_tags, on='item_id', how='inner')\n",
    "#len(merged_df_final.columns)\n",
    "\n",
    "### 4. Separo Info de nombre de variables dummies\n",
    "\n",
    "#games_dummies = merged_df_final.drop(columns=['item_id', 'app_name'])\n",
    "games_dummies = merged_df_final.drop(columns=['item_id', 'app_name'])\n",
    "games_id_names = merged_df_final[['item_id', 'app_name']]\n",
    "\n",
    "### 5. Primer entrenamiento del modelo (V1)\n",
    "\n",
    "n_neighbors = 6\n",
    "\n",
    "nneighbors = NearestNeighbors(n_neighbors = n_neighbors, metric = 'cosine').fit(games_dummies)"
   ]
  },
  {
   "cell_type": "code",
   "execution_count": null,
   "metadata": {},
   "outputs": [],
   "source": [
    "# Indices de prueba. Juegos de diferentes características\n",
    "\n",
    "# Counter Strike         |     10\n",
    "# PES 2018               | 592580\n",
    "# AGE III                | 105450\n",
    "# Simcity 4              |  24780\n",
    "# Tennis Elbow 2013      | 346470\n",
    "# Civilization IV        |  16810\n",
    "# Darksiders             |  50620\n",
    "# Fallout NV             |  22380\n",
    "# Dragon Age Origins     |  47810\n",
    "# Star Wars Jedi Knight  |   6020\n",
    "# NFS Shift              |  24870\n",
    "# Final DOOM             |   2290\n",
    "# Earthworm Jim          | 901147"
   ]
  },
  {
   "cell_type": "code",
   "execution_count": 272,
   "metadata": {},
   "outputs": [
    {
     "name": "stdout",
     "output_type": "stream",
     "text": [
      "Juego Seleccionado\n",
      "--------------------------------------------------------------------------------\n",
      "Tennis Elbow 2013\n",
      "================================================================================\n",
      "Juegos Recomendados\n",
      "--------------------------------------------------------------------------------\n",
      "27138                  Shin Samurai Jazz\n",
      "25005    RONIN - Special Edition Upgrade\n",
      "25004                     Genesis Online\n",
      "9882                  Table Football Pro\n",
      "12324         WWE 2K18 - Kurt Angle Pack\n",
      "19575                          Burgers 2\n",
      "Name: app_name, dtype: object\n"
     ]
    },
    {
     "name": "stderr",
     "output_type": "stream",
     "text": [
      "c:\\Users\\urtea\\AppData\\Local\\Programs\\Python\\Python312\\Lib\\site-packages\\sklearn\\base.py:465: UserWarning: X does not have valid feature names, but NearestNeighbors was fitted with feature names\n",
      "  warnings.warn(\n"
     ]
    }
   ],
   "source": [
    "### 6. TEST de modelo \n",
    "\n",
    "item_busqueda = 346470\n",
    "index = games_dummies.index[games_id_names['item_id'] == item_busqueda][0]\n",
    "#print(games_id_names[\"app_name\"].iloc[index])\n",
    "\n",
    "game_eval = np.array(games_dummies.iloc[index]).reshape(1,-1)\n",
    "dif, ind = nneighbors.kneighbors(game_eval)\n",
    "\n",
    "#print(df_games_names.loc[ind[0][0:], \"app_name\"].values)\n",
    "\n",
    "print(\"Juego Seleccionado\")\n",
    "print(\"-\"*80)\n",
    "print(games_id_names[\"app_name\"].iloc[index])\n",
    "\n",
    "if df_games_names.loc[ind[0][0], :].iloc[0] == item_busqueda:\n",
    "    print(\"=\"*80)\n",
    "    print(\"Juegos Recomendados\")\n",
    "    print(\"-\"*80)\n",
    "    print(df_games_names.loc[ind[0][1:6],  \"app_name\"])\n",
    "else:\n",
    "    print(\"=\"*80)\n",
    "    print(\"Juegos Recomendados\")\n",
    "    print(\"-\"*80)\n",
    "    print(df_games_names.loc[ind[0][0:],  \"app_name\"])"
   ]
  },
  {
   "cell_type": "markdown",
   "metadata": {},
   "source": [
    "Entrenamiento del segundo modelo (V2)"
   ]
  },
  {
   "cell_type": "code",
   "execution_count": 257,
   "metadata": {},
   "outputs": [],
   "source": [
    "# Detecto categorías en specs, genres y labels que, a mi criterio, no aportan información al algoritmo\n",
    "\n",
    "#df_games_specs.columns\n",
    "\n",
    "# Encuentro que de acá podría solo dejar ['Mods','Online Multi-Player','Standing','Local Multi-Player','Room-Scale',\n",
    "# 'Single-player', 'Windows Mixed Reality', 'Keyboard / Mouse','HTC Vive', 'Cross-Platform Multiplayer', 'Online Co-op', 'Seated',\n",
    "# 'MMO','Co-op', 'Gamepad', 'Downloadable Content','Local Co-op','Multi-player']\n",
    "\n",
    "#df_games_genres.columns\n",
    "\n",
    "# Encuentro que de acá podría sacar Early Acces\n",
    "\n",
    "#df_games_tags.columns[300:]\n",
    "\n",
    "# De acá puedo sacar \"Early Acces\",\"Soundtrack\"\n",
    "\n",
    "# CAMBIOS PARA NUEVO ESTADO DE SISTEMA DE RECOMENDACION (V2)\n",
    "\n",
    "#   * Eliminar las columnas nombradas\n",
    "#   * Ponderar specs*1 genres*4 tags*0.5 (Por inspección, genres pondera mejor, luego specs y luegos tags, ya que tags es definido por usuarios y hay errores)"
   ]
  },
  {
   "cell_type": "code",
   "execution_count": 273,
   "metadata": {},
   "outputs": [
    {
     "name": "stderr",
     "output_type": "stream",
     "text": [
      "C:\\Users\\urtea\\AppData\\Local\\Temp\\ipykernel_6800\\564995624.py:23: FutureWarning: Setting an item of incompatible dtype is deprecated and will raise in a future error of pandas. Value '0.5' has dtype incompatible with int32, please explicitly cast to a compatible dtype first.\n",
      "  df_games_tags[df_games_tags == 1] = 0.5\n"
     ]
    }
   ],
   "source": [
    "### 2. Carga de dataframes\n",
    "\n",
    "df_games_tec = pd.read_parquet('df_games_tec.parquet')\n",
    "df_games_genres = pd.read_parquet('df_games_genres.parquet')\n",
    "df_games_specs = pd.read_parquet('df_games_specs.parquet')\n",
    "df_games_tags = pd.read_parquet('df_games_tags.parquet')\n",
    "\n",
    "# Vuelvo a realizar el SIST de RECO con estas modificaciones:\n",
    "\n",
    "### 3. Selecciono solo las columnas de interés\n",
    "\n",
    "df_games_names = df_games_tec[['item_id', 'app_name']]\n",
    "df_games_genres = df_games_genres.drop(columns=['genres','Early Access'])\n",
    "df_games_specs = df_games_specs[['item_id','Mods','Online Multi-Player','Standing','Local Multi-Player','Room-Scale',\n",
    "    'Single-player', 'Windows Mixed Reality', 'Keyboard / Mouse','HTC Vive', 'Cross-Platform Multiplayer', 'Online Co-op', 'Seated',\n",
    "    'MMO','Co-op', 'Gamepad', 'Downloadable Content','Local Co-op','Multi-player']]\n",
    "df_games_tags = df_games_tags.drop(columns=['tags',\"Early Access\",\"Soundtrack\"])\n",
    "\n",
    "### 4. Pondero categorías\n",
    "\n",
    "df_games_specs[df_games_genres == 1] = 4\n",
    "df_games_specs[df_games_specs == 1] = 1\n",
    "df_games_tags[df_games_tags == 1] = 0.5\n",
    "\n",
    "# Realiza un join de los DataFrames df1 y df2\n",
    "merged_df_1 = pd.merge(df_games_names, df_games_genres, on='item_id', how='inner')\n",
    "\n",
    "# Realiza un join de merged_df con df3\n",
    "merged_df_2 = pd.merge(merged_df_1, df_games_specs, on='item_id', how='inner')\n",
    "\n",
    "# Realiza un join de merged_df con df3\n",
    "merged_df_final = pd.merge(merged_df_2, df_games_tags, on='item_id', how='inner')\n",
    "\n",
    "### 5. Separo Info de nombre de variables dummies\n",
    "\n",
    "#games_dummies = merged_df_final.drop(columns=['item_id', 'app_name'])\n",
    "games_dummies = merged_df_final.drop(columns=['item_id', 'app_name'])\n",
    "games_id_names = merged_df_final[['item_id', 'app_name']]\n",
    "\n",
    "### 6. Segundo entrenamiento del modelo (V2)\n",
    "\n",
    "n_neighbors = 6\n",
    "\n",
    "nneighbors = NearestNeighbors(n_neighbors = n_neighbors, metric = 'cosine').fit(games_dummies)\n"
   ]
  },
  {
   "cell_type": "code",
   "execution_count": null,
   "metadata": {},
   "outputs": [],
   "source": [
    "# Indices de prueba. Juegos de diferentes características\n",
    "\n",
    "# Counter Strike         |     10\n",
    "# PES 2018               | 592580\n",
    "# AGE III                | 105450\n",
    "# Simcity 4              |  24780\n",
    "# Tennis Elbow 2013      | 346470\n",
    "# Civilization IV        |  16810\n",
    "# Darksiders             |  50620\n",
    "# Fallout NV             |  22380\n",
    "# Dragon Age Origins     |  47810\n",
    "# Star Wars Jedi Knight  |   6020\n",
    "# NFS Shift              |  24870\n",
    "# Final DOOM             |   2290\n",
    "# Earthworm Jim          | 901147"
   ]
  },
  {
   "cell_type": "code",
   "execution_count": 274,
   "metadata": {},
   "outputs": [
    {
     "name": "stdout",
     "output_type": "stream",
     "text": [
      "Juego Seleccionado\n",
      "--------------------------------------------------------------------------------\n",
      "Tennis Elbow 2013\n",
      "================================================================================\n",
      "Juegos Recomendados\n",
      "--------------------------------------------------------------------------------\n",
      "27138                  Shin Samurai Jazz\n",
      "25005    RONIN - Special Edition Upgrade\n",
      "25004                     Genesis Online\n",
      "14061                      Rytmik Studio\n",
      "19575                          Burgers 2\n",
      "9882                  Table Football Pro\n",
      "Name: app_name, dtype: object\n"
     ]
    },
    {
     "name": "stderr",
     "output_type": "stream",
     "text": [
      "c:\\Users\\urtea\\AppData\\Local\\Programs\\Python\\Python312\\Lib\\site-packages\\sklearn\\base.py:465: UserWarning: X does not have valid feature names, but NearestNeighbors was fitted with feature names\n",
      "  warnings.warn(\n"
     ]
    }
   ],
   "source": [
    "### 7. TEST de modelo \n",
    "\n",
    "item_busqueda = 346470\n",
    "index = games_dummies.index[games_id_names['item_id'] == item_busqueda][0]\n",
    "#print(games_id_names[\"app_name\"].iloc[index])\n",
    "\n",
    "game_eval = np.array(games_dummies.iloc[index]).reshape(1,-1)\n",
    "dif, ind = nneighbors.kneighbors(game_eval)\n",
    "\n",
    "#print(df_games_names.loc[ind[0][0:], \"app_name\"].values)\n",
    "\n",
    "print(\"Juego Seleccionado\")\n",
    "print(\"-\"*80)\n",
    "print(games_id_names[\"app_name\"].iloc[index])\n",
    "\n",
    "if df_games_names.loc[ind[0][0], :].iloc[0] == item_busqueda:\n",
    "    print(\"=\"*80)\n",
    "    print(\"Juegos Recomendados\")\n",
    "    print(\"-\"*80)\n",
    "    print(df_games_names.loc[ind[0][1:6],  \"app_name\"])\n",
    "else:\n",
    "    print(\"=\"*80)\n",
    "    print(\"Juegos Recomendados\")\n",
    "    print(\"-\"*80)\n",
    "    print(df_games_names.loc[ind[0][0:],  \"app_name\"])"
   ]
  },
  {
   "cell_type": "code",
   "execution_count": 24,
   "metadata": {},
   "outputs": [
    {
     "name": "stdout",
     "output_type": "stream",
     "text": [
      "item_id\n",
      "Single-player\n",
      "Downloadable Content\n"
     ]
    }
   ],
   "source": [
    "for iter in range(len(df_games_specs.columns)):\n",
    "    if df_games_specs.iloc[30698, iter] != 0:\n",
    "        nombre_columna = df_games_specs.columns[iter]\n",
    "        print(nombre_columna)\n",
    "\n",
    "# Por inspección encuentro que debo eliminar \"Downloable Content\" de df_games_specs para evitar que me recomiende DLCS y contenido descargable.\n",
    "# También encuentro que puede recomendar juegos de cualquier año y eso puede ser algo no deseable"
   ]
  },
  {
   "cell_type": "code",
   "execution_count": null,
   "metadata": {},
   "outputs": [],
   "source": [
    "# 6. Tercer entrenamiento del modelo (V3)\n",
    "\n",
    "# CAMBIOS PARA NUEVO ESTADO DE SISTEMA DE RECOMENDACION (V3)\n",
    "\n",
    "#   * Eliminar Downloable Content\n",
    "#   * Agregar y ponderar columna de decada del juego "
   ]
  },
  {
   "cell_type": "code",
   "execution_count": 25,
   "metadata": {},
   "outputs": [
    {
     "data": {
      "text/plain": [
       "Index(['app_name', 'item_id', 'publisher', 'release_date', 'price',\n",
       "       'developer', 'release_year'],\n",
       "      dtype='object')"
      ]
     },
     "execution_count": 25,
     "metadata": {},
     "output_type": "execute_result"
    }
   ],
   "source": [
    "df_games_tec.columns"
   ]
  },
  {
   "cell_type": "code",
   "execution_count": 26,
   "metadata": {},
   "outputs": [
    {
     "data": {
      "text/plain": [
       "release_year\n",
       "2017    9518\n",
       "2016    6933\n",
       "2015    4945\n",
       "2014    2831\n",
       "2013    1551\n",
       "2012    1191\n",
       "2011     589\n",
       "2010     436\n",
       "2009     337\n",
       "2008     213\n",
       "2007     167\n",
       "2006     155\n",
       "2005     102\n",
       "2018      96\n",
       "2003      84\n",
       "2004      79\n",
       "2001      69\n",
       "1998      61\n",
       "1999      55\n",
       "2002      50\n",
       "1997      42\n",
       "2000      40\n",
       "1996      39\n",
       "1994      36\n",
       "1993      34\n",
       "1995      33\n",
       "1991      16\n",
       "1992      15\n",
       "1990      12\n",
       "1989      10\n",
       "1987       9\n",
       "1988       7\n",
       "1984       4\n",
       "1983       4\n",
       "1985       3\n",
       "1982       3\n",
       "1981       3\n",
       "2019       3\n",
       "1970       2\n",
       "1986       1\n",
       "2021       1\n",
       "1975       1\n",
       "1980       1\n",
       "Name: count, dtype: Int64"
      ]
     },
     "execution_count": 26,
     "metadata": {},
     "output_type": "execute_result"
    }
   ],
   "source": [
    "df_games_tec[\"release_year\"].value_counts()"
   ]
  },
  {
   "cell_type": "code",
   "execution_count": 27,
   "metadata": {},
   "outputs": [],
   "source": [
    "# Agrupo las fechas en décadas para que la influencia del año de cada juego sea mas flexible. Luego, genero variables dummies.\n",
    "\n",
    "df_games_release_lustrum = df_games_tec[['item_id', 'release_year']].copy()\n",
    "\n",
    "# Definir los límites de los lustros\n",
    "bins = [0, 1999, 2005, 2010, 2015, 9999]\n",
    "labels = ['before_2000', '2000_2005', '2005_2010', '2010_2015', 'after_2015']\n",
    "\n",
    "# Dividir los años en lustros y crear variables dummies\n",
    "df_games_release_lustrum['release_lustrum'] = pd.cut(df_games_release_lustrum['release_year'], bins=bins, labels=labels)\n",
    "df_games_release_lustrum = pd.get_dummies(df_games_release_lustrum, columns=['release_lustrum'])\n",
    "df_games_release_lustrum = df_games_release_lustrum.multiply(1)\n",
    "\n",
    "# Eliminar la columna original de 'release_year'\n",
    "df_games_release_lustrum.drop(columns=['release_year'], inplace=True)\n"
   ]
  },
  {
   "cell_type": "code",
   "execution_count": 28,
   "metadata": {},
   "outputs": [
    {
     "data": {
      "text/plain": [
       "release_lustrum_2010_2015\n",
       "0    21025\n",
       "1    11107\n",
       "Name: count, dtype: int64"
      ]
     },
     "execution_count": 28,
     "metadata": {},
     "output_type": "execute_result"
    }
   ],
   "source": [
    "df_games_release_lustrum[\"release_lustrum_2010_2015\"].value_counts()"
   ]
  },
  {
   "cell_type": "code",
   "execution_count": 41,
   "metadata": {},
   "outputs": [
    {
     "data": {
      "text/plain": [
       "app_name        Maze Run VR\n",
       "item_id            681550.0\n",
       "publisher              None\n",
       "release_date            NaT\n",
       "price                  4.99\n",
       "developer              None\n",
       "release_year           <NA>\n",
       "Name: 32131, dtype: object"
      ]
     },
     "execution_count": 41,
     "metadata": {},
     "output_type": "execute_result"
    }
   ],
   "source": [
    "df_games_tec.iloc[32131]"
   ]
  },
  {
   "cell_type": "code",
   "execution_count": 40,
   "metadata": {},
   "outputs": [
    {
     "data": {
      "text/plain": [
       "release_lustrum_after_2015\n",
       "1    16551\n",
       "0    15581\n",
       "Name: count, dtype: int64"
      ]
     },
     "execution_count": 40,
     "metadata": {},
     "output_type": "execute_result"
    }
   ],
   "source": [
    "df_games_release_lustrum[\"release_lustrum_after_2015\"].value_counts()"
   ]
  },
  {
   "cell_type": "code",
   "execution_count": 33,
   "metadata": {},
   "outputs": [
    {
     "data": {
      "text/html": [
       "<div>\n",
       "<style scoped>\n",
       "    .dataframe tbody tr th:only-of-type {\n",
       "        vertical-align: middle;\n",
       "    }\n",
       "\n",
       "    .dataframe tbody tr th {\n",
       "        vertical-align: top;\n",
       "    }\n",
       "\n",
       "    .dataframe thead th {\n",
       "        text-align: right;\n",
       "    }\n",
       "</style>\n",
       "<table border=\"1\" class=\"dataframe\">\n",
       "  <thead>\n",
       "    <tr style=\"text-align: right;\">\n",
       "      <th></th>\n",
       "      <th>item_id</th>\n",
       "      <th>release_lustrum_before_2000</th>\n",
       "      <th>release_lustrum_2000_2005</th>\n",
       "      <th>release_lustrum_2005_2010</th>\n",
       "      <th>release_lustrum_2010_2015</th>\n",
       "      <th>release_lustrum_after_2015</th>\n",
       "    </tr>\n",
       "  </thead>\n",
       "  <tbody>\n",
       "    <tr>\n",
       "      <th>32127</th>\n",
       "      <td>773640.0</td>\n",
       "      <td>0</td>\n",
       "      <td>0</td>\n",
       "      <td>0</td>\n",
       "      <td>0</td>\n",
       "      <td>1</td>\n",
       "    </tr>\n",
       "    <tr>\n",
       "      <th>32128</th>\n",
       "      <td>733530.0</td>\n",
       "      <td>0</td>\n",
       "      <td>0</td>\n",
       "      <td>0</td>\n",
       "      <td>0</td>\n",
       "      <td>1</td>\n",
       "    </tr>\n",
       "    <tr>\n",
       "      <th>32129</th>\n",
       "      <td>610660.0</td>\n",
       "      <td>0</td>\n",
       "      <td>0</td>\n",
       "      <td>0</td>\n",
       "      <td>0</td>\n",
       "      <td>1</td>\n",
       "    </tr>\n",
       "    <tr>\n",
       "      <th>32130</th>\n",
       "      <td>658870.0</td>\n",
       "      <td>0</td>\n",
       "      <td>0</td>\n",
       "      <td>0</td>\n",
       "      <td>0</td>\n",
       "      <td>1</td>\n",
       "    </tr>\n",
       "    <tr>\n",
       "      <th>32131</th>\n",
       "      <td>681550.0</td>\n",
       "      <td>0</td>\n",
       "      <td>0</td>\n",
       "      <td>0</td>\n",
       "      <td>0</td>\n",
       "      <td>0</td>\n",
       "    </tr>\n",
       "  </tbody>\n",
       "</table>\n",
       "</div>"
      ],
      "text/plain": [
       "        item_id  release_lustrum_before_2000  release_lustrum_2000_2005  \\\n",
       "32127  773640.0                            0                          0   \n",
       "32128  733530.0                            0                          0   \n",
       "32129  610660.0                            0                          0   \n",
       "32130  658870.0                            0                          0   \n",
       "32131  681550.0                            0                          0   \n",
       "\n",
       "       release_lustrum_2005_2010  release_lustrum_2010_2015  \\\n",
       "32127                          0                          0   \n",
       "32128                          0                          0   \n",
       "32129                          0                          0   \n",
       "32130                          0                          0   \n",
       "32131                          0                          0   \n",
       "\n",
       "       release_lustrum_after_2015  \n",
       "32127                           1  \n",
       "32128                           1  \n",
       "32129                           1  \n",
       "32130                           1  \n",
       "32131                           0  "
      ]
     },
     "execution_count": 33,
     "metadata": {},
     "output_type": "execute_result"
    }
   ],
   "source": [
    "# Mostrar el nuevo DataFrame\n",
    "df_games_release_lustrum.tail()"
   ]
  },
  {
   "cell_type": "code",
   "execution_count": 42,
   "metadata": {},
   "outputs": [
    {
     "name": "stderr",
     "output_type": "stream",
     "text": [
      "C:\\Users\\urtea\\AppData\\Local\\Temp\\ipykernel_6800\\1979004.py:40: FutureWarning: Setting an item of incompatible dtype is deprecated and will raise in a future error of pandas. Value '0.25' has dtype incompatible with int32, please explicitly cast to a compatible dtype first.\n",
      "  df_games_specs[df_games_specs == 1] = 0.25\n",
      "C:\\Users\\urtea\\AppData\\Local\\Temp\\ipykernel_6800\\1979004.py:42: FutureWarning: Setting an item of incompatible dtype is deprecated and will raise in a future error of pandas. Value '0.125' has dtype incompatible with int32, please explicitly cast to a compatible dtype first.\n",
      "  df_games_genres[df_games_genres == 1] = 0.125\n"
     ]
    }
   ],
   "source": [
    "# 2. Carga de dataframes\n",
    "\n",
    "df_games_tec = pd.read_parquet('df_games_tec.parquet')\n",
    "df_games_genres = pd.read_parquet('df_games_genres.parquet')\n",
    "df_games_specs = pd.read_parquet('df_games_specs.parquet')\n",
    "df_games_tags = pd.read_parquet('df_games_tags.parquet')\n",
    "\n",
    "# Agrupo las fechas en décadas para que la influencia del año de cada juego sea mas flexible. Luego, genero variables dummies.\n",
    "\n",
    "df_games_release_lustrum = df_games_tec[['item_id', 'release_year']].copy()\n",
    "\n",
    "# Definir los límites de los lustros\n",
    "bins = [0, 1999, 2005, 2010, 2015, 9999]\n",
    "labels = ['before_2000', '2000_2005', '2005_2010', '2010_2015', 'after_2015']\n",
    "\n",
    "# Dividir los años en lustros y crear variables dummies\n",
    "df_games_release_lustrum['release_lustrum'] = pd.cut(df_games_release_lustrum['release_year'], bins=bins, labels=labels)\n",
    "df_games_release_lustrum = pd.get_dummies(df_games_release_lustrum, columns=['release_lustrum'])\n",
    "df_games_release_lustrum = df_games_release_lustrum.multiply(1)\n",
    "\n",
    "# Eliminar la columna original de 'release_year'\n",
    "df_games_release_lustrum.drop(columns=['release_year'], inplace=True)\n",
    "\n",
    "\n",
    "\n",
    "# Vuelvo a realizar el SIST de RECO con estas modificaciones:\n",
    "# OJO: Volver a cargar dfs\n",
    "\n",
    "# Selecciono solo las columnas de interés\n",
    "\n",
    "df_games_names = df_games_tec[['item_id', 'app_name']]\n",
    "df_games_genres = df_games_genres.drop(columns=['genres','Early Access'])\n",
    "df_games_specs = df_games_specs[['item_id','Online Multi-Player','Local Multi-Player','Room-Scale',\n",
    "    'Single-player', 'Keyboard / Mouse', 'Cross-Platform Multiplayer', 'Online Co-op', 'Seated',\n",
    "    'MMO','Co-op', 'Gamepad','Local Co-op','Multi-player']]\n",
    "df_games_tags = df_games_tags.drop(columns=['tags',\"Early Access\",\"Soundtrack\"])\n",
    "\n",
    "# Pondero categorías\n",
    "df_games_release_lustrum[df_games_release_lustrum == 1] = 1 # Ponderación fuerte ya que es una sola columna con 1\n",
    "df_games_specs[df_games_specs == 1] = 0.25\n",
    "df_games_tags[df_games_tags == 1] = 1\n",
    "df_games_genres[df_games_genres == 1] = 0.125\n",
    "\n",
    "# Realiza un join de los DataFrames df1 y df2\n",
    "merged_df_1 = pd.merge(df_games_names, df_games_genres, on='item_id', how='inner')\n",
    "\n",
    "# Realiza un join de merged_df con df3\n",
    "merged_df_2 = pd.merge(merged_df_1, df_games_specs, on='item_id', how='inner')\n",
    "\n",
    "# Realiza un join de merged_df con df3\n",
    "merged_df_3 = pd.merge(merged_df_2, df_games_release_lustrum, on='item_id', how='inner')\n",
    "\n",
    "# Realiza un join de merged_df con df3\n",
    "merged_df_final = pd.merge(merged_df_3, df_games_tags, on='item_id', how='inner')"
   ]
  },
  {
   "cell_type": "code",
   "execution_count": 233,
   "metadata": {},
   "outputs": [],
   "source": [
    "# Índices de juegos conocidos para luego poder evaluar el desempeño del modelo\n",
    "\n",
    "# Juego Counter Strike 32103\n",
    "# Juego de futbol 32108\n",
    "# Juego de baseball 6001\n",
    "# Juego de Formula 1 7013\n",
    "# Juego Worms 7027"
   ]
  },
  {
   "cell_type": "code",
   "execution_count": 43,
   "metadata": {},
   "outputs": [
    {
     "name": "stdout",
     "output_type": "stream",
     "text": [
      "Juego seleccionado\n",
      "================================================================================\n",
      "item_id               10.0\n",
      "app_name    Counter-Strike\n",
      "Name: 32103, dtype: object\n",
      "Juegos recomendados\n",
      "================================================================================\n"
     ]
    },
    {
     "name": "stderr",
     "output_type": "stream",
     "text": [
      "c:\\Users\\urtea\\AppData\\Local\\Programs\\Python\\Python312\\Lib\\site-packages\\sklearn\\base.py:465: UserWarning: X does not have valid feature names, but NearestNeighbors was fitted with feature names\n",
      "  warnings.warn(\n"
     ]
    },
    {
     "data": {
      "text/html": [
       "<div>\n",
       "<style scoped>\n",
       "    .dataframe tbody tr th:only-of-type {\n",
       "        vertical-align: middle;\n",
       "    }\n",
       "\n",
       "    .dataframe tbody tr th {\n",
       "        vertical-align: top;\n",
       "    }\n",
       "\n",
       "    .dataframe thead th {\n",
       "        text-align: right;\n",
       "    }\n",
       "</style>\n",
       "<table border=\"1\" class=\"dataframe\">\n",
       "  <thead>\n",
       "    <tr style=\"text-align: right;\">\n",
       "      <th></th>\n",
       "      <th>item_id</th>\n",
       "      <th>app_name</th>\n",
       "    </tr>\n",
       "  </thead>\n",
       "  <tbody>\n",
       "    <tr>\n",
       "      <th>16812</th>\n",
       "      <td>645130.0</td>\n",
       "      <td>Space Dream VR</td>\n",
       "    </tr>\n",
       "    <tr>\n",
       "      <th>17924</th>\n",
       "      <td>627030.0</td>\n",
       "      <td>Fantasy Grounds - Pathfinder RPG - Rise of the...</td>\n",
       "    </tr>\n",
       "    <tr>\n",
       "      <th>10390</th>\n",
       "      <td>672570.0</td>\n",
       "      <td>The Western Hunter</td>\n",
       "    </tr>\n",
       "    <tr>\n",
       "      <th>19863</th>\n",
       "      <td>540711.0</td>\n",
       "      <td>Assetto Corsa - Porsche Pack III</td>\n",
       "    </tr>\n",
       "    <tr>\n",
       "      <th>14682</th>\n",
       "      <td>728461.0</td>\n",
       "      <td>NASCAR Heat 2 - October Value Pack</td>\n",
       "    </tr>\n",
       "  </tbody>\n",
       "</table>\n",
       "</div>"
      ],
      "text/plain": [
       "        item_id                                           app_name\n",
       "16812  645130.0                                     Space Dream VR\n",
       "17924  627030.0  Fantasy Grounds - Pathfinder RPG - Rise of the...\n",
       "10390  672570.0                                 The Western Hunter\n",
       "19863  540711.0                   Assetto Corsa - Porsche Pack III\n",
       "14682  728461.0                 NASCAR Heat 2 - October Value Pack"
      ]
     },
     "execution_count": 43,
     "metadata": {},
     "output_type": "execute_result"
    }
   ],
   "source": [
    "games_dummies = merged_df_final.drop(columns=['item_id', 'app_name'])\n",
    "\n",
    "n_neighbors=6\n",
    "nneighbors = NearestNeighbors(n_neighbors = n_neighbors, metric = 'cosine').fit(games_dummies)\n",
    "\n",
    "index = 32103\n",
    "game_eval = np.array(games_dummies.iloc[index]).reshape(1,-1)\n",
    "dif, ind = nneighbors.kneighbors(game_eval)\n",
    "\n",
    "print(\"Juego seleccionado\")\n",
    "print(\"=\"*80)\n",
    "print(df_games_names.loc[ind[0][0], :])\n",
    "print(\"Juegos recomendados\")\n",
    "print(\"=\"*80)\n",
    "df_games_names.loc[ind[0][1:], :]"
   ]
  },
  {
   "cell_type": "code",
   "execution_count": null,
   "metadata": {},
   "outputs": [],
   "source": [
    "# 7. **Cuarto entrenamiento del modelo (V4)**\n",
    "\n",
    "# CAMBIOS PARA NUEVO ESTADO DE SISTEMA DE RECOMENDACION (V4)\n",
    "\n",
    "#   * Dividir cada variable dummie por la sumatoria total de etiquetas en cada categoría (genre, spec y tags)"
   ]
  },
  {
   "cell_type": "code",
   "execution_count": 44,
   "metadata": {},
   "outputs": [
    {
     "data": {
      "text/plain": [
       "Index(['item_id', 'Thriller', 'Philisophical', 'Superhero',\n",
       "       'Massively Multiplayer', 'Diplomacy', 'Satire', 'Mature',\n",
       "       'Side Scroller', 'Mystery Dungeon',\n",
       "       ...\n",
       "       'Word Game', 'Visual Novel', 'Experimental', 'Capitalism', 'Hex Grid',\n",
       "       'Hacking', 'Video Production', 'Hunting', 'Turn-Based', 'Underwater'],\n",
       "      dtype='object', length=338)"
      ]
     },
     "execution_count": 44,
     "metadata": {},
     "output_type": "execute_result"
    }
   ],
   "source": [
    "df_games_tags.columns"
   ]
  },
  {
   "cell_type": "code",
   "execution_count": 45,
   "metadata": {},
   "outputs": [],
   "source": [
    "# 2. Carga de dataframes\n",
    "\n",
    "df_games_tec = pd.read_parquet('df_games_tec.parquet')\n",
    "df_games_genres = pd.read_parquet('df_games_genres.parquet')\n",
    "df_games_specs = pd.read_parquet('df_games_specs.parquet')\n",
    "df_games_tags = pd.read_parquet('df_games_tags.parquet')\n",
    "\n",
    "# Selecciono solo las columnas de interés\n",
    "\n",
    "df_games_names = df_games_tec[['item_id', 'app_name']]\n",
    "df_games_genres = df_games_genres.drop(columns=['genres','Early Access'])\n",
    "df_games_specs = df_games_specs[['item_id','Online Multi-Player','Local Multi-Player','Room-Scale',\n",
    "    'Single-player', 'Keyboard / Mouse', 'Cross-Platform Multiplayer', 'Online Co-op', 'Seated',\n",
    "    'MMO','Co-op', 'Gamepad','Local Co-op','Multi-player']]\n",
    "df_games_tags = df_games_tags.drop(columns=['tags',\"Early Access\",\"Soundtrack\"])\n",
    "\n",
    "# Seleccionar solo las columnas de variables dummies\n",
    "df_games_genres_dummies = df_games_genres.drop(columns=['item_id'])\n",
    "df_games_specs_dummies = df_games_specs.drop(columns=['item_id'])\n",
    "df_games_tags_dummies = df_games_tags.drop(columns=['item_id'])\n",
    "\n",
    "# Sumar por fila la cantidad de variables dummies que son 1\n",
    "suma_por_fila1 = df_games_genres_dummies.sum(axis=1)\n",
    "suma_por_fila2 = df_games_specs_dummies.sum(axis=1)\n",
    "suma_por_fila3 = df_games_tags_dummies.sum(axis=1)\n",
    "\n",
    "# Dividir cada valor en la fila por la suma total (evitando la división por cero)\n",
    "df_games_genres_dummies_dividido = df_games_genres_dummies.div(suma_por_fila1, axis=0)\n",
    "df_games_specs_dummies_dividido = df_games_specs_dummies.div(suma_por_fila2, axis=0)\n",
    "df_games_tags_dummies_dividido = df_games_tags_dummies.div(suma_por_fila3, axis=0)\n",
    "\n",
    "# Reemplazar NaN con 0 si la suma por fila es 0\n",
    "df_games_genres_dummies_dividido.fillna(0, inplace=True)\n",
    "df_games_specs_dummies_dividido.fillna(0, inplace=True)\n",
    "df_games_tags_dummies_dividido.fillna(0, inplace=True)\n",
    "\n",
    "# Unir el DataFrame resultante con las columnas 'item_id' y 'genres'\n",
    "df_games_genres_v4 = pd.concat([df_games_genres[['item_id']], df_games_genres_dummies_dividido], axis=1)\n",
    "df_games_specs_v4 = pd.concat([df_games_specs[['item_id']], df_games_specs_dummies_dividido], axis=1)\n",
    "df_games_tags_v4 = pd.concat([df_games_tags[['item_id']], df_games_tags_dummies_dividido], axis=1)\n"
   ]
  },
  {
   "cell_type": "code",
   "execution_count": 46,
   "metadata": {},
   "outputs": [],
   "source": [
    "# Agrupo las fechas en décadas para que la influencia del año de cada juego sea mas flexible. Luego, genero variables dummies.\n",
    "\n",
    "df_games_release_lustrum = df_games_tec[['item_id', 'release_year']].copy()\n",
    "\n",
    "# Definir los límites de los lustros\n",
    "bins = [0, 1999, 2005, 2010, 2015, 9999]\n",
    "labels = ['before_2000', '2000_2005', '2005_2010', '2010_2015', 'after_2015']\n",
    "\n",
    "# Dividir los años en lustros y crear variables dummies\n",
    "df_games_release_lustrum['release_lustrum'] = pd.cut(df_games_release_lustrum['release_year'], bins=bins, labels=labels)\n",
    "df_games_release_lustrum = pd.get_dummies(df_games_release_lustrum, columns=['release_lustrum'])\n",
    "df_games_release_lustrum = df_games_release_lustrum.multiply(1)\n",
    "\n",
    "# Eliminar la columna original de 'release_year'\n",
    "df_games_release_lustrum.drop(columns=['release_year'], inplace=True)\n",
    "\n",
    "# Vuelvo a realizar el SIST de RECO con estas modificaciones:\n",
    "# OJO: Volver a cargar dfs\n",
    "\n",
    "# Pondero categorías\n",
    "df_games_release_lustrum[df_games_release_lustrum == 1] = 2 # Ponderación fuerte ya que es una sola columna con 1\n",
    "#df_games_specs_v4[df_games_specs_v4 == 1] = 0.25\n",
    "#df_games_tags_v4[df_games_tags == 1] = 1\n",
    "#df_games_genres_v4[df_games_genres == 1] = 0.125\n",
    "\n",
    "# Realiza un join de los DataFrames df1 y df2\n",
    "merged_df_1 = pd.merge(df_games_names, df_games_genres_v4, on='item_id', how='inner')\n",
    "\n",
    "# Realiza un join de merged_df con df3\n",
    "merged_df_2 = pd.merge(merged_df_1, df_games_specs_v4, on='item_id', how='inner')\n",
    "\n",
    "# Realiza un join de merged_df con df3\n",
    "merged_df_3 = pd.merge(merged_df_2, df_games_release_lustrum, on='item_id', how='inner')\n",
    "\n",
    "# Realiza un join de merged_df con df3\n",
    "merged_df_final = pd.merge(merged_df_3, df_games_tags_v4, on='item_id', how='inner')"
   ]
  },
  {
   "cell_type": "code",
   "execution_count": null,
   "metadata": {},
   "outputs": [],
   "source": [
    "# Índices de juegos conocidos para luego poder evaluar el desempeño del modelo\n",
    "\n",
    "# Juego Counter Strike 32103\n",
    "# Juego de futbol 32108\n",
    "# Juego de baseball 6001\n",
    "# Juego de Formula 1 7013\n",
    "# Juego Worms 7027"
   ]
  },
  {
   "cell_type": "code",
   "execution_count": 47,
   "metadata": {},
   "outputs": [
    {
     "name": "stdout",
     "output_type": "stream",
     "text": [
      "Juego seleccionado\n",
      "================================================================================\n",
      "item_id        327030.0\n",
      "app_name    Worms W.M.D\n",
      "Name: 7027, dtype: object\n",
      "Juegos recomendados\n",
      "================================================================================\n"
     ]
    },
    {
     "name": "stderr",
     "output_type": "stream",
     "text": [
      "c:\\Users\\urtea\\AppData\\Local\\Programs\\Python\\Python312\\Lib\\site-packages\\sklearn\\base.py:465: UserWarning: X does not have valid feature names, but NearestNeighbors was fitted with feature names\n",
      "  warnings.warn(\n"
     ]
    },
    {
     "data": {
      "text/html": [
       "<div>\n",
       "<style scoped>\n",
       "    .dataframe tbody tr th:only-of-type {\n",
       "        vertical-align: middle;\n",
       "    }\n",
       "\n",
       "    .dataframe tbody tr th {\n",
       "        vertical-align: top;\n",
       "    }\n",
       "\n",
       "    .dataframe thead th {\n",
       "        text-align: right;\n",
       "    }\n",
       "</style>\n",
       "<table border=\"1\" class=\"dataframe\">\n",
       "  <thead>\n",
       "    <tr style=\"text-align: right;\">\n",
       "      <th></th>\n",
       "      <th>item_id</th>\n",
       "      <th>app_name</th>\n",
       "    </tr>\n",
       "  </thead>\n",
       "  <tbody>\n",
       "    <tr>\n",
       "      <th>23084</th>\n",
       "      <td>435460.0</td>\n",
       "      <td>NotCoD™</td>\n",
       "    </tr>\n",
       "    <tr>\n",
       "      <th>15373</th>\n",
       "      <td>637745.0</td>\n",
       "      <td>Rocksmith® 2014 Edition – Remastered – Marilyn...</td>\n",
       "    </tr>\n",
       "    <tr>\n",
       "      <th>23506</th>\n",
       "      <td>463090.0</td>\n",
       "      <td>Hatoful Boyfriend: Holiday Star Collector's Ed...</td>\n",
       "    </tr>\n",
       "    <tr>\n",
       "      <th>23083</th>\n",
       "      <td>438680.0</td>\n",
       "      <td>One Troll Army</td>\n",
       "    </tr>\n",
       "    <tr>\n",
       "      <th>12070</th>\n",
       "      <td>617810.0</td>\n",
       "      <td>Total War: WARHAMMER II - Mortal Empires</td>\n",
       "    </tr>\n",
       "  </tbody>\n",
       "</table>\n",
       "</div>"
      ],
      "text/plain": [
       "        item_id                                           app_name\n",
       "23084  435460.0                                            NotCoD™\n",
       "15373  637745.0  Rocksmith® 2014 Edition – Remastered – Marilyn...\n",
       "23506  463090.0  Hatoful Boyfriend: Holiday Star Collector's Ed...\n",
       "23083  438680.0                                     One Troll Army\n",
       "12070  617810.0           Total War: WARHAMMER II - Mortal Empires"
      ]
     },
     "execution_count": 47,
     "metadata": {},
     "output_type": "execute_result"
    }
   ],
   "source": [
    "games_dummies = merged_df_final.drop(columns=['item_id', 'app_name'])\n",
    "\n",
    "n_neighbors=6\n",
    "nneighbors = NearestNeighbors(n_neighbors = n_neighbors, metric = 'cosine').fit(games_dummies)\n",
    "\n",
    "index = 7027\n",
    "game_eval = np.array(games_dummies.iloc[index]).reshape(1,-1)\n",
    "dif, ind = nneighbors.kneighbors(game_eval)\n",
    "\n",
    "print(\"Juego seleccionado\")\n",
    "print(\"=\"*80)\n",
    "print(df_games_names.loc[ind[0][0], :])\n",
    "print(\"Juegos recomendados\")\n",
    "print(\"=\"*80)\n",
    "df_games_names.loc[ind[0][1:], :]"
   ]
  },
  {
   "cell_type": "code",
   "execution_count": 285,
   "metadata": {},
   "outputs": [],
   "source": [
    "# 8. Exporto en formato parquet el df final para implementar el Sistema de Recomendación V4\n",
    "\n",
    "merged_df_final.to_parquet('df_sist_reco_v4.parquet')\n"
   ]
  }
 ],
 "metadata": {
  "kernelspec": {
   "display_name": "Python 3",
   "language": "python",
   "name": "python3"
  },
  "language_info": {
   "codemirror_mode": {
    "name": "ipython",
    "version": 3
   },
   "file_extension": ".py",
   "mimetype": "text/x-python",
   "name": "python",
   "nbconvert_exporter": "python",
   "pygments_lexer": "ipython3",
   "version": "3.12.1"
  }
 },
 "nbformat": 4,
 "nbformat_minor": 2
}
