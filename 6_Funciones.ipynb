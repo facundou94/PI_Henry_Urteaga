{
 "cells": [
  {
   "cell_type": "markdown",
   "metadata": {},
   "source": [
    "### Proyecto Individual Henry\n",
    "**6_Funciones**  \n",
    "Funciones para la API\n",
    "**Autor: Bioing. Urteaga Facundo Nahuel**  "
   ]
  },
  {
   "cell_type": "code",
   "execution_count": 1,
   "metadata": {},
   "outputs": [],
   "source": [
    "# 1. Carga de librerías\n",
    "\n",
    "import numpy as np\n",
    "import pandas as pd\n",
    "from sklearn.neighbors import NearestNeighbors"
   ]
  },
  {
   "cell_type": "code",
   "execution_count": 2,
   "metadata": {},
   "outputs": [],
   "source": [
    "# 2. Carga de archivos\n",
    "\n",
    "df_games_tec = pd.read_parquet('df_games_tec.parquet')\n",
    "df_games_genres = pd.read_parquet('df_games_genres.parquet')\n",
    "df_games_specs = pd.read_parquet('df_games_specs.parquet')\n",
    "df_games_tags = pd.read_parquet('df_games_tags.parquet')\n",
    "df_reviews_con_sa = pd.read_parquet('df_reviews_con_sa.parquet')\n",
    "df_items = pd.read_parquet('df_items.parquet')"
   ]
  },
  {
   "cell_type": "code",
   "execution_count": 32,
   "metadata": {},
   "outputs": [],
   "source": [
    "# 2. Función PlayTimeGenre\n",
    "\n",
    "# def PlayTimeGenre( genero : str ): Debe devolver año con mas horas jugadas para dicho género.\n",
    "# Ejemplo de retorno: {\"Año de lanzamiento con más horas jugadas para Género X\" : 2013}"
   ]
  },
  {
   "cell_type": "code",
   "execution_count": 33,
   "metadata": {},
   "outputs": [],
   "source": [
    "def PlayTimeGenre(genero):\n",
    "    \n",
    "    # Lista de géneros disponibles\n",
    "    generos_disponibles = ['Utilities', 'Racing', 'Massively Multiplayer', 'Sports', 'Action', \n",
    "                           'Audio Production', 'Indie', 'Web Publishing', 'RPG', 'Photo Editing', \n",
    "                           'Casual', 'Software Training', 'Animation & Modeling', \n",
    "                           'Design & Illustration', 'Simulation', 'Adventure', 'Early Access', \n",
    "                           'Video Production', 'Education', 'Accounting', 'Free to Play', 'Strategy']\n",
    "    \n",
    "    \n",
    "    # Verificar si el género especificado existe en el DataFrame df_games_genres\n",
    "    if genero not in generos_disponibles:\n",
    "        return f\"No se encontró el género '{genero}' en la base de datos. Géneros disponibles: {', '.join(generos_disponibles)}\"\n",
    "    \n",
    "    try:\n",
    "        # Cargar solo las columnas necesarias de los archivos parquet\n",
    "        df_games_genres = pd.read_parquet('df_games_genres.parquet', columns=[\"item_id\", genero])\n",
    "        df_games_genres = df_games_genres[df_games_genres[genero] == 1]\n",
    "        \n",
    "        # Obtener los item_id relevantes\n",
    "        relevant_item_ids = df_games_genres['item_id'].unique()\n",
    "        \n",
    "        # Filtrar df_games_tec\n",
    "        df_games_tec = pd.read_parquet('df_games_tec.parquet', columns=[\"app_name\", \"item_id\", \"release_year\"])\n",
    "        df_games_tec = df_games_tec[df_games_tec['item_id'].isin(relevant_item_ids)]\n",
    "        \n",
    "        # Filtrar df_items\n",
    "        df_items = pd.read_parquet('df_items.parquet', columns=[\"item_id\", \"playtime_forever\"])\n",
    "        df_items = df_items[df_items['item_id'].isin(relevant_item_ids)]\n",
    "\n",
    "    except FileNotFoundError:\n",
    "        return \"Archivo no encontrado.\"\n",
    "\n",
    "    # Combinar los DataFrames\n",
    "    merged_df = pd.merge(df_games_tec, df_games_genres, on='item_id', how='inner')\n",
    "    merged_df = pd.merge(merged_df, df_items, on='item_id', how='inner')\n",
    "\n",
    "    # Eliminar los DataFrames cargados una vez realizada la fusión\n",
    "    del df_games_tec\n",
    "    del df_games_genres\n",
    "    del df_items\n",
    "    \n",
    "    # Agrupar por año de lanzamiento y sumar las horas jugadas\n",
    "    df_horas_jugadas_por_ano = merged_df.groupby('release_year')['playtime_forever'].sum()\n",
    "    \n",
    "    # Encontrar el año con la mayor cantidad de horas jugadas acumuladas\n",
    "    max_total_playtime_year = df_horas_jugadas_por_ano.idxmax()\n",
    "    \n",
    "    return f\"Año de lanzamiento con más horas jugadas para Género {genero}: {max_total_playtime_year}\""
   ]
  },
  {
   "cell_type": "code",
   "execution_count": 37,
   "metadata": {},
   "outputs": [
    {
     "data": {
      "text/plain": [
       "'Año de lanzamiento con más horas jugadas para Género Strategy: 2013'"
      ]
     },
     "execution_count": 37,
     "metadata": {},
     "output_type": "execute_result"
    }
   ],
   "source": [
    "PlayTimeGenre(\"Strategy\")"
   ]
  },
  {
   "cell_type": "code",
   "execution_count": null,
   "metadata": {},
   "outputs": [],
   "source": [
    "# 3. Función UserForGenre\n",
    "\n",
    "# def UserForGenre( genero : str ): Debe devolver el usuario que acumula más horas jugadas para el género dado y una lista de la acumulación de horas jugadas por año.\n",
    "# Ejemplo de retorno: {\"Usuario con más horas jugadas para Género X\" : us213ndjss09sdf, \"Horas jugadas\":[{Año: 2013, Horas: 203}, {Año: 2012, Horas: 100}, {Año: 2011, Horas: 23}]}"
   ]
  },
  {
   "cell_type": "code",
   "execution_count": 15,
   "metadata": {},
   "outputs": [],
   "source": [
    "def UserForGenre(genero):\n",
    "    \n",
    "    # Lista de géneros disponibles\n",
    "    generos_disponibles = ['Utilities', 'Racing', 'Massively Multiplayer', 'Sports', 'Action', \n",
    "                           'Audio Production', 'Indie', 'Web Publishing', 'RPG', 'Photo Editing', \n",
    "                           'Casual', 'Software Training', 'Animation & Modeling', \n",
    "                           'Design & Illustration', 'Simulation', 'Adventure', 'Early Access', \n",
    "                           'Video Production', 'Education', 'Accounting', 'Free to Play', 'Strategy']\n",
    "    \n",
    "    # Verificar si el género especificado existe en la base de datos\n",
    "    if genero not in generos_disponibles:\n",
    "        return f\"No se encontró el género '{genero}' en la base de datos. Géneros disponibles: {', '.join(generos_disponibles)}\"\n",
    "    \n",
    "    try:\n",
    "        # Cargar solo las columnas necesarias de los archivos parquet\n",
    "        df_games_genres = pd.read_parquet('df_games_genres.parquet', columns=[\"item_id\", genero])\n",
    "        df_games_genres = df_games_genres[df_games_genres[genero] == 1]\n",
    "        \n",
    "        # Obtener los item_id relevantes\n",
    "        relevant_item_ids = df_games_genres['item_id'].unique()\n",
    "        \n",
    "        # Filtrar df_items y df_games_tec\n",
    "        df_items = pd.read_parquet('df_items.parquet', columns=[\"user_id\", \"item_id\", \"playtime_forever\"])\n",
    "        df_items = df_items[df_items['item_id'].isin(relevant_item_ids)]\n",
    "        \n",
    "        df_games_tec = pd.read_parquet('df_games_tec.parquet', columns=[\"item_id\", \"release_year\"])\n",
    "        df_games_tec = df_games_tec[df_games_tec['item_id'].isin(relevant_item_ids)]\n",
    "        \n",
    "    except FileNotFoundError:\n",
    "        return \"Archivo no encontrado.\"\n",
    "    \n",
    "    # Verificar si no hay datos para el género especificado\n",
    "    if df_games_genres.empty:\n",
    "        return f\"No hay datos para el género '{genero}'.\"\n",
    "    \n",
    "    # Fusionar los DataFrames necesarios\n",
    "    df_merged = pd.merge(df_items, df_games_genres[['item_id']], on='item_id', how='inner')\n",
    "    del df_items, df_games_genres  # Liberar memoria\n",
    "    \n",
    "    df_merged = pd.merge(df_merged, df_games_tec, on='item_id', how='inner')\n",
    "    del df_games_tec  # Liberar memoria\n",
    "    \n",
    "    # Calcula la suma total de playtime_forever para cada usuario\n",
    "    suma_playtime_por_usuario = df_merged.groupby('user_id')['playtime_forever'].sum()\n",
    "    \n",
    "    # Encuentra el usuario con la mayor suma de playtime_forever\n",
    "    usuario_max_playtime = suma_playtime_por_usuario.idxmax()\n",
    "    \n",
    "    # Filtra el DataFrame original para obtener solo las filas asociadas con ese usuario\n",
    "    df_usuario_max_playtime = df_merged[df_merged['user_id'] == usuario_max_playtime]\n",
    "    \n",
    "    # Agrupa las horas jugadas por año para ese usuario\n",
    "    horas_por_anio = df_usuario_max_playtime.groupby('release_year')['playtime_forever'].sum()\n",
    "    \n",
    "    # Construye el diccionario con el formato deseado\n",
    "    horas_jugadas_str = \", \".join([f\"{{'Año': {año}, 'Horas': {horas}}}\" for año, horas in horas_por_anio.items()])\n",
    "\n",
    "    # Construye el resultado como una cadena de texto\n",
    "    resultado = (f\"Usuario con más horas jugadas para Género {genero}: {usuario_max_playtime}, \" +\n",
    "                f\"Horas jugadas: [{horas_jugadas_str}]\")\n",
    "\n",
    "    return resultado"
   ]
  },
  {
   "cell_type": "code",
   "execution_count": 16,
   "metadata": {},
   "outputs": [
    {
     "data": {
      "text/plain": [
       "\"Usuario con más horas jugadas para Género Adventure: REBAS_AS_F-T, Horas jugadas: [{'Año': 2002, 'Horas': 0}, {'Año': 2003, 'Horas': 1863}, {'Año': 2005, 'Horas': 1113}, {'Año': 2006, 'Horas': 0}, {'Año': 2007, 'Horas': 161}, {'Año': 2008, 'Horas': 2453}, {'Año': 2009, 'Horas': 26904}, {'Año': 2010, 'Horas': 19346}, {'Año': 2011, 'Horas': 60283}, {'Año': 2012, 'Horas': 144498}, {'Año': 2013, 'Horas': 253312}, {'Año': 2014, 'Horas': 190959}, {'Año': 2015, 'Horas': 659550}, {'Año': 2016, 'Horas': 788677}, {'Año': 2017, 'Horas': 32947}]\""
      ]
     },
     "execution_count": 16,
     "metadata": {},
     "output_type": "execute_result"
    }
   ],
   "source": [
    "UserForGenre(\"Adventure\")"
   ]
  },
  {
   "cell_type": "code",
   "execution_count": null,
   "metadata": {},
   "outputs": [],
   "source": [
    "# 4. Función UsersRecommend\n",
    "# def UsersRecommend( año : int ): Devuelve el top 3 de juegos MÁS recomendados por usuarios para el año dado. \n",
    "# (reviews.recommend = True y comentarios positivos/neutrales)"
   ]
  },
  {
   "cell_type": "code",
   "execution_count": 49,
   "metadata": {},
   "outputs": [
    {
     "name": "stdout",
     "output_type": "stream",
     "text": [
      "[{'Puesto 1': 'Counter-Strike: Global Offensive'}, {'Puesto 2': 'Borderlands 2'}, {'Puesto 3': 'PlanetSide 2'}]\n"
     ]
    }
   ],
   "source": [
    "def UsersRecommend(anio):\n",
    "    try:\n",
    "        # Cargar solo las columnas necesarias de los archivos parquet\n",
    "        df_games_tec = pd.read_parquet('df_games_tec.parquet', columns=[\"item_id\", \"app_name\", \"release_year\"])\n",
    "        df_reviews_con_sa = pd.read_parquet('df_reviews_con_sa.parquet', columns=[\"item_id\", \"recommend\", \"sentiment_analysis\"])\n",
    "    except FileNotFoundError:\n",
    "        return \"Archivo no encontrado.\"\n",
    "    \n",
    "    # Filtrar solo las reseñas del año especificado\n",
    "    df_reviews_juegos = df_reviews_con_sa.merge(df_games_tec, on='item_id', how='inner')\n",
    "    df_anio = df_reviews_juegos[df_reviews_juegos['release_year'] == anio]\n",
    "    \n",
    "    # Verificar si hay datos para el año especificado\n",
    "    if df_anio.empty:\n",
    "        return \"No hay reseñas para el año especificado.\"\n",
    "    \n",
    "    # Filtrar solo las reseñas con recomendación positiva o neutral\n",
    "    df_recomendados = df_anio[(df_anio['recommend']) & (df_anio['sentiment_analysis'].isin([1, 2]))]\n",
    "    \n",
    "    # Contar las recomendaciones por juego\n",
    "    recomendados_por_juego = df_recomendados['app_name'].value_counts().reset_index()\n",
    "    recomendados_por_juego.columns = ['app_name', 'recommend_count']\n",
    "    \n",
    "    # Ordenar los juegos por la cantidad de recomendaciones y obtener el top 3\n",
    "    top_3_juegos = recomendados_por_juego.nlargest(3, 'recommend_count')\n",
    "    \n",
    "    # Formatear el resultado en el formato de cadena de caracteres requerido\n",
    "    resultado = [{\"Puesto \" + str(i+1): juego} for i, juego in enumerate(top_3_juegos['app_name'])]\n",
    "    \n",
    "    return resultado"
   ]
  },
  {
   "cell_type": "code",
   "execution_count": null,
   "metadata": {},
   "outputs": [],
   "source": [
    "# 4. Función UsersNotRecommend\n",
    "# def UsersNotRecommend( año : int ): Devuelve el top 3 de juegos MENOS recomendados por usuarios para el año dado. \n",
    "# (reviews.recommend = False y comentarios negativos)"
   ]
  },
  {
   "cell_type": "code",
   "execution_count": 52,
   "metadata": {},
   "outputs": [
    {
     "name": "stdout",
     "output_type": "stream",
     "text": [
      "[{'Puesto 1': \"Assassin's Creed 2 Deluxe Edition\"}, {'Puesto 2': 'Poker Night at the Inventory'}, {'Puesto 3': 'Star Trek Online'}]\n"
     ]
    }
   ],
   "source": [
    "def UsersNotRecommend(anio):\n",
    "    try:\n",
    "        # Cargar solo las columnas necesarias de los archivos parquet\n",
    "        df_games_tec = pd.read_parquet('df_games_tec.parquet', columns=[\"item_id\", \"app_name\", \"release_year\"])\n",
    "        df_reviews_con_sa = pd.read_parquet('df_reviews_con_sa.parquet', columns=[\"item_id\", \"recommend\", \"sentiment_analysis\"])\n",
    "    except FileNotFoundError:\n",
    "        return \"Archivo no encontrado.\"\n",
    "    \n",
    "    # Filtrar solo las reseñas del año especificado\n",
    "    df_reviews_juegos = df_reviews_con_sa.merge(df_games_tec, on='item_id', how='inner')\n",
    "    df_anio = df_reviews_juegos[df_reviews_juegos['release_year'] == anio]\n",
    "    \n",
    "    # Verificar si hay datos para el año especificado\n",
    "    if df_anio.empty:\n",
    "        return \"No hay reseñas para el año especificado.\"\n",
    "    \n",
    "    # Filtrar solo las reseñas con recomendación negativa y sentimiento neutro\n",
    "    df_no_recomendados = df_anio[(~df_anio['recommend']) & (df_anio['sentiment_analysis'] == 0)]\n",
    "    \n",
    "    # Contar las no recomendaciones por juego\n",
    "    no_recomendados_por_juego = df_no_recomendados['app_name'].value_counts().reset_index()\n",
    "    no_recomendados_por_juego.columns = ['app_name', 'recommend_count']\n",
    "    \n",
    "    # Obtener el top 3 de juegos con más no recomendaciones\n",
    "    top_3_juegos = no_recomendados_por_juego.nlargest(3, 'recommend_count')\n",
    "    \n",
    "    # Formatear el resultado en el formato de lista de diccionarios\n",
    "    resultado = [{\"Puesto \" + str(i+1): juego} for i, juego in enumerate(top_3_juegos['app_name'])]\n",
    "    \n",
    "    return resultado"
   ]
  },
  {
   "cell_type": "code",
   "execution_count": null,
   "metadata": {},
   "outputs": [],
   "source": [
    "# 5. Función Sentiment_Analysis\n",
    "# def sentiment_analysis( año : int ): Según el año de lanzamiento, se devuelve una lista con la cantidad de registros \n",
    "# de reseñas de usuarios que se encuentren categorizados con un análisis de sentimiento."
   ]
  },
  {
   "cell_type": "code",
   "execution_count": 12,
   "metadata": {},
   "outputs": [],
   "source": [
    "def sentiment_analysis(anio):\n",
    "    # Cargar el DataFrame desde el archivo\n",
    "    sentiment_counts = pd.read_csv('sentiment_counts.csv', index_col='release_year')\n",
    "    \n",
    "    # Verificar si el año especificado está presente en el DataFrame\n",
    "    if anio not in sentiment_counts.index:\n",
    "        return \"Año no encontrado en la base de datos.\"\n",
    "    \n",
    "    # Obtener la cuenta de análisis de sentimientos para el año especificado\n",
    "    sentiment_counts_anio = sentiment_counts.loc[anio]\n",
    "    \n",
    "    # Formatear el resultado en el formato requerido\n",
    "    resultado = f\"Negative:{sentiment_counts_anio.get(0, 0)}, Neutral:{sentiment_counts_anio.get(1, 0)}, Positive:{sentiment_counts_anio.get(2, 0)}\"\n",
    "\n",
    "    return resultado"
   ]
  },
  {
   "cell_type": "code",
   "execution_count": 14,
   "metadata": {},
   "outputs": [
    {
     "data": {
      "text/plain": [
       "'Negative:8, Neutral:7, Positive:30'"
      ]
     },
     "execution_count": 14,
     "metadata": {},
     "output_type": "execute_result"
    }
   ],
   "source": [
    "sentiment_analysis(2002)"
   ]
  },
  {
   "cell_type": "code",
   "execution_count": null,
   "metadata": {},
   "outputs": [],
   "source": [
    "# 6. def recomendacion_juego( id de producto ): \n",
    "# Ingresando el id de producto, deberíamos recibir una lista con 5 juegos recomendados similares al ingresado."
   ]
  },
  {
   "cell_type": "code",
   "execution_count": 3,
   "metadata": {},
   "outputs": [],
   "source": [
    "def recomendacion_juego(id):\n",
    "\n",
    "    #from sklearn.neighbors import NearestNeighbors\n",
    "    \n",
    "    df_sist_reco_v4 = pd.read_parquet('df_sist_reco_v4.parquet')\n",
    "\n",
    "    games_dummies = df_sist_reco_v4.drop(columns=['item_id', 'app_name'])\n",
    "    games_id_names = df_sist_reco_v4[['item_id', 'app_name']]\n",
    "\n",
    "    n_neighbors = 6\n",
    "    nneighbors = NearestNeighbors(n_neighbors = n_neighbors, metric = 'cosine').fit(games_dummies)\n",
    "\n",
    "    ### 5.9 TEST de modelo \n",
    "\n",
    "    item_busqueda = id\n",
    "    index = games_dummies.index[games_id_names['item_id'] == item_busqueda][0]\n",
    "    #print(games_id_names[\"app_name\"].iloc[index])\n",
    "\n",
    "    game_eval = np.array(games_dummies.iloc[index]).reshape(1,-1)\n",
    "    dif, ind = nneighbors.kneighbors(game_eval)\n",
    "    \n",
    "    # Juegos recomendados\n",
    "    juegos_recomendados = { \"Juegos recomendados:\"\n",
    "        \"# 1 \": games_id_names.at[ind[0][1], \"app_name\"],\n",
    "        \"# 2\": games_id_names.at[ind[0][2], \"app_name\"],\n",
    "        \"# 3\": games_id_names.at[ind[0][3], \"app_name\"],\n",
    "        \"# 4\": games_id_names.at[ind[0][4], \"app_name\"],\n",
    "        \"# 5\": games_id_names.at[ind[0][5], \"app_name\"],\n",
    "    }\n",
    "    \n",
    "    return juegos_recomendados"
   ]
  },
  {
   "cell_type": "code",
   "execution_count": 4,
   "metadata": {},
   "outputs": [
    {
     "name": "stderr",
     "output_type": "stream",
     "text": [
      "C:\\Users\\Facundo\\AppData\\Local\\Packages\\PythonSoftwareFoundation.Python.3.11_qbz5n2kfra8p0\\LocalCache\\local-packages\\Python311\\site-packages\\sklearn\\base.py:465: UserWarning: X does not have valid feature names, but NearestNeighbors was fitted with feature names\n",
      "  warnings.warn(\n"
     ]
    },
    {
     "data": {
      "text/plain": [
       "{'Juegos recomendados:# 1 ': \"Gary Grigsby's War in the East\",\n",
       " '# 2': 'Decisive Campaigns: The Blitzkrieg from Warsaw to Paris',\n",
       " '# 3': 'Theatre of War 2: Africa 1943',\n",
       " '# 4': 'Stronghold Legends: Steam Edition',\n",
       " '# 5': 'The Settlers Online'}"
      ]
     },
     "execution_count": 4,
     "metadata": {},
     "output_type": "execute_result"
    }
   ],
   "source": [
    "recomendacion_juego(105450)"
   ]
  }
 ],
 "metadata": {
  "kernelspec": {
   "display_name": "Python 3",
   "language": "python",
   "name": "python3"
  },
  "language_info": {
   "codemirror_mode": {
    "name": "ipython",
    "version": 3
   },
   "file_extension": ".py",
   "mimetype": "text/x-python",
   "name": "python",
   "nbconvert_exporter": "python",
   "pygments_lexer": "ipython3",
   "version": "3.11.9"
  }
 },
 "nbformat": 4,
 "nbformat_minor": 2
}
