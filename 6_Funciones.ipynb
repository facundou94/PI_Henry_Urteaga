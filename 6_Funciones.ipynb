{
 "cells": [
  {
   "cell_type": "markdown",
   "metadata": {},
   "source": [
    "### Proyecto Individual Henry\n",
    "**6_Funciones**  \n",
    "Funciones para la API\n",
    "**Autor: Bioing. Urteaga Facundo Nahuel**  \n",
    "\n",
    "**Resumen:** Este script comprende las siguientes etapas:\n",
    "\n",
    "1. **Carga de librerías**\n",
    "2. **Función PlayTimeGenre**\n",
    "3. **Función UserForGenre**\n",
    "4. **Función UsersRecommend**\n",
    "5. **Segundo entrenamiento del modelo (V2)**\n",
    "6. **Tercer entrenamiento del modelo (V3)**\n",
    "7. **Cuarto entrenamiento del modelo (V4)**"
   ]
  },
  {
   "cell_type": "code",
   "execution_count": 1,
   "metadata": {},
   "outputs": [],
   "source": [
    "# 1. Carga de librerías\n",
    "\n",
    "import numpy as np\n",
    "import pandas as pd\n",
    "from sklearn.neighbors import NearestNeighbors"
   ]
  },
  {
   "cell_type": "code",
   "execution_count": 2,
   "metadata": {},
   "outputs": [],
   "source": [
    "# 2. Carga de archivos\n",
    "\n",
    "df_games_tec = pd.read_parquet('df_games_tec.parquet')\n",
    "df_games_genres = pd.read_parquet('df_games_genres.parquet')\n",
    "df_games_specs = pd.read_parquet('df_games_specs.parquet')\n",
    "df_games_tags = pd.read_parquet('df_games_tags.parquet')\n",
    "df_reviews_con_sa = pd.read_parquet('df_reviews_con_sa.parquet')\n",
    "df_items = pd.read_parquet('df_items.parquet')"
   ]
  },
  {
   "cell_type": "code",
   "execution_count": 3,
   "metadata": {},
   "outputs": [
    {
     "data": {
      "text/plain": [
       "<bound method NDFrame.head of 0        True\n",
       "1        True\n",
       "2        True\n",
       "3        True\n",
       "4        True\n",
       "         ... \n",
       "59300    True\n",
       "59301    True\n",
       "59302    True\n",
       "59303    True\n",
       "59304    True\n",
       "Name: recommend, Length: 59305, dtype: bool>"
      ]
     },
     "execution_count": 3,
     "metadata": {},
     "output_type": "execute_result"
    }
   ],
   "source": [
    "df_reviews_con_sa[\"recommend\"].head"
   ]
  },
  {
   "cell_type": "code",
   "execution_count": 15,
   "metadata": {},
   "outputs": [
    {
     "data": {
      "text/plain": [
       "Index(['user_id', 'item_id', 'playtime_forever', 'playtime_2weeks'], dtype='object')"
      ]
     },
     "execution_count": 15,
     "metadata": {},
     "output_type": "execute_result"
    }
   ],
   "source": [
    "# 2. Función PlayTimeGenre\n",
    "\n",
    "# def PlayTimeGenre( genero : str ): Debe devolver año con mas horas jugadas para dicho género.\n",
    "# Ejemplo de retorno: {\"Año de lanzamiento con más horas jugadas para Género X\" : 2013}"
   ]
  },
  {
   "cell_type": "code",
   "execution_count": 21,
   "metadata": {},
   "outputs": [
    {
     "name": "stdout",
     "output_type": "stream",
     "text": [
      "{'Año de lanzamiento con más horas jugadas para Género Racing': 2015}\n"
     ]
    }
   ],
   "source": [
    "def PlayTimeGenre(genero):\n",
    "\n",
    "    df_games_tec = pd.read_parquet('df_games_tec.parquet')\n",
    "    df_games_genres = pd.read_parquet('df_games_genres.parquet')\n",
    "    df_items = pd.read_parquet('df_items.parquet')\n",
    "\n",
    "    merged_df_1 = pd.merge(df_games_tec[[\"app_name\",\"item_id\",\"release_year\"]], df_games_genres, on='item_id', how='inner')\n",
    "    merged_df_2 = pd.merge(merged_df_1, df_items[[\"item_id\",\"playtime_forever\"]], on='item_id', how='inner')\n",
    "\n",
    "    # Lista de géneros disponibles\n",
    "    generos_disponibles = ['Utilities', 'Racing', 'Massively Multiplayer', 'Sports', 'Action', \n",
    "                           'Audio Production', 'Indie', 'Web Publishing', 'RPG', 'Photo Editing', \n",
    "                           'Casual', 'Software Training', 'Animation & Modeling', \n",
    "                           'Design & Illustration', 'Simulation', 'Adventure', 'Early Access', \n",
    "                           'Video Production', 'Education', 'Accounting', 'Free to Play', 'Strategy']\n",
    "    \n",
    "    # Verifica si el género especificado existe en la base de datos\n",
    "    if genero not in merged_df_2.columns:\n",
    "        return f\"No se encontró el género '{genero}' en la base de datos. Géneros disponibles: {', '.join(generos_disponibles)}\"\n",
    "    \n",
    "    # Filtra el DataFrame por el género especificado\n",
    "    df_genero_especifico = merged_df_2[merged_df_2[genero] == 1]\n",
    "    \n",
    "    # Verifica si no hay datos para el género especificado\n",
    "    if df_genero_especifico.empty:\n",
    "        return f\"No hay datos para el género '{genero}'. Géneros disponibles: {', '.join(generos_disponibles)}\"\n",
    "    \n",
    "    # Agrupar por año de lanzamiento y sumar las horas jugadas\n",
    "    df_horas_jugadas_por_ano = df_genero_especifico.groupby('release_year')['playtime_forever'].sum().reset_index()\n",
    "    \n",
    "    # Encontrar el año con la mayor cantidad de horas jugadas acumuladas\n",
    "    max_total_playtime_year = df_horas_jugadas_por_ano.loc[df_horas_jugadas_por_ano['playtime_forever'].idxmax(), 'release_year']\n",
    "    \n",
    "    return f\"{{'Año de lanzamiento con más horas jugadas para Género {genero}': {max_total_playtime_year}}}\"\n",
    "\n",
    "# Ejemplo de uso\n",
    "genero_especifico = 'Racing'  # Inserta aquí el género específico que deseas buscar\n",
    "resultado = PlayTimeGenre(genero_especifico)\n",
    "print(resultado)"
   ]
  },
  {
   "cell_type": "code",
   "execution_count": null,
   "metadata": {},
   "outputs": [],
   "source": [
    "# 3. Función UserForGenre\n",
    "\n",
    "# def UserForGenre( genero : str ): Debe devolver el usuario que acumula más horas jugadas para el género dado y una lista de la acumulación de horas jugadas por año.\n",
    "# Ejemplo de retorno: {\"Usuario con más horas jugadas para Género X\" : us213ndjss09sdf, \"Horas jugadas\":[{Año: 2013, Horas: 203}, {Año: 2012, Horas: 100}, {Año: 2011, Horas: 23}]}"
   ]
  },
  {
   "cell_type": "code",
   "execution_count": 40,
   "metadata": {},
   "outputs": [],
   "source": [
    "def UserForGenre(genero):\n",
    "\n",
    "    # Lista de géneros disponibles\n",
    "    generos_disponibles = ['Utilities', 'Racing', 'Massively Multiplayer', 'Sports', 'Action', \n",
    "                           'Audio Production', 'Indie', 'Web Publishing', 'RPG', 'Photo Editing', \n",
    "                           'Casual', 'Software Training', 'Animation & Modeling', \n",
    "                           'Design & Illustration', 'Simulation', 'Adventure', 'Early Access', \n",
    "                           'Video Production', 'Education', 'Accounting', 'Free to Play', 'Strategy']\n",
    "    \n",
    "    \n",
    "    # Verificar si el género especificado existe en el DataFrame df_games_genres\n",
    "    if genero not in df_games_genres.columns:\n",
    "        return f\"No se encontró el género '{genero}' en la base de datos. Géneros disponibles: {', '.join(generos_disponibles)}\"\n",
    "    \n",
    "    # Filtro inicialmente los juegos del genero seleccionado\n",
    "    df_genre = df_games_genres[df_games_genres[genero] == True]\n",
    "    \n",
    "    # Filtro solo jugadores que hayan jugado juegos de este género\n",
    "    df_func_3_aux = pd.merge(df_items[[\"user_id\",\"item_id\",'playtime_forever']], df_genre[[\"item_id\"]], on='item_id', how='inner')\n",
    "    df_func_3 = pd.merge(df_func_3_aux, df_games_tec[[\"item_id\",'release_year']], on='item_id', how='inner')\n",
    "\n",
    "    # Calcula la suma total de playtime_forever para cada usuario\n",
    "    suma_playtime_por_usuario = df_func_3.groupby('user_id')['playtime_forever'].sum()\n",
    "\n",
    "    # Encuentra el usuario con la mayor suma de playtime_forever\n",
    "    usuario_max_playtime = suma_playtime_por_usuario.idxmax()\n",
    "\n",
    "    # Filtra el DataFrame original para obtener solo las filas asociadas con ese usuario\n",
    "    df_usuario_max_playtime = df_func_3[df_func_3['user_id'] == usuario_max_playtime]\n",
    "\n",
    "    # Agrupa las horas jugadas por año para ese usuario\n",
    "    horas_por_anio = df_usuario_max_playtime.groupby('release_year')['playtime_forever'].sum()\n",
    "\n",
    "    # Construye el diccionario con el formato deseado\n",
    "    resultado = {\n",
    "    f\"Usuario con más horas jugadas para Género {genero}\": usuario_max_playtime,\n",
    "    \"Horas jugadas\": [{\"Año\": año, \"Horas\": horas} for año, horas in horas_por_anio.items()]\n",
    "    }\n",
    "    \n",
    "    return resultado"
   ]
  },
  {
   "cell_type": "code",
   "execution_count": null,
   "metadata": {},
   "outputs": [],
   "source": [
    "# 4. Función UsersRecommend\n",
    "# def UsersRecommend( año : int ): Devuelve el top 3 de juegos MÁS recomendados por usuarios para el año dado. \n",
    "# (reviews.recommend = True y comentarios positivos/neutrales)"
   ]
  },
  {
   "cell_type": "code",
   "execution_count": 49,
   "metadata": {},
   "outputs": [
    {
     "name": "stdout",
     "output_type": "stream",
     "text": [
      "[{'Puesto 1': 'Counter-Strike: Global Offensive'}, {'Puesto 2': 'Borderlands 2'}, {'Puesto 3': 'PlanetSide 2'}]\n"
     ]
    }
   ],
   "source": [
    "def UsersRecommend(anio):\n",
    "\n",
    "    df_reviews_juegos = pd.merge(df_reviews_con_sa[['item_id', 'recommend','sentiment_analysis']], \n",
    "                             df_games_tec[[\"item_id\",\"app_name\",\"release_year\"]], on='item_id', how='inner')\n",
    "    \n",
    "    # Verificar si el año especificado está presente en el DataFrame\n",
    "    if anio not in df_reviews_juegos['release_year'].unique():\n",
    "        return \"Año no encontrado en la base de datos.\"\n",
    "    \n",
    "    # Filtrar el DataFrame por el año especificado\n",
    "    df_anio = df_reviews_juegos[df_reviews_juegos['release_year'] == anio]\n",
    "    \n",
    "    # Filtrar solo las reseñas con recomendación positiva o neutral\n",
    "    df_recomendados = df_anio[(df_anio['recommend']) & (df_anio['sentiment_analysis'].isin([1, 2]))]\n",
    "    \n",
    "    # Contar las recomendaciones por juego\n",
    "    recomendados_por_juego = df_recomendados.groupby('app_name')['recommend'].sum().reset_index()\n",
    "    \n",
    "    # Ordenar los juegos por la cantidad de recomendaciones y obtener el top 3\n",
    "    top_3_juegos = recomendados_por_juego.nlargest(3, 'recommend')\n",
    "    \n",
    "    # Formatear el resultado en el formato de cadena de caracteres requerido\n",
    "    resultado = [{\"Puesto \" + str(i+1): juego} for i, juego in enumerate(top_3_juegos['app_name'])]\n",
    "    \n",
    "    return resultado\n",
    "\n",
    "# Ejemplo de uso\n",
    "anio_dado = 2012  # Inserta aquí el año deseado\n",
    "resultado = UsersRecommend(anio_dado)\n",
    "print(resultado)"
   ]
  },
  {
   "cell_type": "code",
   "execution_count": null,
   "metadata": {},
   "outputs": [],
   "source": [
    "# 4. Función UsersNotRecommend\n",
    "# def UsersNotRecommend( año : int ): Devuelve el top 3 de juegos MENOS recomendados por usuarios para el año dado. \n",
    "# (reviews.recommend = False y comentarios negativos)"
   ]
  },
  {
   "cell_type": "code",
   "execution_count": 52,
   "metadata": {},
   "outputs": [
    {
     "name": "stdout",
     "output_type": "stream",
     "text": [
      "[{'Puesto 1': \"Assassin's Creed 2 Deluxe Edition\"}, {'Puesto 2': 'Poker Night at the Inventory'}, {'Puesto 3': 'Star Trek Online'}]\n"
     ]
    }
   ],
   "source": [
    "def UsersNotRecommend(anio):\n",
    "\n",
    "    df_reviews_juegos = pd.merge(df_reviews_con_sa[['item_id', 'recommend','sentiment_analysis']], \n",
    "                             df_games_tec[[\"item_id\",\"app_name\",\"release_year\"]], on='item_id', how='inner')\n",
    "    \n",
    "    # Verificar si el año especificado está presente en el DataFrame\n",
    "    if anio not in df_reviews_juegos['release_year'].unique():\n",
    "        return \"Año no encontrado en la base de datos.\"\n",
    "    \n",
    "    # Filtrar el DataFrame por el año especificado\n",
    "    df_anio = df_reviews_juegos[df_reviews_juegos['release_year'] == anio]\n",
    "    \n",
    "    # Filtrar solo las reseñas con recomendación negativa\n",
    "    df_no_recomendados = df_anio[(~df_anio['recommend']) & (df_anio['sentiment_analysis'] == 0)]\n",
    "    \n",
    "    # Contar las no recomendaciones por juego\n",
    "    no_recomendados_por_juego = df_no_recomendados.groupby('app_name')['recommend'].count().reset_index()\n",
    "    \n",
    "    # Ordenar los juegos por la cantidad de no recomendaciones y obtener el top 3\n",
    "    top_3_juegos = no_recomendados_por_juego.nlargest(3, 'recommend')\n",
    "    \n",
    "    # Formatear el resultado en el formato de cadena de caracteres requerido\n",
    "    resultado = [{\"Puesto \" + str(i+1): juego} for i, juego in enumerate(top_3_juegos['app_name'])]\n",
    "    \n",
    "    return resultado\n",
    "\n",
    "# Ejemplo de uso\n",
    "anio_dado = 2010  # Inserta aquí el año deseado\n",
    "resultado = UsersNotRecommend(anio_dado)\n",
    "print(resultado)"
   ]
  },
  {
   "cell_type": "code",
   "execution_count": null,
   "metadata": {},
   "outputs": [],
   "source": [
    "# 5. Función Sentiment_Analysis\n",
    "# def sentiment_analysis( año : int ): Según el año de lanzamiento, se devuelve una lista con la cantidad de registros \n",
    "# de reseñas de usuarios que se encuentren categorizados con un análisis de sentimiento."
   ]
  },
  {
   "cell_type": "code",
   "execution_count": 54,
   "metadata": {},
   "outputs": [
    {
     "name": "stdout",
     "output_type": "stream",
     "text": [
      "{'Negative': 1286, 'Neutral': 3013, 'Positive': 4756}\n"
     ]
    }
   ],
   "source": [
    "def sentiment_analysis(anio):\n",
    "\n",
    "    df_reviews_juegos = pd.merge(df_reviews_con_sa[['item_id', 'recommend','sentiment_analysis']], \n",
    "                             df_games_tec[[\"item_id\",\"app_name\",\"release_year\"]], on='item_id', how='inner')\n",
    "    \n",
    "    # Verificar si el año especificado está presente en el DataFrame\n",
    "    if anio not in df_reviews_juegos['release_year'].unique():\n",
    "        return \"Año no encontrado en la base de datos.\"\n",
    "    \n",
    "    # Filtrar el DataFrame por el año especificado\n",
    "    df_anio = df_reviews_juegos[df_reviews_juegos['release_year'] == anio]\n",
    "    \n",
    "    # Contar la cantidad de registros para cada categoría de análisis de sentimiento\n",
    "    conteo_sentimientos = df_anio['sentiment_analysis'].value_counts()\n",
    "    \n",
    "    # Formatear el resultado en el formato requerido\n",
    "    resultado = {\n",
    "        \"Negative\": conteo_sentimientos.get(0, 0),\n",
    "        \"Neutral\": conteo_sentimientos.get(1, 0),\n",
    "        \"Positive\": conteo_sentimientos.get(2, 0)\n",
    "    }\n",
    "    \n",
    "    return resultado\n",
    "\n",
    "# Ejemplo de uso\n",
    "anio_dado = 2012  # Inserta aquí el año deseado\n",
    "resultado = sentiment_analysis(anio_dado)\n",
    "print(resultado)"
   ]
  },
  {
   "cell_type": "code",
   "execution_count": null,
   "metadata": {},
   "outputs": [],
   "source": [
    "# 6. def recomendacion_juego( id de producto ): \n",
    "# Ingresando el id de producto, deberíamos recibir una lista con 5 juegos recomendados similares al ingresado."
   ]
  },
  {
   "cell_type": "code",
   "execution_count": 62,
   "metadata": {},
   "outputs": [
    {
     "name": "stdout",
     "output_type": "stream",
     "text": [
      "[{'Juego Seleccionado': 'Flappy Arms'}, {'Juego Recomendado 1': 'Shooty Fruity'}, {'Juego Recomendado 2': 'Guided Meditation VR'}, {'Juego Recomendado 3': 'EXA: The Infinite Instrument'}, {'Juego Recomendado 4': 'Universe Sandbox ²'}, {'Juego Recomendado 5': 'Salvage Op'}]\n"
     ]
    },
    {
     "name": "stderr",
     "output_type": "stream",
     "text": [
      "C:\\Users\\Facundo\\AppData\\Local\\Packages\\PythonSoftwareFoundation.Python.3.11_qbz5n2kfra8p0\\LocalCache\\local-packages\\Python311\\site-packages\\sklearn\\base.py:465: UserWarning: X does not have valid feature names, but NearestNeighbors was fitted with feature names\n",
      "  warnings.warn(\n"
     ]
    }
   ],
   "source": [
    "def recomendacion_juego(item_id):\n",
    "\n",
    "    from sklearn.neighbors import NearestNeighbors\n",
    "    \n",
    "    df_sist_reco_v4 = pd.read_parquet('df_sist_reco_v4.parquet')\n",
    "\n",
    "    games_dummies = df_sist_reco_v4.drop(columns=['item_id', 'app_name'])\n",
    "\n",
    "    n_neighbors=6\n",
    "    nneighbors = NearestNeighbors(n_neighbors = n_neighbors, metric = 'cosine').fit(games_dummies)\n",
    "\n",
    "    # Extraer los vectores de características del juego seleccionado\n",
    "    game_eval = np.array(games_dummies.loc[item_id]).reshape(1, -1)\n",
    "    \n",
    "    # Obtener los índices de los juegos más similares\n",
    "    dif, ind = nneighbors.kneighbors(game_eval)\n",
    "    \n",
    "    # Lista para almacenar los juegos recomendados en formato string\n",
    "    juegos_recomendados = []\n",
    "    \n",
    "    # Juego seleccionado\n",
    "    juego_seleccionado = {\"Juego Seleccionado\": df_sist_reco_v4.loc[ind[0][0], 'app_name']}\n",
    "    juegos_recomendados.append(juego_seleccionado)\n",
    "    \n",
    "    # Juegos recomendados\n",
    "    for i in range(1, 6):  # Tomamos los 5 juegos recomendados\n",
    "        juego_recomendado = {\"Juego Recomendado \" + str(i): df_sist_reco_v4.loc[ind[0][i], 'app_name']}\n",
    "        juegos_recomendados.append(juego_recomendado)\n",
    "    \n",
    "    return juegos_recomendados\n",
    "\n",
    "# Ejemplo de uso\n",
    "item_id_dado = 32103  # Inserta aquí el item_id deseado\n",
    "resultado = recomendacion_juego(item_id_dado)\n",
    "print(resultado)"
   ]
  }
 ],
 "metadata": {
  "kernelspec": {
   "display_name": "Python 3",
   "language": "python",
   "name": "python3"
  },
  "language_info": {
   "codemirror_mode": {
    "name": "ipython",
    "version": 3
   },
   "file_extension": ".py",
   "mimetype": "text/x-python",
   "name": "python",
   "nbconvert_exporter": "python",
   "pygments_lexer": "ipython3",
   "version": "3.12.1"
  }
 },
 "nbformat": 4,
 "nbformat_minor": 2
}
