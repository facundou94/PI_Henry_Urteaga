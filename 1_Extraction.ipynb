{
 "cells": [
  {
   "cell_type": "markdown",
   "metadata": {},
   "source": [
    "### Proyecto Individual Henry\n",
    "**1_Extraction**\n",
    "\n",
    "**Autor: Bioing. Urteaga Facundo Nahuel**\n",
    "\n",
    "**Resumen:** Se realiza la carga de las bases de datos de steam. Cada archivo contiene su propia función de carga. Esto se debe a las particularidades que posee cada archivo que solicitan una corrección personalizada, perdiendo practicidad la creación de una función general de carga que contemple todas las correcciones. Este script comprende las siguientes etapas:\n",
    "\n",
    "1. **Carga de librerías**\n",
    "2. **Obtención de directorios de datos**\n",
    "3. **Creación y ejecución de funciones de carga**\n",
    "4. **Guardado de archivos en formato .csv**"
   ]
  },
  {
   "cell_type": "markdown",
   "metadata": {},
   "source": [
    "### 1. Carga de librerías"
   ]
  },
  {
   "cell_type": "code",
   "execution_count": 1,
   "metadata": {},
   "outputs": [],
   "source": [
    "# 1. Carga de librerías\n",
    "\n",
    "import pandas as pd\n",
    "import numpy as np\n",
    "import os\n",
    "import gzip\n",
    "import json\n",
    "import re"
   ]
  },
  {
   "cell_type": "markdown",
   "metadata": {},
   "source": [
    "### 2. Obtener directorios de datos"
   ]
  },
  {
   "cell_type": "code",
   "execution_count": 5,
   "metadata": {},
   "outputs": [],
   "source": [
    "# 2. Obtener directorios de datos\n",
    "\n",
    "directorio_actual = os.getcwd()\n",
    "\n",
    "# Construye las rutas completas al archivo usando os.path.join()\n",
    "\n",
    "ruta_users_items = os.path.join(directorio_actual, \"Datos\", \"users_items.json.gz\")\n",
    "ruta_user_reviews = os.path.join(directorio_actual, \"Datos\", \"user_reviews.json.gz\")\n",
    "ruta_steam_games = os.path.join(directorio_actual, \"Datos\", \"steam_games.json.gz\")\n"
   ]
  },
  {
   "cell_type": "markdown",
   "metadata": {},
   "source": [
    "### 3. Creación y ejecución de funciones de carga"
   ]
  },
  {
   "cell_type": "code",
   "execution_count": 6,
   "metadata": {},
   "outputs": [],
   "source": [
    "# 3.1.1. Función para abrir el archivo users_items\n",
    "\n",
    "def abrir_users_items(archivo):\n",
    "    data_list = []\n",
    "    aux = 0\n",
    "\n",
    "    with gzip.open(archivo, 'rt', encoding='utf-8') as file:\n",
    "        for line in file:\n",
    "            try:\n",
    "                line = line.strip()\n",
    "                # Buscar todas las ocurrencias de 'item_name'\n",
    "                ocurrencias_item_name = [i.start() for i in re.finditer(\"'item_name':\", line)]\n",
    "                # Reemplazar temporalmente las comillas simples en nombres de VJ por \"*\"\n",
    "                for indice_item_name in ocurrencias_item_name:\n",
    "                    #print(ocurrencias_item_name[indice_item_name])\n",
    "                    inicio_nombre = indice_item_name + 14\n",
    "                    #print(inicio_nombre)\n",
    "                    fin_nombre = line.find(\",\", inicio_nombre)-1\n",
    "                    #print(fin_nombre)\n",
    "                    #print(line[inicio_nombre:fin_nombre])\n",
    "                \n",
    "                    if line.find(\"\\\"\", inicio_nombre, fin_nombre):\n",
    "                        line = line[:inicio_nombre] + line[inicio_nombre:fin_nombre].replace(\"\\\"\", \"*\") + line[fin_nombre:]\n",
    "                    if line.find(\"\\\\\", inicio_nombre, fin_nombre):\n",
    "                        line = line[:inicio_nombre] + line[inicio_nombre:fin_nombre].replace(\"\\\\\", \"Ñ\") + line[fin_nombre:]\n",
    "                    if line[(inicio_nombre-1)] == '\"':\n",
    "                        line = line[:inicio_nombre] + line[inicio_nombre:fin_nombre].replace(\"'\", \"*\") + line[fin_nombre:]\n",
    "                    if line[(inicio_nombre-1)] == \"'\":\n",
    "                        line = line[:inicio_nombre] + line[inicio_nombre:fin_nombre].replace(\"'\", \"*\") + line[fin_nombre:]\n",
    "                \n",
    "                # Reemplazar comillas simples por dobles en toda la línea\n",
    "                line = line.replace(\"'\", \"\\\"\")\n",
    "                \n",
    "                # Restaurar comillas simples en nombres de VJ\n",
    "                line = line.replace(\"*\",\"'\")\n",
    "                \n",
    "                line = line.replace(\"Ñ\",\" \")\n",
    "                \n",
    "                # Cargar la línea corregida como objeto JSON\n",
    "                data = json.loads(line)\n",
    "                data_list.append(data)\n",
    "\n",
    "            except json.JSONDecodeError as e:\n",
    "                print(f\"Error en línea: {line.strip()}\")\n",
    "                print(e)\n",
    "            aux = aux + 1\n",
    "            #if aux == 1000:\n",
    "            #    aux = 0\n",
    "            #    break\n",
    "\n",
    "    return data_list\n"
   ]
  },
  {
   "cell_type": "code",
   "execution_count": 4,
   "metadata": {},
   "outputs": [
    {
     "ename": "FileNotFoundError",
     "evalue": "[Errno 2] No such file or directory: 'c:\\\\Users\\\\urtea\\\\OneDrive\\\\Documents\\\\Proyectos\\\\PI_Henry_Urteaga\\\\Datos\\\\users_items.json.gz'",
     "output_type": "error",
     "traceback": [
      "\u001b[1;31m---------------------------------------------------------------------------\u001b[0m",
      "\u001b[1;31mFileNotFoundError\u001b[0m                         Traceback (most recent call last)",
      "Cell \u001b[1;32mIn[4], line 3\u001b[0m\n\u001b[0;32m      1\u001b[0m \u001b[38;5;66;03m# 4.1. Ejecución de la función para cargar el archivo users_items\u001b[39;00m\n\u001b[1;32m----> 3\u001b[0m data_users_items \u001b[38;5;241m=\u001b[39m \u001b[43mabrir_users_items\u001b[49m\u001b[43m(\u001b[49m\u001b[43mruta_users_items\u001b[49m\u001b[43m)\u001b[49m\n\u001b[0;32m      4\u001b[0m df_users_items \u001b[38;5;241m=\u001b[39m pd\u001b[38;5;241m.\u001b[39mDataFrame(data_users_items)\n\u001b[0;32m      5\u001b[0m df_users_items\u001b[38;5;241m.\u001b[39mcolumns\n",
      "Cell \u001b[1;32mIn[3], line 7\u001b[0m, in \u001b[0;36mabrir_users_items\u001b[1;34m(archivo)\u001b[0m\n\u001b[0;32m      4\u001b[0m data_list \u001b[38;5;241m=\u001b[39m []\n\u001b[0;32m      5\u001b[0m aux \u001b[38;5;241m=\u001b[39m \u001b[38;5;241m0\u001b[39m\n\u001b[1;32m----> 7\u001b[0m \u001b[38;5;28;01mwith\u001b[39;00m \u001b[43mgzip\u001b[49m\u001b[38;5;241;43m.\u001b[39;49m\u001b[43mopen\u001b[49m\u001b[43m(\u001b[49m\u001b[43marchivo\u001b[49m\u001b[43m,\u001b[49m\u001b[43m \u001b[49m\u001b[38;5;124;43m'\u001b[39;49m\u001b[38;5;124;43mrt\u001b[39;49m\u001b[38;5;124;43m'\u001b[39;49m\u001b[43m,\u001b[49m\u001b[43m \u001b[49m\u001b[43mencoding\u001b[49m\u001b[38;5;241;43m=\u001b[39;49m\u001b[38;5;124;43m'\u001b[39;49m\u001b[38;5;124;43mutf-8\u001b[39;49m\u001b[38;5;124;43m'\u001b[39;49m\u001b[43m)\u001b[49m \u001b[38;5;28;01mas\u001b[39;00m file:\n\u001b[0;32m      8\u001b[0m     \u001b[38;5;28;01mfor\u001b[39;00m line \u001b[38;5;129;01min\u001b[39;00m file:\n\u001b[0;32m      9\u001b[0m         \u001b[38;5;28;01mtry\u001b[39;00m:\n",
      "File \u001b[1;32mc:\\Users\\urtea\\AppData\\Local\\Programs\\Python\\Python312\\Lib\\gzip.py:61\u001b[0m, in \u001b[0;36mopen\u001b[1;34m(filename, mode, compresslevel, encoding, errors, newline)\u001b[0m\n\u001b[0;32m     59\u001b[0m gz_mode \u001b[38;5;241m=\u001b[39m mode\u001b[38;5;241m.\u001b[39mreplace(\u001b[38;5;124m\"\u001b[39m\u001b[38;5;124mt\u001b[39m\u001b[38;5;124m\"\u001b[39m, \u001b[38;5;124m\"\u001b[39m\u001b[38;5;124m\"\u001b[39m)\n\u001b[0;32m     60\u001b[0m \u001b[38;5;28;01mif\u001b[39;00m \u001b[38;5;28misinstance\u001b[39m(filename, (\u001b[38;5;28mstr\u001b[39m, \u001b[38;5;28mbytes\u001b[39m, os\u001b[38;5;241m.\u001b[39mPathLike)):\n\u001b[1;32m---> 61\u001b[0m     binary_file \u001b[38;5;241m=\u001b[39m \u001b[43mGzipFile\u001b[49m\u001b[43m(\u001b[49m\u001b[43mfilename\u001b[49m\u001b[43m,\u001b[49m\u001b[43m \u001b[49m\u001b[43mgz_mode\u001b[49m\u001b[43m,\u001b[49m\u001b[43m \u001b[49m\u001b[43mcompresslevel\u001b[49m\u001b[43m)\u001b[49m\n\u001b[0;32m     62\u001b[0m \u001b[38;5;28;01melif\u001b[39;00m \u001b[38;5;28mhasattr\u001b[39m(filename, \u001b[38;5;124m\"\u001b[39m\u001b[38;5;124mread\u001b[39m\u001b[38;5;124m\"\u001b[39m) \u001b[38;5;129;01mor\u001b[39;00m \u001b[38;5;28mhasattr\u001b[39m(filename, \u001b[38;5;124m\"\u001b[39m\u001b[38;5;124mwrite\u001b[39m\u001b[38;5;124m\"\u001b[39m):\n\u001b[0;32m     63\u001b[0m     binary_file \u001b[38;5;241m=\u001b[39m GzipFile(\u001b[38;5;28;01mNone\u001b[39;00m, gz_mode, compresslevel, filename)\n",
      "File \u001b[1;32mc:\\Users\\urtea\\AppData\\Local\\Programs\\Python\\Python312\\Lib\\gzip.py:192\u001b[0m, in \u001b[0;36mGzipFile.__init__\u001b[1;34m(self, filename, mode, compresslevel, fileobj, mtime)\u001b[0m\n\u001b[0;32m    190\u001b[0m     mode \u001b[38;5;241m+\u001b[39m\u001b[38;5;241m=\u001b[39m \u001b[38;5;124m'\u001b[39m\u001b[38;5;124mb\u001b[39m\u001b[38;5;124m'\u001b[39m\n\u001b[0;32m    191\u001b[0m \u001b[38;5;28;01mif\u001b[39;00m fileobj \u001b[38;5;129;01mis\u001b[39;00m \u001b[38;5;28;01mNone\u001b[39;00m:\n\u001b[1;32m--> 192\u001b[0m     fileobj \u001b[38;5;241m=\u001b[39m \u001b[38;5;28mself\u001b[39m\u001b[38;5;241m.\u001b[39mmyfileobj \u001b[38;5;241m=\u001b[39m \u001b[43mbuiltins\u001b[49m\u001b[38;5;241;43m.\u001b[39;49m\u001b[43mopen\u001b[49m\u001b[43m(\u001b[49m\u001b[43mfilename\u001b[49m\u001b[43m,\u001b[49m\u001b[43m \u001b[49m\u001b[43mmode\u001b[49m\u001b[43m \u001b[49m\u001b[38;5;129;43;01mor\u001b[39;49;00m\u001b[43m \u001b[49m\u001b[38;5;124;43m'\u001b[39;49m\u001b[38;5;124;43mrb\u001b[39;49m\u001b[38;5;124;43m'\u001b[39;49m\u001b[43m)\u001b[49m\n\u001b[0;32m    193\u001b[0m \u001b[38;5;28;01mif\u001b[39;00m filename \u001b[38;5;129;01mis\u001b[39;00m \u001b[38;5;28;01mNone\u001b[39;00m:\n\u001b[0;32m    194\u001b[0m     filename \u001b[38;5;241m=\u001b[39m \u001b[38;5;28mgetattr\u001b[39m(fileobj, \u001b[38;5;124m'\u001b[39m\u001b[38;5;124mname\u001b[39m\u001b[38;5;124m'\u001b[39m, \u001b[38;5;124m'\u001b[39m\u001b[38;5;124m'\u001b[39m)\n",
      "\u001b[1;31mFileNotFoundError\u001b[0m: [Errno 2] No such file or directory: 'c:\\\\Users\\\\urtea\\\\OneDrive\\\\Documents\\\\Proyectos\\\\PI_Henry_Urteaga\\\\Datos\\\\users_items.json.gz'"
     ]
    }
   ],
   "source": [
    "# 3.1.2. Ejecución de la función para cargar el archivo users_items\n",
    "\n",
    "data_users_items = abrir_users_items(ruta_users_items)\n",
    "df_users_items = pd.DataFrame(data_users_items)\n",
    "df_users_items.columns"
   ]
  },
  {
   "cell_type": "code",
   "execution_count": 7,
   "metadata": {},
   "outputs": [],
   "source": [
    "# 3.2.1. Función para abrir el archivo users_reviews\n",
    "\n",
    "def abrir_users_reviews(archivo):\n",
    "    data_list = []\n",
    "    aux = 0\n",
    "\n",
    "    with gzip.open(archivo, 'rt', encoding='utf-8') as file:\n",
    "        for line in file:\n",
    "            # Reemplazar comillas simples por dobles en toda la línea\n",
    "            \n",
    "            line = line.strip()\n",
    "\n",
    "            # Buscar todas las ocurrencias de 'review'\n",
    "            ocurrencias_review = [i.start() for i in re.finditer(\"'review':\", line)]\n",
    "            # Reemplazar temporalmente las comillas simples en nombres de VJ por \"*\"\n",
    "            fin_ultimo_review = len(line)-4\n",
    "            for indice_review in ocurrencias_review:\n",
    "                #print(index,\" \",indice_review,\" \",ocurrencias_review)\n",
    "                inicio_review = indice_review + 11\n",
    "                \n",
    "                fin_review = (line.find(\"'funny'\",inicio_review)-5)\n",
    "            \n",
    "                if fin_review > 0:\n",
    "                    #print(line[indice_review:fin_review])\n",
    "                    line = line[:inicio_review] + line[inicio_review:fin_review].replace('\"','*') + line[fin_review:]\n",
    "                    line = line[:inicio_review] + line[inicio_review:fin_review].replace(\"'\",'*') + line[fin_review:]\n",
    "                    line = line[:inicio_review] + line[inicio_review:fin_review].replace(\"\\\\\", \"Ñ\") + line[fin_review:]\n",
    "                else:\n",
    "                    #print(line[indice_review:fin_ultimo_review])\n",
    "                    line = line[:inicio_review] + line[inicio_review:fin_ultimo_review].replace('\"','*') + line[fin_ultimo_review:]\n",
    "                    line = line[:inicio_review] + line[inicio_review:fin_ultimo_review].replace(\"'\",'*') + line[fin_ultimo_review:]\n",
    "                    line = line[:inicio_review] + line[inicio_review:fin_ultimo_review].replace(\"\\\\\", \"Ñ\") + line[fin_ultimo_review:]\n",
    "            \n",
    "            #print(line.find(\"'review'\"))\n",
    "            line = line.replace(\": True,\",': \"True\",')\n",
    "            line = line.replace(\": False,\", ': \"False\",')\n",
    "            line = line.replace(\"'\", \"\\\"\")\n",
    "            line = line.replace(\"*\", \"'\")\n",
    "            line = line.replace(\"Ñ\", \"\")\n",
    "            \n",
    "            try:\n",
    "                # Cargar la línea corregida como objeto JSON\n",
    "                data = json.loads(line)\n",
    "                data_list.append(data)\n",
    "                \n",
    "            except json.JSONDecodeError as e:\n",
    "                print(f\"Error en línea: {line.strip()}\")\n",
    "                print(e)\n",
    "            #aux = aux + 1\n",
    "            #if aux == 1000:\n",
    "            #    aux = 0\n",
    "            #    break\n",
    "\n",
    "    return data_list\n"
   ]
  },
  {
   "cell_type": "code",
   "execution_count": 8,
   "metadata": {},
   "outputs": [
    {
     "data": {
      "text/plain": [
       "Index(['user_id', 'user_url', 'reviews'], dtype='object')"
      ]
     },
     "execution_count": 8,
     "metadata": {},
     "output_type": "execute_result"
    }
   ],
   "source": [
    "# 3.2.2. Ejecución de la función para cargar el archivo users_reviews\n",
    "\n",
    "data_user_reviews = abrir_users_reviews(ruta_user_reviews)\n",
    "df_user_reviews= pd.DataFrame(data_user_reviews)\n",
    "df_user_reviews.columns"
   ]
  },
  {
   "cell_type": "code",
   "execution_count": 9,
   "metadata": {},
   "outputs": [],
   "source": [
    "# 3.3.1. Función para abrir el archivo steam_games\n",
    "\n",
    "def abrir_steam_games(archivo):\n",
    "    data_list = []\n",
    "    aux = 0\n",
    "    \n",
    "    with gzip.open(archivo, 'rt', encoding='utf-8') as file:\n",
    "        for line in file:\n",
    "            # Reemplazar comillas simples por dobles en toda la línea\n",
    "            #print(line)\n",
    "            line = line.strip()\n",
    "            try:\n",
    "                # Cargar la línea corregida como objeto JSON\n",
    "                data = json.loads(line)\n",
    "                data_list.append(data)\n",
    "                \n",
    "            except json.JSONDecodeError as e:\n",
    "                print(f\"Error en línea: {line.strip()}\")\n",
    "                print(e)\n",
    "                #aux = aux + 1\n",
    "                #if aux == 1000:\n",
    "                #    aux = 0\n",
    "                #    break\n",
    "\n",
    "    return data_list\n"
   ]
  },
  {
   "cell_type": "code",
   "execution_count": 10,
   "metadata": {},
   "outputs": [
    {
     "data": {
      "text/plain": [
       "Index(['publisher', 'genres', 'app_name', 'title', 'url', 'release_date',\n",
       "       'tags', 'reviews_url', 'specs', 'price', 'early_access', 'id',\n",
       "       'developer'],\n",
       "      dtype='object')"
      ]
     },
     "execution_count": 10,
     "metadata": {},
     "output_type": "execute_result"
    }
   ],
   "source": [
    "# 3.3.2. Ejecución de la función para cargar el archivo steam_games\n",
    "\n",
    "data_steam_games = abrir_steam_games(ruta_steam_games)\n",
    "df_steam_games = pd.DataFrame(data_steam_games)\n",
    "df_steam_games.columns"
   ]
  },
  {
   "cell_type": "markdown",
   "metadata": {},
   "source": [
    "### 4. Exportar los DataFrames como archivos .csv"
   ]
  },
  {
   "cell_type": "code",
   "execution_count": 11,
   "metadata": {},
   "outputs": [],
   "source": [
    "# 4. Exportar los DataFrames como archivos .csv\n",
    "\n",
    "df_users_items.to_csv(\"users_items_extraido\", index=False)\n",
    "df_user_reviews.to_csv(\"users_reviews_extraido\", index=False)\n",
    "df_steam_games.to_csv(\"steam_games_extraido\", index=False)"
   ]
  },
  {
   "cell_type": "markdown",
   "metadata": {},
   "source": [
    "**FIN**"
   ]
  }
 ],
 "metadata": {
  "kernelspec": {
   "display_name": "Python 3",
   "language": "python",
   "name": "python3"
  },
  "language_info": {
   "codemirror_mode": {
    "name": "ipython",
    "version": 3
   },
   "file_extension": ".py",
   "mimetype": "text/x-python",
   "name": "python",
   "nbconvert_exporter": "python",
   "pygments_lexer": "ipython3",
   "version": "3.12.1"
  }
 },
 "nbformat": 4,
 "nbformat_minor": 2
}
