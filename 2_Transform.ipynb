{
 "cells": [
  {
   "cell_type": "markdown",
   "metadata": {},
   "source": [
    "### Proyecto Individual Henry  \n",
    "**2_Transform**  \n",
    "Transformacion y limpieza de datos  \n",
    "**Autor: Bioing. Urteaga Facundo Nahuel**  \n",
    "\n",
    "**Resumen:** Se realiza el desanidado de algunas columnas específicas que contenían los datos anidados (items y reviews de cada usuario), la normalización de los tipos de datos de cada columna y limpieza en general. Este script comprende las siguientes etapas:\n",
    "\n",
    "1.  **Carga de librerías**\n",
    "2.  **Carga de datos (archivos .csv generados con el primer script)**\n",
    "3.  **Desanidado de df_items**\n",
    "4.  **Transformación y limpieza del df_items desanidado**\n",
    "5.  **Desanidado de df_reviews**\n",
    "6.  **Transformación y limpieza del df_reviews desanidado**\n",
    "7.  **Transformación y limpieza de df_games**\n",
    "8.  **Creación de df_games_genres, df_games_tags, df_games_specs con generos como variables dummies**\n",
    "9.  **Creación de df_games_tec con especificaciones técnicas de cada item**\n",
    "10. **Guardado de dataframes en formato parquet**"
   ]
  },
  {
   "cell_type": "code",
   "execution_count": 1,
   "metadata": {},
   "outputs": [],
   "source": [
    "# 1. Carga de librerías\n",
    "\n",
    "import pandas as pd\n",
    "import matplotlib.pyplot as plt\n",
    "import seaborn as sns\n",
    "import numpy as np\n",
    "from scipy.stats import norm\n",
    "from sklearn.preprocessing import StandardScaler\n",
    "from scipy import stats\n",
    "import warnings\n",
    "warnings.filterwarnings('ignore') # Para evitar los molestos avisos.\n",
    "%matplotlib inline\n",
    "import ast\n",
    "import time\n",
    "import re"
   ]
  },
  {
   "cell_type": "code",
   "execution_count": 2,
   "metadata": {},
   "outputs": [],
   "source": [
    "# 2. Carga de datos\n",
    "\n",
    "df_reviews = pd.read_csv(\"users_reviews_extraido\", low_memory = False) \n",
    "df_items = pd.read_csv(\"users_items_extraido\", low_memory = False)\n",
    "df_games = pd.read_csv(\"steam_games_extraido\", low_memory = False)\n"
   ]
  },
  {
   "cell_type": "code",
   "execution_count": 3,
   "metadata": {},
   "outputs": [],
   "source": [
    "# 3. Desanidado de df_items\n",
    "\n",
    "# Se crea un nuevo dataframe que contenga cada item de cada usuario con la cantidad de tiempo jugado\n",
    "# print(df_items.iloc[1,4]) <- Este dato se va a desanidar\n",
    "\n",
    "nombres_columnas = ['user_id', 'item_id', 'playtime_forever','playtime_2weeks']\n",
    "lst = []\n",
    "\n",
    "for line in range(0,len(df_items)):\n",
    "    \n",
    "    dic_items = ast.literal_eval(df_items[\"items\"][line])\n",
    "    for items in range(0,df_items[\"items_count\"][line]):\n",
    "        fila = [df_items[\"user_id\"][line], dic_items[items][\"item_id\"], dic_items[items][\"playtime_forever\"], dic_items[items][\"playtime_2weeks\"]]\n",
    "        lst.append(fila)\n",
    "\n",
    "df_des_items = pd.DataFrame(lst, columns= nombres_columnas)\n"
   ]
  },
  {
   "cell_type": "markdown",
   "metadata": {},
   "source": [
    "Transformación y limpieza de df_des_items"
   ]
  },
  {
   "cell_type": "code",
   "execution_count": 4,
   "metadata": {},
   "outputs": [
    {
     "name": "stdout",
     "output_type": "stream",
     "text": [
      "Posición de la fila original: 164185\n",
      "Posición de la fila duplicada: 164294\n"
     ]
    }
   ],
   "source": [
    "# 4. Transformación y limpieza de df_des_items\n",
    "\n",
    "# 4.1. Tratamiento de filas duplicadas\n",
    "\n",
    "# Encuentra las filas duplicadas\n",
    "filas_duplicadas = df_des_items[df_des_items.duplicated()]\n",
    "\n",
    "# Selecciona una fila específica de las filas duplicadas (por ejemplo, la primera fila duplicada)\n",
    "fila_especifica = filas_duplicadas.iloc[0]\n",
    "\n",
    "# Encuentra la posición de la fila específica original\n",
    "posicion_original = df_des_items[df_des_items.eq(fila_especifica).all(1)].index[0]\n",
    "\n",
    "# Imprime la posición de la fila y su duplicada\n",
    "print(\"Posición de la fila original:\", posicion_original)\n",
    "print(\"Posición de la fila duplicada:\", fila_especifica.name)"
   ]
  },
  {
   "cell_type": "code",
   "execution_count": 5,
   "metadata": {},
   "outputs": [
    {
     "data": {
      "text/plain": [
       "user_id             Nikiad\n",
       "item_id                 20\n",
       "playtime_forever         5\n",
       "playtime_2weeks          0\n",
       "Name: 164185, dtype: object"
      ]
     },
     "execution_count": 5,
     "metadata": {},
     "output_type": "execute_result"
    }
   ],
   "source": [
    "df_des_items.iloc[164185]"
   ]
  },
  {
   "cell_type": "code",
   "execution_count": 6,
   "metadata": {},
   "outputs": [
    {
     "data": {
      "text/plain": [
       "user_id             Nikiad\n",
       "item_id                 20\n",
       "playtime_forever         5\n",
       "playtime_2weeks          0\n",
       "Name: 164294, dtype: object"
      ]
     },
     "execution_count": 6,
     "metadata": {},
     "output_type": "execute_result"
    }
   ],
   "source": [
    "df_des_items.iloc[164294]"
   ]
  },
  {
   "cell_type": "code",
   "execution_count": 7,
   "metadata": {},
   "outputs": [],
   "source": [
    "# Eliminamos muestras duplicadas\n",
    "\n",
    "df_des_items = df_des_items.drop_duplicates()"
   ]
  },
  {
   "cell_type": "code",
   "execution_count": 8,
   "metadata": {},
   "outputs": [
    {
     "name": "stdout",
     "output_type": "stream",
     "text": [
      "user_id             0\n",
      "item_id             0\n",
      "playtime_forever    0\n",
      "playtime_2weeks     0\n",
      "dtype: int64\n"
     ]
    }
   ],
   "source": [
    "# 4.2. Tratamiento de valores nulos\n",
    "\n",
    "# Exploro valores nulos por columna\n",
    "# Calcular la cantidad de valores nulos por columna\n",
    "valores_nulos_por_columna = df_des_items.isnull().sum()\n",
    "\n",
    "# Imprimir la cantidad de valores nulos por columna\n",
    "print(valores_nulos_por_columna)"
   ]
  },
  {
   "cell_type": "code",
   "execution_count": 9,
   "metadata": {},
   "outputs": [
    {
     "name": "stdout",
     "output_type": "stream",
     "text": [
      "user_id             0\n",
      "item_id             0\n",
      "playtime_forever    0\n",
      "playtime_2weeks     0\n",
      "dtype: int64\n"
     ]
    }
   ],
   "source": [
    "# 4.3. Tratamiento de valores nan\n",
    "\n",
    "# Exploro valores nan por columna\n",
    "# Calcular la cantidad de valores nulos y NaN por columna\n",
    "valores_nulos_nan_por_columna = df_des_items.isna().sum()\n",
    "\n",
    "# Imprimir la cantidad de valores nulos y NaN por columna\n",
    "print(valores_nulos_nan_por_columna)"
   ]
  },
  {
   "cell_type": "code",
   "execution_count": 10,
   "metadata": {},
   "outputs": [
    {
     "name": "stdout",
     "output_type": "stream",
     "text": [
      "<class 'pandas.core.frame.DataFrame'>\n",
      "Index: 5094105 entries, 0 to 5153208\n",
      "Data columns (total 4 columns):\n",
      " #   Column            Dtype \n",
      "---  ------            ----- \n",
      " 0   user_id           object\n",
      " 1   item_id           object\n",
      " 2   playtime_forever  int64 \n",
      " 3   playtime_2weeks   int64 \n",
      "dtypes: int64(2), object(2)\n",
      "memory usage: 194.3+ MB\n"
     ]
    }
   ],
   "source": [
    "# 4.4. Control de tipo de dato por columna\n",
    "\n",
    "df_des_items.info()"
   ]
  },
  {
   "cell_type": "code",
   "execution_count": 11,
   "metadata": {},
   "outputs": [],
   "source": [
    "df_des_items['user_id'] = df_des_items['user_id'].astype(str)\n",
    "df_des_items['item_id'] = df_des_items['item_id'].astype(int)"
   ]
  },
  {
   "cell_type": "code",
   "execution_count": 12,
   "metadata": {},
   "outputs": [
    {
     "data": {
      "text/plain": [
       "<Axes: xlabel='playtime_forever', ylabel='Density'>"
      ]
     },
     "execution_count": 12,
     "metadata": {},
     "output_type": "execute_result"
    },
    {
     "data": {
      "image/png": "[encoded data removed]",
      "text/plain": [
       "<Figure size 640x480 with 1 Axes>"
      ]
     },
     "metadata": {},
     "output_type": "display_data"
    }
   ],
   "source": [
    "# 4.5. Detección de valores atípicos\n",
    "\n",
    "sns.distplot(df_des_items['playtime_forever'])"
   ]
  },
  {
   "cell_type": "code",
   "execution_count": 13,
   "metadata": {},
   "outputs": [
    {
     "data": {
      "text/plain": [
       "<Axes: xlabel='playtime_2weeks', ylabel='Density'>"
      ]
     },
     "execution_count": 13,
     "metadata": {},
     "output_type": "execute_result"
    },
    {
     "data": {
      "image/png": "[encoded data removed]",
      "text/plain": [
       "<Figure size 640x480 with 1 Axes>"
      ]
     },
     "metadata": {},
     "output_type": "display_data"
    }
   ],
   "source": [
    "sns.distplot(df_des_items['playtime_2weeks'])"
   ]
  },
  {
   "cell_type": "code",
   "execution_count": 14,
   "metadata": {},
   "outputs": [],
   "source": [
    "# Hago lo mismo, pero no como minutos aislados sino acumulador por user_id\n",
    "\n",
    "df_time_forever_user = df_des_items.groupby('user_id')['playtime_forever'].sum().reset_index()\n",
    "df_time_2week_user = df_des_items.groupby('user_id')['playtime_2weeks'].sum().reset_index()\n"
   ]
  },
  {
   "cell_type": "code",
   "execution_count": 15,
   "metadata": {},
   "outputs": [
    {
     "data": {
      "text/plain": [
       "52202    223199\n",
       "42043    157009\n",
       "49877    123358\n",
       "53421    101801\n",
       "3210     101337\n",
       "16504     73935\n",
       "61455     64766\n",
       "48314     54385\n",
       "55541     45871\n",
       "60409     37493\n",
       "Name: playtime_2weeks, dtype: int64"
      ]
     },
     "execution_count": 15,
     "metadata": {},
     "output_type": "execute_result"
    }
   ],
   "source": [
    "df_time_2week_user['playtime_2weeks'].nlargest(10)"
   ]
  },
  {
   "cell_type": "code",
   "execution_count": 16,
   "metadata": {},
   "outputs": [
    {
     "data": {
      "text/plain": [
       "<Axes: xlabel='playtime_forever', ylabel='Density'>"
      ]
     },
     "execution_count": 16,
     "metadata": {},
     "output_type": "execute_result"
    },
    {
     "data": {
      "image/png": "[encoded data removed]",
      "text/plain": [
       "<Figure size 640x480 with 1 Axes>"
      ]
     },
     "metadata": {},
     "output_type": "display_data"
    }
   ],
   "source": [
    "sns.distplot(df_time_forever_user['playtime_forever'])"
   ]
  },
  {
   "cell_type": "code",
   "execution_count": 17,
   "metadata": {},
   "outputs": [
    {
     "data": {
      "text/plain": [
       "<Axes: xlabel='playtime_2weeks', ylabel='Density'>"
      ]
     },
     "execution_count": 17,
     "metadata": {},
     "output_type": "execute_result"
    },
    {
     "data": {
      "image/png": "[encoded data removed]",
      "text/plain": [
       "<Figure size 640x480 with 1 Axes>"
      ]
     },
     "metadata": {},
     "output_type": "display_data"
    }
   ],
   "source": [
    "sns.distplot(df_time_2week_user['playtime_2weeks'])"
   ]
  },
  {
   "cell_type": "code",
   "execution_count": 18,
   "metadata": {},
   "outputs": [],
   "source": [
    "# 5. Desanidado de df_reviews\n",
    "\n",
    "# Creo el dataframe vacío que quiero obtener\n",
    "\n",
    "# Nombres de las columnas\n",
    "nombres_columnas = ['user_id', 'item_id', 'funny','helpful','recommend','review']  # Puedes agregar más nombres si lo necesitas\n",
    "\n",
    "# Crear DataFrame vacío con los nombres de las columnas\n",
    "#df_des_reviews = pd.DataFrame(columns=nombres_columnas)\n",
    "\n",
    "lst = []\n",
    "aux_cuenta = 0\n",
    "for line in range(0,len(df_reviews)):\n",
    "    \n",
    "    dic_reviews = ast.literal_eval(df_reviews[\"reviews\"][line])\n",
    "    aux_cuenta = aux_cuenta + len(dic_reviews)\n",
    "    for review in range(0,len(dic_reviews)):\n",
    "        \n",
    "        fila = [df_reviews[\"user_id\"][line], dic_reviews[review][\"item_id\"], dic_reviews[review][\"funny\"], dic_reviews[review][\"helpful\"], \n",
    "                dic_reviews[review][\"recommend\"],dic_reviews[review]['review']]\n",
    "        lst.append(fila)\n",
    "        #print(fila)\n",
    "\n",
    "df_des_reviews = pd.DataFrame(lst, columns= nombres_columnas)\n",
    "\n",
    "# Imprimir la lista de diccionarios\n",
    "#print(lista_diccionarios[1][\"item_id\"])"
   ]
  },
  {
   "cell_type": "code",
   "execution_count": 19,
   "metadata": {},
   "outputs": [
    {
     "name": "stdout",
     "output_type": "stream",
     "text": [
      "user_id      0\n",
      "item_id      0\n",
      "funny        0\n",
      "helpful      0\n",
      "recommend    0\n",
      "review       0\n",
      "dtype: int64\n"
     ]
    }
   ],
   "source": [
    "print(df_des_reviews.isna().sum()) # No hay nans"
   ]
  },
  {
   "cell_type": "code",
   "execution_count": 20,
   "metadata": {},
   "outputs": [
    {
     "name": "stdout",
     "output_type": "stream",
     "text": [
      "user_id          0\n",
      "item_id          0\n",
      "funny        51154\n",
      "helpful          0\n",
      "recommend        0\n",
      "review          31\n",
      "dtype: int64\n"
     ]
    }
   ],
   "source": [
    "# 6. Transformación y limpieza de df_des_reviews\n",
    "\n",
    "# Contar valores vacíos en cada columna\n",
    "valores_vacios_por_columna = (df_des_reviews == \"\").sum()\n",
    "\n",
    "# Sumar el total de valores vacíos en todo el DataFrame\n",
    "print(valores_vacios_por_columna) # Valores vacíos en funny y en review"
   ]
  },
  {
   "cell_type": "code",
   "execution_count": 21,
   "metadata": {},
   "outputs": [
    {
     "data": {
      "text/plain": [
       "Index(['user_id', 'item_id', 'funny', 'helpful', 'recommend', 'review'], dtype='object')"
      ]
     },
     "execution_count": 21,
     "metadata": {},
     "output_type": "execute_result"
    }
   ],
   "source": [
    "df_des_reviews.columns"
   ]
  },
  {
   "cell_type": "code",
   "execution_count": 22,
   "metadata": {},
   "outputs": [],
   "source": [
    "#print(df_des_reviews[\"helpful\"].value_counts())\n",
    "posiciones = []\n",
    "\n",
    "for line in range(0,len(df_des_reviews)):\n",
    "    cadena = df_des_reviews[\"helpful\"][line]\n",
    "    \n",
    "    if cadena.find(',') > 0:\n",
    "        cadena = cadena.replace(',', '')  # Eliminar la coma\n",
    "    \n",
    "    pos_of = cadena.find(\"of\")\n",
    "    pos_people = cadena.find(\"people\")\n",
    "    pos_porc_1 = cadena.find(\"(\")\n",
    "    pos_porc_2 = cadena.find(\")\")\n",
    "\n",
    "    if pos_of > 0:\n",
    "        df_des_reviews.loc[line, \"op_pos\"] = int(cadena[:(pos_of-1)])\n",
    "        df_des_reviews.loc[line, \"op_tot\"] = int(cadena[(pos_of+3):(pos_people-1)])\n",
    "        df_des_reviews.loc[line, \"op_porc\"] = int(cadena[(pos_porc_1+1):(pos_porc_2-1)])\n",
    "        \n",
    "        # Para chequear que los valores esten bien\n",
    "        chequeo = df_des_reviews.loc[line, \"op_pos\"]/df_des_reviews.loc[line, \"op_tot\"]\n",
    "        porc = df_des_reviews.loc[line, \"op_porc\"]/100\n",
    "        if(porc > 0):\n",
    "            if 0.5>(chequeo/porc) or 1.5<(chequeo/porc):\n",
    "                print((chequeo/porc))\n",
    "    else:\n",
    "        df_des_reviews.loc[line, \"op_pos\"] = np.nan\n",
    "        df_des_reviews.loc[line, \"op_tot\"] = np.nan\n",
    "        df_des_reviews.loc[line, \"op_porc\"] = np.nan\n",
    "    \n",
    "    "
   ]
  },
  {
   "cell_type": "code",
   "execution_count": 23,
   "metadata": {},
   "outputs": [],
   "source": [
    "df_des_reviews = df_des_reviews.drop(columns=['funny'])\n",
    "df_des_reviews = df_des_reviews.drop(columns=['helpful'])"
   ]
  },
  {
   "cell_type": "code",
   "execution_count": 24,
   "metadata": {},
   "outputs": [
    {
     "data": {
      "text/plain": [
       "<Axes: xlabel='op_porc', ylabel='Density'>"
      ]
     },
     "execution_count": 24,
     "metadata": {},
     "output_type": "execute_result"
    },
    {
     "data": {
      "image/png": "[encoded data removed]",
      "text/plain": [
       "<Figure size 640x480 with 1 Axes>"
      ]
     },
     "metadata": {},
     "output_type": "display_data"
    }
   ],
   "source": [
    "sns.distplot(df_des_reviews['op_porc'])"
   ]
  },
  {
   "cell_type": "code",
   "execution_count": 25,
   "metadata": {},
   "outputs": [
    {
     "data": {
      "text/plain": [
       "<Axes: xlabel='op_tot', ylabel='Density'>"
      ]
     },
     "execution_count": 25,
     "metadata": {},
     "output_type": "execute_result"
    },
    {
     "data": {
      "image/png": "[encoded data removed]",
      "text/plain": [
       "<Figure size 640x480 with 1 Axes>"
      ]
     },
     "metadata": {},
     "output_type": "display_data"
    }
   ],
   "source": [
    "sns.distplot(df_des_reviews['op_tot'])"
   ]
  },
  {
   "cell_type": "code",
   "execution_count": 26,
   "metadata": {},
   "outputs": [
    {
     "name": "stdout",
     "output_type": "stream",
     "text": [
      "<class 'pandas.core.frame.DataFrame'>\n",
      "RangeIndex: 59305 entries, 0 to 59304\n",
      "Data columns (total 7 columns):\n",
      " #   Column     Non-Null Count  Dtype  \n",
      "---  ------     --------------  -----  \n",
      " 0   user_id    59305 non-null  object \n",
      " 1   item_id    59305 non-null  object \n",
      " 2   recommend  59305 non-null  object \n",
      " 3   review     59305 non-null  object \n",
      " 4   op_pos     29137 non-null  float64\n",
      " 5   op_tot     29137 non-null  float64\n",
      " 6   op_porc    29137 non-null  float64\n",
      "dtypes: float64(3), object(4)\n",
      "memory usage: 3.2+ MB\n"
     ]
    }
   ],
   "source": [
    "df_des_reviews.info()"
   ]
  },
  {
   "cell_type": "code",
   "execution_count": 27,
   "metadata": {},
   "outputs": [],
   "source": [
    "# Convierto los tipo de datos de las columnas\n",
    "\n",
    "df_des_reviews['user_id'] = df_des_reviews['user_id'].astype(str)\n",
    "df_des_reviews['item_id'] = df_des_reviews['item_id'].astype(int)\n",
    "df_des_reviews[\"recommend\"] = df_des_reviews[\"recommend\"].map({'True': True, 'False': False})\n",
    "df_des_reviews['review'] = df_des_reviews['review'].astype(str)"
   ]
  },
  {
   "cell_type": "code",
   "execution_count": 28,
   "metadata": {},
   "outputs": [
    {
     "name": "stdout",
     "output_type": "stream",
     "text": [
      "<class 'pandas.core.frame.DataFrame'>\n",
      "RangeIndex: 59305 entries, 0 to 59304\n",
      "Data columns (total 7 columns):\n",
      " #   Column     Non-Null Count  Dtype  \n",
      "---  ------     --------------  -----  \n",
      " 0   user_id    59305 non-null  object \n",
      " 1   item_id    59305 non-null  int32  \n",
      " 2   recommend  59305 non-null  bool   \n",
      " 3   review     59305 non-null  object \n",
      " 4   op_pos     29137 non-null  float64\n",
      " 5   op_tot     29137 non-null  float64\n",
      " 6   op_porc    29137 non-null  float64\n",
      "dtypes: bool(1), float64(3), int32(1), object(2)\n",
      "memory usage: 2.5+ MB\n"
     ]
    }
   ],
   "source": [
    "df_des_reviews.info()"
   ]
  },
  {
   "cell_type": "code",
   "execution_count": 29,
   "metadata": {},
   "outputs": [],
   "source": [
    "# 7. Transformación y limpieza de df_games\n",
    "\n",
    "df_des_games = df_games.dropna(how='all') #120445"
   ]
  },
  {
   "cell_type": "code",
   "execution_count": 30,
   "metadata": {},
   "outputs": [
    {
     "name": "stdout",
     "output_type": "stream",
     "text": [
      "<class 'pandas.core.frame.DataFrame'>\n",
      "Index: 32135 entries, 88310 to 120444\n",
      "Data columns (total 13 columns):\n",
      " #   Column        Non-Null Count  Dtype  \n",
      "---  ------        --------------  -----  \n",
      " 0   publisher     24064 non-null  object \n",
      " 1   genres        28852 non-null  object \n",
      " 2   app_name      32133 non-null  object \n",
      " 3   title         30085 non-null  object \n",
      " 4   url           32135 non-null  object \n",
      " 5   release_date  30068 non-null  object \n",
      " 6   tags          31972 non-null  object \n",
      " 7   reviews_url   32133 non-null  object \n",
      " 8   specs         31465 non-null  object \n",
      " 9   price         30758 non-null  object \n",
      " 10  early_access  32135 non-null  object \n",
      " 11  id            32133 non-null  float64\n",
      " 12  developer     28836 non-null  object \n",
      "dtypes: float64(1), object(12)\n",
      "memory usage: 3.4+ MB\n"
     ]
    }
   ],
   "source": [
    "# Chequeo elementos vacíos por columna y tipo de dato\n",
    "\n",
    "df_des_games.info()"
   ]
  },
  {
   "cell_type": "code",
   "execution_count": 31,
   "metadata": {},
   "outputs": [
    {
     "name": "stdout",
     "output_type": "stream",
     "text": [
      "True     29530\n",
      "False     2605\n",
      "Name: count, dtype: int64\n"
     ]
    }
   ],
   "source": [
    "# Observamos que ambas columnas tienen el mismo dato\n",
    "\n",
    "conteo_valores = (df_des_games['app_name'] == df_des_games['title']).value_counts()\n",
    "print(conteo_valores)\n"
   ]
  },
  {
   "cell_type": "code",
   "execution_count": 32,
   "metadata": {},
   "outputs": [],
   "source": [
    "# Eliminar filas en las que ambas columnas son nulas\n",
    "df_des_games = df_des_games.dropna(subset=['app_name', 'title'], how='all')\n"
   ]
  },
  {
   "cell_type": "code",
   "execution_count": 33,
   "metadata": {},
   "outputs": [],
   "source": [
    "# Si en alguna de las dos columnas falta el dato, se completa con el de la otra columna\n",
    "\n",
    "# Corregir los valores nulos en las columnas \"app_name\" y \"title\"\n",
    "df_des_games[\"app_name\"].fillna(df_des_games[\"title\"], inplace=True)\n",
    "df_des_games[\"title\"].fillna(df_des_games[\"app_name\"], inplace=True)"
   ]
  },
  {
   "cell_type": "code",
   "execution_count": 34,
   "metadata": {},
   "outputs": [
    {
     "name": "stdout",
     "output_type": "stream",
     "text": [
      "                                             app_name  \\\n",
      "88390                    Sam & Max 101: Culture Shock   \n",
      "88393                Sam & Max 102: Situation: Comedy   \n",
      "88419                  Command & Conquer: Red Alert 3   \n",
      "88492      Heroes of Might & Magic V: Hammers of Fate   \n",
      "88494   Heroes of Might & Magic V: Tribes of the East   \n",
      "...                                               ...   \n",
      "120181                     Sam & Max 105: Reality 2.0   \n",
      "120182           Sam & Max 104: Abe Lincoln Must Die!   \n",
      "120183         Sam & Max 106: Bright Side of the Moon   \n",
      "120208           Making History: The Calm & the Storm   \n",
      "120362                  Dark Messiah of Might & Magic   \n",
      "\n",
      "                                                    title  \n",
      "88390                    Sam &amp; Max 101: Culture Shock  \n",
      "88393                Sam &amp; Max 102: Situation: Comedy  \n",
      "88419                  Command &amp; Conquer: Red Alert 3  \n",
      "88492      Heroes of Might &amp; Magic V: Hammers of Fate  \n",
      "88494   Heroes of Might &amp; Magic V: Tribes of the East  \n",
      "...                                                   ...  \n",
      "120181                     Sam &amp; Max 105: Reality 2.0  \n",
      "120182           Sam &amp; Max 104: Abe Lincoln Must Die!  \n",
      "120183         Sam &amp; Max 106: Bright Side of the Moon  \n",
      "120208           Making History: The Calm &amp; the Storm  \n",
      "120362                  Dark Messiah of Might &amp; Magic  \n",
      "\n",
      "[555 rows x 2 columns]\n"
     ]
    }
   ],
   "source": [
    "# Filtrar el DataFrame para obtener filas donde las columnas 'app_name' y 'title' no son iguales\n",
    "filas_no_iguales = df_des_games[df_des_games['app_name'] != df_des_games['title']]\n",
    "\n",
    "# Mostrar ejemplos de filas donde las columnas no son iguales\n",
    "print(filas_no_iguales[['app_name', 'title']])"
   ]
  },
  {
   "cell_type": "code",
   "execution_count": 35,
   "metadata": {},
   "outputs": [
    {
     "data": {
      "text/plain": [
       "str"
      ]
     },
     "execution_count": 35,
     "metadata": {},
     "output_type": "execute_result"
    }
   ],
   "source": [
    "type(df_des_games[\"genres\"].iloc[1])"
   ]
  },
  {
   "cell_type": "code",
   "execution_count": 36,
   "metadata": {},
   "outputs": [
    {
     "name": "stdout",
     "output_type": "stream",
     "text": [
      "<class 'pandas.core.series.Series'>\n",
      "Index: 32133 entries, 88310 to 120444\n",
      "Series name: genres\n",
      "Non-Null Count  Dtype \n",
      "--------------  ----- \n",
      "28851 non-null  object\n",
      "dtypes: object(1)\n",
      "memory usage: 502.1+ KB\n"
     ]
    }
   ],
   "source": [
    "df_des_games[\"genres\"].info()"
   ]
  },
  {
   "cell_type": "code",
   "execution_count": 37,
   "metadata": {},
   "outputs": [],
   "source": [
    "# 8. Creación de df_games_genres, df_games_tags, df_games_specs con generos como variables dummies\n",
    "\n",
    "# Reemplazo nos nan por listas vacías\n",
    "for fila in range(len(df_des_games)):\n",
    "    if pd.isna(df_des_games[\"genres\"].iloc[fila]):\n",
    "        df_des_games[\"genres\"].iloc[fila] = []\n",
    "    if pd.isna(df_des_games[\"tags\"].iloc[fila]):\n",
    "        df_des_games[\"tags\"].iloc[fila] = []\n",
    "    if pd.isna(df_des_games[\"specs\"].iloc[fila]):\n",
    "        df_des_games[\"specs\"].iloc[fila] = []"
   ]
  },
  {
   "cell_type": "code",
   "execution_count": 38,
   "metadata": {},
   "outputs": [],
   "source": [
    "# Transformo str en listas de str\n",
    "for fila in range(len(df_des_games)):\n",
    "    if df_des_games[\"genres\"].iloc[fila] != []:\n",
    "        df_des_games[\"genres\"].iloc[fila] = ast.literal_eval(df_des_games[\"genres\"].iloc[fila])\n",
    "    if df_des_games[\"tags\"].iloc[fila] != []:\n",
    "        df_des_games[\"tags\"].iloc[fila] = ast.literal_eval(df_des_games[\"tags\"].iloc[fila])\n",
    "    if df_des_games[\"specs\"].iloc[fila] != []:\n",
    "        df_des_games[\"specs\"].iloc[fila] = ast.literal_eval(df_des_games[\"specs\"].iloc[fila])"
   ]
  },
  {
   "cell_type": "code",
   "execution_count": 39,
   "metadata": {},
   "outputs": [],
   "source": [
    "# Primero, convierte las listas en una sola lista plana\n",
    "lista_de_nombres_genres = [nombre for sublist in df_des_games[\"genres\"] for nombre in sublist]\n",
    "lista_de_nombres_tags = [nombre for sublist in df_des_games[\"tags\"] for nombre in sublist]\n",
    "lista_de_nombres_specs = [nombre for sublist in df_des_games[\"specs\"] for nombre in sublist]\n",
    "\n",
    "# Luego, crea un conjunto (set) para obtener los valores únicos\n",
    "valores_unicos_genres = set(lista_de_nombres_genres)\n",
    "valores_unicos_tags = set(lista_de_nombres_tags)\n",
    "valores_unicos_specs = set(lista_de_nombres_specs)\n",
    "\n",
    "# Finalmente, cuenta la longitud del conjunto para obtener el número de valores únicos\n",
    "num_valores_unicos_genres = len(valores_unicos_genres)\n",
    "num_valores_unicos_tags = len(valores_unicos_tags)\n",
    "num_valores_unicos_specs = len(valores_unicos_specs)\n",
    "\n",
    "# Imprime el resultado\n",
    "#print(valores_unicos)"
   ]
  },
  {
   "cell_type": "code",
   "execution_count": 40,
   "metadata": {},
   "outputs": [],
   "source": [
    "# Crea un conjunto de todos los géneros únicos\n",
    "unique_genres = set(g for sublist in df_des_games['genres'] for g in sublist)\n",
    "# Crea un conjunto de todos los tags únicos\n",
    "unique_tags = set(g for sublist in df_des_games['tags'] for g in sublist)\n",
    "# Crea un conjunto de todos los specs únicos\n",
    "unique_specs = set(g for sublist in df_des_games['specs'] for g in sublist)\n",
    "\n",
    "# Creo nuevos DF\n",
    "\n",
    "df_games_genres = df_des_games[[\"id\",\"genres\"]]\n",
    "df_games_tags = df_des_games[[\"id\",\"tags\"]]\n",
    "df_games_specs = df_des_games[[\"id\",\"specs\"]]\n",
    "\n",
    "# Para cada género único, crea una nueva columna en el DataFrame con valores True/False\n",
    "for genre in unique_genres:\n",
    "    df_games_genres[genre] = df_des_games['genres'].apply(lambda x: genre in x).astype(int)\n",
    "# Para cada género único, crea una nueva columna en el DataFrame con valores True/False\n",
    "for tag in unique_tags:\n",
    "    df_games_tags[tag] = df_des_games['tags'].apply(lambda x: tag in x).astype(int)\n",
    "# Para cada género único, crea una nueva columna en el DataFrame con valores True/False\n",
    "for spec in unique_specs:\n",
    "    df_games_specs[spec] = df_des_games['specs'].apply(lambda x: spec in x).astype(int)"
   ]
  },
  {
   "cell_type": "code",
   "execution_count": 41,
   "metadata": {},
   "outputs": [
    {
     "data": {
      "text/plain": [
       "Index(['publisher', 'genres', 'app_name', 'title', 'url', 'release_date',\n",
       "       'tags', 'reviews_url', 'specs', 'price', 'early_access', 'id',\n",
       "       'developer'],\n",
       "      dtype='object')"
      ]
     },
     "execution_count": 41,
     "metadata": {},
     "output_type": "execute_result"
    }
   ],
   "source": [
    "df_des_games.columns"
   ]
  },
  {
   "cell_type": "code",
   "execution_count": 42,
   "metadata": {},
   "outputs": [],
   "source": [
    "# 9. Creación de df_games_tec con especificaciones técnicas de cada item\n",
    "\n",
    "df_games_tec = df_des_games[['app_name', 'id', 'publisher', 'release_date', 'price', 'developer']]\n",
    "df_games_tec = df_games_tec.reset_index(drop=True)"
   ]
  },
  {
   "cell_type": "code",
   "execution_count": 43,
   "metadata": {},
   "outputs": [],
   "source": [
    "df_games_tec['price'] = df_games_tec['price'].replace('', np.nan)"
   ]
  },
  {
   "cell_type": "code",
   "execution_count": 44,
   "metadata": {},
   "outputs": [
    {
     "name": "stdout",
     "output_type": "stream",
     "text": [
      "Celdas que no contienen un punto '.' en la columna 'price':\n",
      "price\n",
      "Free                             905\n",
      "Free to Play                     520\n",
      "Free To Play                     462\n",
      "Free Mod                           4\n",
      "Free Demo                          3\n",
      "Play for Free!                     2\n",
      "Third-party                        2\n",
      "Play Now                           2\n",
      "Install Now                        1\n",
      "Play WARMACHINE: Tactics Demo      1\n",
      "Install Theme                      1\n",
      "Free HITMAN™ Holiday Pack          1\n",
      "Play the Demo                      1\n",
      "Free to Try                        1\n",
      "Free Movie                         1\n",
      "Free to Use                        1\n",
      "Name: count, dtype: int64\n"
     ]
    }
   ],
   "source": [
    "# Imprime las celdas que no contienen un punto \".\"\n",
    "print(\"Celdas que no contienen un punto '.' en la columna 'price':\")\n",
    "non_decimal_prices = df_games_tec[~df_games_tec['price'].str.contains(\"\\.\", na=False)]\n",
    "print(non_decimal_prices[\"price\"].value_counts())\n",
    "\n",
    "# Luego, reemplaza las celdas que no son numéricas con un valor numérico específico, por ejemplo, 0\n",
    "df_games_tec.loc[~df_games_tec['price'].str.contains(\"\\.\", na=False), 'price'] = '0'"
   ]
  },
  {
   "cell_type": "code",
   "execution_count": 45,
   "metadata": {},
   "outputs": [
    {
     "name": "stdout",
     "output_type": "stream",
     "text": [
      "Valor no numérico en la fila 24998: Starting at $499.00\n",
      "Valor no numérico en la fila 24999: Starting at $449.00\n"
     ]
    }
   ],
   "source": [
    "# Luego, reemplaza las celdas que no son numéricas con un valor numérico específico, por ejemplo, 0\n",
    "for index, value in df_games_tec['price'].items():\n",
    "    try:\n",
    "        if not pd.isnull(value) and not value.replace('.', '', 1).isdigit():\n",
    "            print(f\"Valor no numérico en la fila {index}: {value}\")\n",
    "            # Pintar la celda aquí\n",
    "            continue\n",
    "    except AttributeError:\n",
    "        print(f\"Error al convertir a numérico en la fila {index}: {value}\")\n",
    "        # Pintar la celda aquí\n",
    "        continue"
   ]
  },
  {
   "cell_type": "code",
   "execution_count": 46,
   "metadata": {},
   "outputs": [],
   "source": [
    "df_games_tec[\"price\"].iloc[24998] = 499.00\n",
    "df_games_tec[\"price\"].iloc[24999] = 449.00"
   ]
  },
  {
   "cell_type": "code",
   "execution_count": 47,
   "metadata": {},
   "outputs": [],
   "source": [
    "# Ahora, convierte la columna 'price' a tipo numérico\n",
    "df_games_tec['price'] = pd.to_numeric(df_games_tec['price'])"
   ]
  },
  {
   "cell_type": "code",
   "execution_count": 48,
   "metadata": {},
   "outputs": [],
   "source": [
    "# Convierte los valores nulos en la columna 'release_date' en NaN\n",
    "df_games_tec['release_date'] = df_games_tec['release_date'].replace('', np.nan)\n",
    "df_games_tec['publisher'] = df_games_tec['publisher'].replace('', np.nan)\n",
    "df_games_tec['developer'] = df_games_tec['developer'].replace('', np.nan)\n",
    "df_games_tec.dropna(subset=['id'], inplace=True)"
   ]
  },
  {
   "cell_type": "code",
   "execution_count": 49,
   "metadata": {},
   "outputs": [],
   "source": [
    "# Todas las celdas que no tengan fechas son cambiadas a nan\n",
    "df_games_tec.loc[~df_games_tec['release_date'].str.contains(\"[12]\", na=False), 'release_date'] = np.nan"
   ]
  },
  {
   "cell_type": "code",
   "execution_count": 50,
   "metadata": {},
   "outputs": [
    {
     "name": "stdout",
     "output_type": "stream",
     "text": [
      "43               2017\n",
      "249          Jun 2009\n",
      "505          Oct 2010\n",
      "508          Oct 2010\n",
      "509          Oct 2010\n",
      "             ...     \n",
      "32079         Q1 2018\n",
      "32080      15.01.2018\n",
      "32081        Q1, 2018\n",
      "32095            2016\n",
      "32121    January 2018\n",
      "Name: release_date, Length: 185, dtype: object\n"
     ]
    }
   ],
   "source": [
    "seleccion = df_games_tec[~df_games_tec['release_date'].str.contains(\"-\", na=True)]\n",
    "print(df_games_tec.loc[seleccion.index, 'release_date'])"
   ]
  },
  {
   "cell_type": "code",
   "execution_count": 51,
   "metadata": {},
   "outputs": [],
   "source": [
    "\n",
    "# Crea una función para extraer el año de la fecha\n",
    "def extract_year(date_str):\n",
    "    # Busca \"20\" o \"19\" seguido de 4 dígitos consecutivos\n",
    "    year_match = re.search(r\"(20|19)\\d{2}\", date_str)\n",
    "    if year_match:\n",
    "        return year_match.group(0)\n",
    "    else:\n",
    "        return None\n",
    "\n",
    "# Aplica la función a la columna 'release_date'\n",
    "df_games_tec.loc[seleccion.index, 'release_date'] = df_games_tec['release_date'].apply(lambda x: extract_year(x) if pd.notnull(x) else None)\n"
   ]
  },
  {
   "cell_type": "code",
   "execution_count": 52,
   "metadata": {},
   "outputs": [
    {
     "name": "stdout",
     "output_type": "stream",
     "text": [
      "43       2017\n",
      "249      2009\n",
      "505      2010\n",
      "508      2010\n",
      "509      2010\n",
      "         ... \n",
      "32079    2018\n",
      "32080    2018\n",
      "32081    2018\n",
      "32095    2016\n",
      "32121    2018\n",
      "Name: release_date, Length: 185, dtype: object\n"
     ]
    }
   ],
   "source": [
    "print(df_games_tec.loc[seleccion.index, 'release_date'])"
   ]
  },
  {
   "cell_type": "code",
   "execution_count": 53,
   "metadata": {},
   "outputs": [
    {
     "name": "stdout",
     "output_type": "stream",
     "text": [
      "Series([], Name: release_date, dtype: object)\n"
     ]
    }
   ],
   "source": [
    "seleccion = df_games_tec[~df_games_tec['release_date'].str.contains(\"[21-]\", na=True)]\n",
    "print(df_games_tec.loc[seleccion.index, 'release_date'])"
   ]
  },
  {
   "cell_type": "code",
   "execution_count": 54,
   "metadata": {},
   "outputs": [],
   "source": [
    "# Crea una función para extraer el año de la fecha\n",
    "def extract_year(date_str):\n",
    "    # Busca \"20\" o \"19\" seguido de 4 dígitos consecutivos\n",
    "    year_match = re.search(r\"(20|19)\\d{2}\", date_str)\n",
    "    if year_match:\n",
    "        return year_match.group(0)\n",
    "    else:\n",
    "        return None"
   ]
  },
  {
   "cell_type": "code",
   "execution_count": 55,
   "metadata": {},
   "outputs": [],
   "source": [
    "# Convierte la columna 'release_date' a tipo datetime si aún no lo está\n",
    "df_games_tec['release_date'] = pd.to_datetime(df_games_tec['release_date'], errors = 'coerce')"
   ]
  },
  {
   "cell_type": "code",
   "execution_count": 56,
   "metadata": {},
   "outputs": [],
   "source": [
    "# Extraer el año en una nueva columna\n",
    "df_games_tec['release_year'] = df_games_tec['release_date'].dt.year\n",
    "\n",
    "# Si la fecha solo tiene el año (por ejemplo, \"2010\"), la conversión anterior producirá un NaT (Not a Time), así que debemos rellenar esos valores con el año extraído de la misma columna\n",
    "df_games_tec['release_year'] = df_games_tec['release_year'].fillna(df_games_tec['release_date'].dt.strftime('%Y'))\n",
    "\n",
    "# Convertir 'año' a tipo entero si es posible\n",
    "df_games_tec['release_year'] = pd.to_numeric(df_games_tec['release_year'], errors='coerce').astype('Int64')"
   ]
  },
  {
   "cell_type": "code",
   "execution_count": 57,
   "metadata": {},
   "outputs": [
    {
     "data": {
      "text/plain": [
       "release_year\n",
       "2017    9518\n",
       "2016    6933\n",
       "2015    4945\n",
       "2014    2831\n",
       "2013    1551\n",
       "2012    1191\n",
       "2011     589\n",
       "2010     436\n",
       "2009     337\n",
       "2008     213\n",
       "2007     167\n",
       "2006     155\n",
       "2005     102\n",
       "2018      96\n",
       "2003      84\n",
       "2004      79\n",
       "2001      69\n",
       "1998      61\n",
       "1999      55\n",
       "2002      50\n",
       "1997      42\n",
       "2000      40\n",
       "1996      39\n",
       "1994      36\n",
       "1993      34\n",
       "1995      33\n",
       "1991      16\n",
       "1992      15\n",
       "1990      12\n",
       "1989      10\n",
       "1987       9\n",
       "1988       7\n",
       "1984       4\n",
       "1983       4\n",
       "1985       3\n",
       "1982       3\n",
       "1981       3\n",
       "2019       3\n",
       "1970       2\n",
       "1986       1\n",
       "2021       1\n",
       "1975       1\n",
       "1980       1\n",
       "Name: count, dtype: Int64"
      ]
     },
     "execution_count": 57,
     "metadata": {},
     "output_type": "execute_result"
    }
   ],
   "source": [
    "df_games_tec[\"release_year\"].value_counts()"
   ]
  },
  {
   "cell_type": "code",
   "execution_count": 58,
   "metadata": {},
   "outputs": [
    {
     "name": "stdout",
     "output_type": "stream",
     "text": [
      "<class 'pandas.core.frame.DataFrame'>\n",
      "Index: 32132 entries, 0 to 32132\n",
      "Data columns (total 7 columns):\n",
      " #   Column        Non-Null Count  Dtype         \n",
      "---  ------        --------------  -----         \n",
      " 0   app_name      32132 non-null  object        \n",
      " 1   id            32132 non-null  float64       \n",
      " 2   publisher     24063 non-null  object        \n",
      " 3   release_date  29781 non-null  datetime64[ns]\n",
      " 4   price         32132 non-null  float64       \n",
      " 5   developer     28835 non-null  object        \n",
      " 6   release_year  29781 non-null  Int64         \n",
      "dtypes: Int64(1), datetime64[ns](1), float64(2), object(3)\n",
      "memory usage: 3.0+ MB\n"
     ]
    }
   ],
   "source": [
    "df_games_tec.info()"
   ]
  },
  {
   "cell_type": "code",
   "execution_count": 59,
   "metadata": {},
   "outputs": [],
   "source": [
    "# 10. Guardado de dataframes en formato parquet\n",
    "\n",
    "df_games_tec.rename(columns={'id': 'item_id'}, inplace=True)\n",
    "df_games_genres.rename(columns={'id': 'item_id'}, inplace=True)\n",
    "df_games_specs.rename(columns={'id': 'item_id'}, inplace=True)\n",
    "df_games_tags.rename(columns={'id': 'item_id'}, inplace=True)"
   ]
  },
  {
   "cell_type": "code",
   "execution_count": 60,
   "metadata": {},
   "outputs": [],
   "source": [
    "df_games_tec = df_games_tec.reset_index(drop=True)\n",
    "df_games_genres = df_games_genres.reset_index(drop=True) \n",
    "df_games_specs = df_games_specs.reset_index(drop=True)\n",
    "df_games_tags = df_games_tags.reset_index(drop=True)\n",
    "df_des_reviews = df_des_reviews.reset_index(drop=True) \n",
    "df_des_items = df_des_items.reset_index(drop=True)"
   ]
  },
  {
   "cell_type": "code",
   "execution_count": 61,
   "metadata": {},
   "outputs": [],
   "source": [
    "df_games_tec.to_parquet('df_games_tec.parquet')\n",
    "df_games_genres.to_parquet('df_games_genres.parquet')\n",
    "df_games_specs.to_parquet('df_games_specs.parquet')\n",
    "df_games_tags.to_parquet('df_games_tags.parquet')\n",
    "df_des_reviews.to_parquet('df_reviews.parquet')\n",
    "df_des_items.to_parquet('df_items.parquet')"
   ]
  }
 ],
 "metadata": {
  "kernelspec": {
   "display_name": "Python 3",
   "language": "python",
   "name": "python3"
  },
  "language_info": {
   "codemirror_mode": {
    "name": "ipython",
    "version": 3
   },
   "file_extension": ".py",
   "mimetype": "text/x-python",
   "name": "python",
   "nbconvert_exporter": "python",
   "pygments_lexer": "ipython3",
   "version": "3.12.1"
  }
 },
 "nbformat": 4,
 "nbformat_minor": 2
}
